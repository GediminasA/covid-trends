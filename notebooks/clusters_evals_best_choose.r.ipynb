{
 "cells": [
  {
   "cell_type": "code",
   "execution_count": 2,
   "id": "34d02ed9",
   "metadata": {},
   "outputs": [],
   "source": [
    "library(dplyr)\n",
    "library(data.table)\n",
    "library(tidyr)\n",
    "library(dtplyr)\n",
    "library(stringr)\n",
    "library(ggplot2)"
   ]
  },
  {
   "cell_type": "code",
   "execution_count": 3,
   "id": "2f9e1026",
   "metadata": {},
   "outputs": [],
   "source": [
    "n = str_split(\"File\tN\tNall\tp\tmean\tmin\tmax\tsd\",pattern = \"\\t\")[[1]]\n",
    "nd = str_split(\"N\tNall\tmean\tmin\tmax\tsd\",pattern = \"\\t\")[[1]]\n",
    "nv = str_split(\"File\tN\tNall\tmean\tmin\tmax\tsd\",pattern = \"\\t\")[[1]]\n",
    "df = fread(snakemake@input[[1]], col.names = n)"
   ]
  },
  {
   "cell_type": "code",
   "execution_count": 4,
   "id": "a65e6879",
   "metadata": {},
   "outputs": [],
   "source": [
    "dfl <- pivot_longer(data = df,cols = unlist(nd), names_to = \"measure\", values_to = \"values\" ) %>%\n",
    "    as.data.frame()"
   ]
  },
  {
   "cell_type": "code",
   "execution_count": 5,
   "id": "12699507",
   "metadata": {},
   "outputs": [],
   "source": [
    "dfl"
   ]
  },
  {
   "cell_type": "code",
   "execution_count": 6,
   "id": "4eefda96",
   "metadata": {},
   "outputs": [],
   "source": [
    "ggplot(data=dfl, aes(x=p, y=values)) + geom_line() + facet_grid(rows = vars(measure), scales = \"free_y\")"
   ]
  },
  {
   "cell_type": "code",
   "execution_count": 7,
   "id": "a15b216b",
   "metadata": {},
   "outputs": [],
   "source": [
    "q95 = quantile(df$N, 0.95)[[1]]\n",
    "df2 <- df %>%\n",
    "    filter(N>=q95) %>%\n",
    "    as.data.frame()\n",
    "dfl2 <- pivot_longer(data = df2,cols = unlist(nd), names_to = \"measure\", values_to = \"values\" ) %>%\n",
    "    as.data.frame()\n",
    "ggplot(data=dfl2, aes(x=p, y=values)) + geom_line() + facet_grid(rows = vars(measure), scales = \"free_y\")"
   ]
  },
  {
   "cell_type": "code",
   "execution_count": 8,
   "id": "7a9bc9b4",
   "metadata": {},
   "outputs": [],
   "source": [
    "df95 <- df %>%\n",
    "    filter(N >= q95) %>%\n",
    "    arrange(sd) %>%\n",
    "    as.data.frame()"
   ]
  },
  {
   "cell_type": "code",
   "execution_count": 9,
   "id": "5897a623",
   "metadata": {},
   "outputs": [],
   "source": [
    "p = df95$p[[1]]\n",
    "\n",
    "f_cluster = df95$File[[1]]\n",
    "df_cluster = fread(f_cluster)\n",
    "dfo <- df_cluster %>%\n",
    "    group_by(ClusterNumber) %>%\n",
    "    summarise(C=list(SequenceName)) %>%\n",
    "    as.data.frame()"
   ]
  },
  {
   "cell_type": "code",
   "execution_count": 10,
   "id": "064044ee",
   "metadata": {},
   "outputs": [],
   "source": [
    "cldf <- fread(snakemake@input$merged)\n",
    "\n",
    "df <- fread(f_cluster)\n",
    "\n",
    "data <- fread(snakemake@input$data, select = c(\"taxon\",\"month\"))\n",
    "\n",
    "cldf2 <- cldf %>%\n",
    "    left_join(data, by = c(\"Member\"=\"taxon\")) %>%\n",
    "    mutate(Cluster = str_replace_all(Cluster,pattern = \"'\",replacement = \"\")) %>%\n",
    "    left_join(df, by=c(\"Cluster\"=\"SequenceName\")) %>%\n",
    "    as.data.frame()\n",
    "\n",
    "mnths = unique(sort(data$month))\n",
    "m1 = mnths[[1]]\n",
    "m2 = mnths[[length(mnths)]]\n",
    "\n",
    "df2 <- cldf2 %>%\n",
    "    filter(month == m1 | month ==m2)\n",
    "df3 <- df2  %>%\n",
    "    group_by(ClusterNumber, month) %>%\n",
    "    summarise(N=n()) %>%\n",
    "    tidyr::pivot_wider(names_from = month, values_from = N) %>%\n",
    "    na.omit() %>%\n",
    "    rowwise() %>%\n",
    "    mutate(total_nmb = sum(c_across(starts_with(\"20\")))) %>%\n",
    "    as.data.frame()\n",
    "df3$ratio <- df3[,2] / df3[,3]\n",
    "good <- df3 %>%\n",
    "    filter(total_nmb >= 200) %>%\n",
    "    filter(ratio < 1, ratio > 0.1, ClusterNumber != -1)\n",
    "print(good)\n",
    "print(f_cluster)\n",
    "df3"
   ]
  },
  {
   "cell_type": "code",
   "execution_count": 14,
   "id": "8c755958",
   "metadata": {},
   "outputs": [],
   "source": [
    "#fwrite(snakemake@output$best, x = good)"
   ]
  },
  {
   "cell_type": "code",
   "execution_count": 11,
   "id": "cdd3e777",
   "metadata": {},
   "outputs": [],
   "source": [
    "#dfo$ClusterNumber\n",
    "dir.create(snakemake@output$clusters)\n",
    "good$ClusterNumber\n",
    "dfoo <- dfo %>%\n",
    "    filter(ClusterNumber %in% good$ClusterNumber)\n",
    "ct = 0\n",
    "for (l in dfoo$C) {\n",
    "    ct = ct + 1\n",
    "    #write only ten top clusters\n",
    "        if (ct <= snakemake@params$max_number_of_cluster_to_write) {\n",
    "        outf = paste(snakemake@output$clusters,\"/\",\"cl\",ct,sep=\"\")\n",
    "        dft <- cldf %>%\n",
    "            filter(Cluster %in% l) %>%\n",
    "            select(Member) %>%\n",
    "            as.data.frame()\n",
    "        fwrite(x = dft,file = outf, col.names = F, row.names = F)   \n",
    "    }\n",
    "\n",
    "}"
   ]
  }
 ],
 "metadata": {
  "kernelspec": {
   "display_name": "R",
   "language": "R",
   "name": "ir"
  },
  "language_info": {
   "codemirror_mode": "r",
   "file_extension": ".r",
   "mimetype": "text/x-r-source",
   "name": "R",
   "pygments_lexer": "r",
   "version": "4.2.2"
  }
 },
 "nbformat": 4,
 "nbformat_minor": 5
}
