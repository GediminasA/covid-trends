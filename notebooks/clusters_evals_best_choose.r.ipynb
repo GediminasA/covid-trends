{
 "cells": [
  {
   "cell_type": "code",
   "execution_count": 3,
   "id": "34d02ed9",
   "metadata": {},
   "outputs": [],
   "source": [
    "library(dplyr)\n",
    "library(data.table)\n",
    "library(tidyr)\n",
    "library(dtplyr)\n",
    "library(stringr)\n",
    "library(ggplot2)"
   ]
  },
  {
   "cell_type": "code",
   "execution_count": 4,
   "id": "2f9e1026",
   "metadata": {},
   "outputs": [],
   "source": [
    "df = fread(snakemake@input[[1]])"
   ]
  },
  {
   "cell_type": "code",
   "execution_count": 5,
   "id": "a65e6879",
   "metadata": {},
   "outputs": [],
   "source": [
    "\"N\tNall\tsnakemake.wildcards.p\tmeanv\tminv\tmaxv\tsdv\""
   ]
  }
 ],
 "metadata": {
  "kernelspec": {
   "display_name": "R",
   "language": "R",
   "name": "ir"
  },
  "language_info": {
   "codemirror_mode": "r",
   "file_extension": ".r",
   "mimetype": "text/x-r-source",
   "name": "R",
   "pygments_lexer": "r",
   "version": "4.2.2"
  }
 },
 "nbformat": 4,
 "nbformat_minor": 5
}
