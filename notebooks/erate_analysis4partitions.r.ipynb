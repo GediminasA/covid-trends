{
 "cells": [
  {
   "cell_type": "code",
   "execution_count": 2,
   "id": "efea13fc",
   "metadata": {},
   "outputs": [],
   "source": [
    "library(ggplot2)\n",
    "library(tidyr)\n",
    "library(dplyr)\n",
    "library(data.table)"
   ]
  },
  {
   "cell_type": "code",
   "execution_count": 6,
   "id": "2cf465c3",
   "metadata": {},
   "outputs": [],
   "source": [
    "df <- fread(snakemake@input[[1]], header = F)\n",
    "head(df)"
   ]
  },
  {
   "cell_type": "code",
   "execution_count": 4,
   "id": "5df0bbb6",
   "metadata": {},
   "outputs": [],
   "source": [
    "df2 <- df %>%\n",
    "    tidyr::separate(V3, sep = \"S|N\", into = c(\"V5\",\"V6\",\"V7\")) %>%\n",
    "    select(Measure = V1, Lineage = V2, Amount = V6, Seed = V7, Value = V4)\n",
    "g <- ggplot(data = df2, aes(x=Lineage, y = Value, color = Seed)) + geom_point() + facet_grid(rows = vars(Measure), scales = \"free\")"
   ]
  },
  {
   "cell_type": "code",
   "execution_count": 5,
   "id": "b5de283f",
   "metadata": {},
   "outputs": [],
   "source": [
    "g"
   ]
  },
  {
   "cell_type": "code",
   "execution_count": 7,
   "id": "3bb1f7f3",
   "metadata": {},
   "outputs": [],
   "source": [
    "df3 <- df2 %>%\n",
    "    pivot_wider(names_from = Measure, values_from = Value)\n",
    "df3t <- df3 %>%\n",
    "    group_by(Lineage) %>%\n",
    "    summarise(Rate =mean(rate)) %>%\n",
    "    arrange(-Rate)\n",
    "df3$Lineage = factor(df3$Lineage, levels = df3t$Lineage)\n",
    "df3"
   ]
  },
  {
   "cell_type": "code",
   "execution_count": 11,
   "id": "4b49519c",
   "metadata": {},
   "outputs": [],
   "source": [
    "ggplot(data = df3, aes(x=Lineage, y = rate)) + geom_boxplot() + facet_grid(rows = vars(Amount))"
   ]
  },
  {
   "cell_type": "code",
   "execution_count": 12,
   "id": "a30472d9",
   "metadata": {},
   "outputs": [],
   "source": [
    "fwrite(x=df3, file=snakemake@output[[1]])"
   ]
  }
 ],
 "metadata": {
  "kernelspec": {
   "display_name": "R",
   "language": "R",
   "name": "ir"
  },
  "language_info": {
   "codemirror_mode": "r",
   "file_extension": ".r",
   "mimetype": "text/x-r-source",
   "name": "R",
   "pygments_lexer": "r",
   "version": "4.2.2"
  }
 },
 "nbformat": 4,
 "nbformat_minor": 5
}
