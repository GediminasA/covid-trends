{
 "cells": [
  {
   "cell_type": "code",
   "execution_count": 2,
   "id": "afd32f8d",
   "metadata": {},
   "outputs": [],
   "source": [
    "library(dplyr)\n",
    "library(data.table)\n",
    "library(tidyr)"
   ]
  },
  {
   "cell_type": "code",
   "execution_count": 13,
   "id": "e856bc6d",
   "metadata": {},
   "outputs": [],
   "source": [
    "df <- fread(cmd = paste( \"grep 'step:' \",snakemake@input$calc_data), header = F) %>%\n",
    "    separate(col = V3,into = c('V3',\"DATE_COR\"), sep = \":\") %>%\n",
    "    separate(col = V2,into = c('V2',\"LOSS\"), sep = \":\") %>%\n",
    "    separate(col = V9,into = c('V9',\"MUTATION_RATE\"), sep = \":\") %>%\n",
    "    select(-starts_with(\"V\"))\n",
    "df$LINEAGE <- snakemake@wildcards$id \n",
    "\n",
    "dfo1 <- df %>%\n",
    "    as.data.frame() %>%\n",
    "    mutate_at(c(\"LOSS\"),as.numeric) %>%\n",
    "    slice_min(order_by = LOSS,n = 1,with_ties = F)\n",
    "\n",
    "\n",
    "dfo1"
   ]
  },
  {
   "cell_type": "code",
   "execution_count": 18,
   "id": "3778caeb",
   "metadata": {},
   "outputs": [],
   "source": [
    "df2 <- fread(cmd = paste( \"grep 'regr' \",snakemake@input$calc_data), header = F) "
   ]
  },
  {
   "cell_type": "code",
   "execution_count": 27,
   "id": "5dd0543c",
   "metadata": {},
   "outputs": [],
   "source": [
    "dfo1$START_MUTATION_RATE <- df2$V8\n",
    "fwrite(x = dfo1, file = snakemake@output[[1]] )"
   ]
  }
 ],
 "metadata": {
  "kernelspec": {
   "display_name": "R",
   "language": "R",
   "name": "ir"
  },
  "language_info": {
   "codemirror_mode": "r",
   "file_extension": ".r",
   "mimetype": "text/x-r-source",
   "name": "R",
   "pygments_lexer": "r",
   "version": "4.2.2"
  }
 },
 "nbformat": 4,
 "nbformat_minor": 5
}
