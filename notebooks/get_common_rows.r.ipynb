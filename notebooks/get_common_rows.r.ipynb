{
 "cells": [
  {
   "cell_type": "code",
   "execution_count": 2,
   "id": "97bc2493",
   "metadata": {},
   "outputs": [],
   "source": [
    "library(data.table)\n",
    "library(dplyr)\n",
    "library(ggplot2)"
   ]
  },
  {
   "cell_type": "code",
   "execution_count": 3,
   "id": "e74a4cbd",
   "metadata": {},
   "outputs": [],
   "source": [
    "refposs = fread(snakemake@input$ref_kept,header = F, col.names = c(\"Position\"))\n",
    "refposs$Lineage = snakemake@params$ref\n",
    "idposs = fread(snakemake@input$id_kept,header = F,col.names = c(\"Position\"))\n",
    "idposs$Lineage = snakemake@params$id\n"
   ]
  },
  {
   "cell_type": "code",
   "execution_count": 4,
   "id": "421e51d8",
   "metadata": {},
   "outputs": [],
   "source": [
    "bothdf <- bind_rows(refposs,idposs)\n",
    "bothdf$KEPT <- 1\n",
    "head(bothdf)"
   ]
  },
  {
   "cell_type": "code",
   "execution_count": 5,
   "id": "4c4c0a30",
   "metadata": {},
   "outputs": [],
   "source": [
    "options(repr.plot.width=10, repr.plot.height=2, jupyter.plot_mimetypes = \"image/svg+xml\")\n",
    "\n",
    "ggplot(data = bothdf) +\n",
    "geom_point(aes(x=Position,y=KEPT, color =Lineage),size=0.1) +\n",
    "ylim(0.5,1.5) +\n",
    "labs(y=\"\")+\n",
    "guides(color = \"none\") +\n",
    "facet_grid(rows = vars(Lineage)) +\n",
    " theme(axis.ticks.y = element_blank(),\n",
    "        axis.text.y = element_blank())"
   ]
  },
  {
   "cell_type": "code",
   "execution_count": 6,
   "id": "f0e15822",
   "metadata": {},
   "outputs": [],
   "source": [
    "intersects = intersect(refposs$Position,idposs$Position)\n",
    "intersectposs = data.table(Position = intersects)\n",
    "intersectposs$Lineage <- \"Both\"\n",
    "intersectposs$KEPT <- 1"
   ]
  },
  {
   "cell_type": "code",
   "execution_count": 7,
   "id": "f1f8d95a",
   "metadata": {},
   "outputs": [],
   "source": [
    "bothdf <- bind_rows(bothdf,intersectposs)\n",
    "summarydf <- bothdf %>%\n",
    "    group_by(Lineage) %>%\n",
    "    summarise(Positions=n())\n",
    "print(summarydf)"
   ]
  },
  {
   "cell_type": "code",
   "execution_count": 8,
   "id": "66e7274c",
   "metadata": {},
   "outputs": [],
   "source": [
    "intersectposs$KEPT <- NULL\n",
    "intersectposs$Lineage <- NULL\n",
    "fwrite(file = snakemake@output$id_kept,x = intersectposs, col.names = F)"
   ]
  }
 ],
 "metadata": {
  "kernelspec": {
   "display_name": "R",
   "language": "R",
   "name": "ir"
  },
  "language_info": {
   "codemirror_mode": "r",
   "file_extension": ".r",
   "mimetype": "text/x-r-source",
   "name": "R",
   "pygments_lexer": "r",
   "version": "4.2.2"
  }
 },
 "nbformat": 4,
 "nbformat_minor": 5
}
