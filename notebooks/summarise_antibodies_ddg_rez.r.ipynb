{
 "cells": [
  {
   "cell_type": "code",
   "execution_count": null,
   "id": "b8a866c9",
   "metadata": {},
   "outputs": [],
   "source": [
    "library(dplyr)\n",
    "library(data.table)\n",
    "library(tidyr)\n",
    "library(lubridate)\n",
    "library(ggplot2)"
   ]
  },
  {
   "cell_type": "code",
   "execution_count": null,
   "id": "430a0c29-9763-4828-9d0e-1e939ec8e29b",
   "metadata": {},
   "outputs": [],
   "source": [
    "ddg = fread(snakemake@input$preds) %>%\n",
    "    select(MutationsID, Mutations,PDB,dEVOEF1,dPRODIGY,ddG) %>%\n",
    "    mutate(seqname = strsplit(x = MutationsID, split = \"|\", fixed = T )) %>%\n",
    "    select(-MutationsID) %>%\n",
    "    unnest(cols = seqname)\n",
    "nrow(ddg)"
   ]
  },
  {
   "cell_type": "code",
   "execution_count": null,
   "id": "a4620688-bafb-4c94-bec0-33f7564479d5",
   "metadata": {},
   "outputs": [],
   "source": [
    "df = fread(snakemake@input$additional_data)\n",
    "ddg2 <- ddg %>%\n",
    "    left_join(df, by = \"seqname\")\n",
    "ddg2\n",
    "    #left_join(ddg, by = \"seqname\")"
   ]
  },
  {
   "cell_type": "code",
   "execution_count": null,
   "id": "61472e87-64b8-4d04-921a-ec89007ae25e",
   "metadata": {},
   "outputs": [],
   "source": [
    "ddg4viz <- ddg2\n",
    "ddg4viz$monthlabel <- ddg2$month\n",
    "ddg4viz$month <- lubridate::parse_date_time(ddg2$month, \"ym\")\n",
    "ddg4viz$month <- factor(ddg4viz$month, levels = sort(unique(ddg4viz$month)))\n",
    "\n",
    "ddg4viz <- ddg4viz%>%\n",
    "   pivot_longer(cols = c(\"dEVOEF1\", \"dPRODIGY\", \"ddG\"), names_to = \"Term\", values_to = \"ddG\")"
   ]
  },
  {
   "cell_type": "code",
   "execution_count": null,
   "id": "667bd1ae-0e7d-4897-8c5f-1dfc4f2a8b5f",
   "metadata": {},
   "outputs": [],
   "source": [
    "names(ddg4viz)"
   ]
  },
  {
   "cell_type": "code",
   "execution_count": null,
   "id": "0510a6e6-e809-48e9-a243-915080cbacc8",
   "metadata": {},
   "outputs": [],
   "source": [
    "options(repr.plot.width=20, repr.plot.height=15)\n",
    "p <- ggplot(data = ddg4viz) + geom_boxplot(aes (x = month, y = ddG)) +\n",
    "    facet_wrap(~Term,  ncol=1, scales = \"free\") +\n",
    "    theme(\n",
    "        text = element_text(size = 20),\n",
    "        axis.text.x = element_text(angle = 90)\n",
    "    ) +\n",
    "    scale_x_discrete(labels = abbreviate) +\n",
    "    xlab(\"Month\")\n",
    "p"
   ]
  },
  {
   "cell_type": "code",
   "execution_count": null,
   "id": "bc5b09f0-7485-4eca-af6d-e2ee872d3fdd",
   "metadata": {},
   "outputs": [],
   "source": [
    "ggsave(file = snakemake@output$png4rep, plot = p, dpi = 300, width = 20, height = 15)\n",
    "fwrite(x = ddg2, file = snakemake@output$csv4rep )"
   ]
  }
 ],
 "metadata": {
  "kernelspec": {
   "display_name": "R",
   "language": "R",
   "name": "ir"
  },
  "language_info": {
   "codemirror_mode": "r",
   "file_extension": ".r",
   "mimetype": "text/x-r-source",
   "name": "R",
   "pygments_lexer": "r",
   "version": "4.3.1"
  }
 },
 "nbformat": 4,
 "nbformat_minor": 5
}
