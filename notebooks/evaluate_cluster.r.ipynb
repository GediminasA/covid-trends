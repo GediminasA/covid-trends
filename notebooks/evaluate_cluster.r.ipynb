{
 "cells": [
  {
   "cell_type": "code",
   "execution_count": 11,
   "id": "1532f74a",
   "metadata": {},
   "outputs": [],
   "source": [
    "library(dplyr)\n",
    "library(data.table)\n",
    "library(tidyr)\n",
    "library(dtplyr)\n",
    "library(stringr)"
   ]
  },
  {
   "cell_type": "code",
   "execution_count": 12,
   "id": "07ce81c3",
   "metadata": {},
   "outputs": [],
   "source": [
    "cldf <- fread(snakemake@input$merged)"
   ]
  },
  {
   "cell_type": "code",
   "execution_count": 13,
   "id": "57278aaf",
   "metadata": {},
   "outputs": [],
   "source": [
    "head(cldf)"
   ]
  },
  {
   "cell_type": "code",
   "execution_count": 14,
   "id": "ff1499b7",
   "metadata": {},
   "outputs": [],
   "source": [
    "df <- fread(snakemake@input$cluster)"
   ]
  },
  {
   "cell_type": "code",
   "execution_count": 15,
   "id": "b393dafa",
   "metadata": {},
   "outputs": [],
   "source": [
    "data <- fread(snakemake@input$data, select = c(\"taxon\",\"month\"))"
   ]
  },
  {
   "cell_type": "code",
   "execution_count": 16,
   "id": "00da7f72",
   "metadata": {},
   "outputs": [],
   "source": [
    "cldf2 <- cldf %>%\n",
    "    left_join(data, by = c(\"Member\"=\"taxon\")) %>%\n",
    "    mutate(Cluster = str_replace_all(Cluster,pattern = \"'\",replacement = \"\")) %>%\n",
    "    left_join(df, by=c(\"Cluster\"=\"SequenceName\")) %>%\n",
    "    as.data.frame()"
   ]
  },
  {
   "cell_type": "code",
   "execution_count": 17,
   "id": "6cb2fcab",
   "metadata": {},
   "outputs": [],
   "source": [
    "head(cldf2)"
   ]
  },
  {
   "cell_type": "code",
   "execution_count": 18,
   "id": "2f03eca2",
   "metadata": {},
   "outputs": [],
   "source": [
    "mnths = unique(sort(data$month))\n",
    "m1 = mnths[[1]]\n",
    "m2 = mnths[[length(mnths)]]"
   ]
  },
  {
   "cell_type": "code",
   "execution_count": 23,
   "id": "33859bca",
   "metadata": {},
   "outputs": [],
   "source": [
    "df2 <- cldf2 %>%\n",
    "    filter(month == m1 | month ==m2)\n",
    "df3 <- df2  %>%\n",
    "    group_by(ClusterNumber, month) %>%\n",
    "    summarise(N=n()) %>%\n",
    "    tidyr::pivot_wider(names_from = month, values_from = N) %>%\n",
    "    na.omit() %>%\n",
    "    rowwise() %>%\n",
    "    mutate(total_nmb = sum(c_across(starts_with(\"20\")))) %>%\n",
    "    as.data.frame()\n",
    "df3$ratio <- df3[,2] / df3[,3]\n",
    "df3nonmin <- df3 %>%\n",
    "    filter(ClusterNumber != -1)\n",
    "df3$ratio <- df3[,2] / df3[,3]\n",
    "good <- df3 %>%\n",
    "    filter(total_nmb >= 200) %>%\n",
    "    filter(ratio < 1, ratio > 0.1, ClusterNumber != -1)\n",
    "# good <- df3 %>%\n",
    "#     filter(total_nmb >= 200) %>%\n",
    "#     filter(ratio < 1, ratio > 0.1, ClusterNumber != -1)\n",
    "sd = sd(good$total_nmb)\n",
    "\n",
    "out=data.frame(File = snakemake@input$cluster ,N=nrow(good), Nall=nrow(df3nonmin), snakemake@wildcards$p,\n",
    "              meanv = mean(good$total_nmb, na.rm = TRUE), minv = min(good$total_nmb, na.rm = TRUE), maxv = max(good$total_nmb, na.rm = TRUE), sdv = sd(good$total_nmb, na.rm = TRUE))\n",
    "fwrite(x = out, row.names = F,col.names = F, file = snakemake@output[[1]],na='NA')\n",
    "out\n"
   ]
  }
 ],
 "metadata": {
  "kernelspec": {
   "display_name": "R",
   "language": "R",
   "name": "ir"
  },
  "language_info": {
   "codemirror_mode": "r",
   "file_extension": ".r",
   "mimetype": "text/x-r-source",
   "name": "R",
   "pygments_lexer": "r",
   "version": "4.2.2"
  }
 },
 "nbformat": 4,
 "nbformat_minor": 5
}
