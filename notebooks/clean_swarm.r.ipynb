{
 "cells": [
  {
   "cell_type": "code",
   "execution_count": 11,
   "id": "d8b6b9a1",
   "metadata": {},
   "outputs": [],
   "source": [
    "library(dplyr)\n",
    "library(data.table)\n",
    "library(clusterAnalysisUtils)\n",
    "library(dtplyr)\n",
    "library(ggplot2)"
   ]
  },
  {
   "cell_type": "code",
   "execution_count": 7,
   "id": "c02d6985",
   "metadata": {},
   "outputs": [],
   "source": [
    "d0 <- clusterAnalysisUtils::clusterDataParser$new(snakemake@input$id,format = \"MT\",remove_sizes = T)"
   ]
  },
  {
   "cell_type": "code",
   "execution_count": 32,
   "id": "7b5b2177",
   "metadata": {},
   "outputs": [],
   "source": [
    "cnts <- d0$df %>%\n",
    "    group_by(Cluster) %>%\n",
    "    summarise(N=n()) %>%\n",
    "    ungroup() %>%\n",
    "    filter(N==1) %>%\n",
    "    as.data.table()\n",
    "\n",
    "dfo <- d0$df %>%\n",
    "    dplyr::filter(!Cluster %in% cnts$Cluster) %>%\n",
    "    arrange(Cluster) %>%\n",
    "    as.data.table() \n",
    "fwrite(x = dfo,snakemake@output$id)"
   ]
  }
 ],
 "metadata": {
  "kernelspec": {
   "display_name": "R",
   "language": "R",
   "name": "ir"
  },
  "language_info": {
   "codemirror_mode": "r",
   "file_extension": ".r",
   "mimetype": "text/x-r-source",
   "name": "R",
   "pygments_lexer": "r",
   "version": "4.2.2"
  }
 },
 "nbformat": 4,
 "nbformat_minor": 5
}
