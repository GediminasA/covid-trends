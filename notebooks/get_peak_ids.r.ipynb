{
 "cells": [
  {
   "cell_type": "code",
   "execution_count": 2,
   "id": "0858a2ac",
   "metadata": {},
   "outputs": [],
   "source": [
    "library(data.table)\n",
    "library(dtplyr)\n",
    "library(dplyr, warn.conflicts = FALSE)\n",
    "library(lubridate)"
   ]
  },
  {
   "cell_type": "code",
   "execution_count": 3,
   "id": "52e64baa",
   "metadata": {},
   "outputs": [],
   "source": [
    "meta <- fread(snakemake@input$data)\n",
    "head(meta)\n",
    "nrow(meta)"
   ]
  },
  {
   "cell_type": "code",
   "execution_count": 4,
   "id": "a8236e71",
   "metadata": {},
   "outputs": [],
   "source": [
    "ids <- fread(snakemake@input$ids, header = F)\n",
    "ids <- unlist(ids$V1)\n",
    "meta <- meta %>%\n",
    "    filter(taxon %in% ids) %>%\n",
    "    as.data.frame()\n",
    "nrow(meta)"
   ]
  },
  {
   "cell_type": "code",
   "execution_count": 5,
   "id": "ca292bec",
   "metadata": {},
   "outputs": [],
   "source": [
    "lineage4focus=snakemake@params$id"
   ]
  },
  {
   "cell_type": "code",
   "execution_count": 6,
   "id": "65adb72c",
   "metadata": {},
   "outputs": [],
   "source": [
    "df_focus = meta %>%\n",
    "    lazy_dt() %>%\n",
    "    mutate(date = date(date)) %>%\n",
    "    mutate(month = lubridate::floor_date(date, \"month\")) %>%\n",
    "    as.data.table() \n",
    "head(df_focus)"
   ]
  },
  {
   "cell_type": "code",
   "execution_count": 7,
   "id": "97ac89c4",
   "metadata": {},
   "outputs": [],
   "source": [
    "df_focus_per_month <- df_focus %>%\n",
    "    lazy_dt() %>%\n",
    "    group_by(month) %>%\n",
    "    summarise(N=n()) %>%\n",
    "    as.data.table()\n",
    "print(df_focus_per_month)"
   ]
  },
  {
   "cell_type": "code",
   "execution_count": 8,
   "id": "b7ae0571",
   "metadata": {},
   "outputs": [],
   "source": [
    "max_idx <- which.max(df_focus_per_month$N) \n",
    "months_to_take <- df_focus_per_month$month[[max_idx]]"
   ]
  },
  {
   "cell_type": "code",
   "execution_count": 9,
   "id": "acb6bf43",
   "metadata": {},
   "outputs": [],
   "source": [
    "df_focus <- df_focus %>%\n",
    "    lazy_dt() %>%\n",
    "    filter(month == months_to_take) %>%\n",
    "    as.data.table()\n",
    "df_other <- df_focus %>%\n",
    "    lazy_dt() %>%\n",
    "    filter(month != months_to_take) %>%\n",
    "    as.data.table()"
   ]
  },
  {
   "cell_type": "code",
   "execution_count": 10,
   "id": "ba95cb2d",
   "metadata": {},
   "outputs": [],
   "source": [
    "ids_focus <- df_focus %>%\n",
    "    select(taxon) %>%\n",
    "    as.data.table()\n",
    "ids_other <- df_other %>%\n",
    "    select(taxon) %>%\n",
    "    as.data.table()\n",
    "fwrite(x = ids_focus,file = snakemake@output$ids_focus, col.names = F)\n",
    "fwrite(x = ids_other,file = snakemake@output$ids_other, col.names = F)"
   ]
  }
 ],
 "metadata": {
  "kernelspec": {
   "display_name": "R",
   "language": "R",
   "name": "ir"
  },
  "language_info": {
   "codemirror_mode": "r",
   "file_extension": ".r",
   "mimetype": "text/x-r-source",
   "name": "R",
   "pygments_lexer": "r",
   "version": "4.2.2"
  }
 },
 "nbformat": 4,
 "nbformat_minor": 5
}
