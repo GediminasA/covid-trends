{
 "cells": [
  {
   "cell_type": "code",
   "execution_count": 9,
   "id": "10275197",
   "metadata": {},
   "outputs": [],
   "source": [
    "import json\n",
    "import pandas as pd"
   ]
  },
  {
   "cell_type": "code",
   "execution_count": 6,
   "id": "f82458a4",
   "metadata": {},
   "outputs": [],
   "source": [
    "f = open(snakemake.input[0])\n",
    "\n",
    "d = json.load(f)\n",
    "\n",
    "snakemake.input[0]\n",
    "\n",
    "f.close()\n"
   ]
  },
  {
   "cell_type": "code",
   "execution_count": 24,
   "id": "8d55ddf1",
   "metadata": {},
   "outputs": [],
   "source": [
    "dd = d['clock']\n",
    "f = open(snakemake.output[0],\"w\")\n",
    "for k in dd.keys():\n",
    "    val = dd[k]\n",
    "    f.write(f\"{k}\\t{snakemake.wildcards.id}\\t{val}\\n\")\n",
    "f.close()"
   ]
  }
 ],
 "metadata": {
  "kernelspec": {
   "display_name": "Python 3 (ipykernel)",
   "language": "python",
   "name": "python3"
  },
  "language_info": {
   "codemirror_mode": {
    "name": "ipython",
    "version": 3
   },
   "file_extension": ".py",
   "mimetype": "text/x-python",
   "name": "python",
   "nbconvert_exporter": "python",
   "pygments_lexer": "ipython3",
   "version": "3.9.15"
  }
 },
 "nbformat": 4,
 "nbformat_minor": 5
}
