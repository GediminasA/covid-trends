{
 "cells": [
  {
   "cell_type": "code",
   "execution_count": null,
   "id": "5fac1d19",
   "metadata": {},
   "outputs": [],
   "source": [
    "library(ggplot2)\n",
    "library(patchwork)\n",
    "library(dplyr)\n",
    "library(tidyverse)\n",
    "library(data.table)"
   ]
  },
  {
   "cell_type": "code",
   "execution_count": null,
   "id": "409e6ac1",
   "metadata": {},
   "outputs": [],
   "source": [
    "dfs <- list()\n",
    "ct = 0\n",
    "for (f in snakemake@input$refs){\n",
    "    ct = ct + 1\n",
    "    dfs[[ct]] = fread(f)\n",
    "}\n",
    "dfs <- bind_rows(dfs)"
   ]
  },
  {
   "cell_type": "code",
   "execution_count": null,
   "id": "9f11f773",
   "metadata": {},
   "outputs": [],
   "source": [
    "names(dfs)"
   ]
  },
  {
   "cell_type": "code",
   "execution_count": null,
   "id": "f9ea804b",
   "metadata": {},
   "outputs": [],
   "source": [
    "options(repr.plot.width=9, repr.plot.height=10, jupyter.plot_mimetypes = \"image/svg+xml\")\n",
    "anovasP <- dfs %>%\n",
    "    select(Lineage,ends_with(\"P\"))\n",
    "anovasP <- anovasP %>%\n",
    "    pivot_longer(!Lineage,names_to=\"Type\",values_to = \"Value\")\n",
    "ggplot(data=anovasP) + geom_bar(aes(x=Lineage,y=Value),stat=\"identity\")+facet_grid(vars(Type)) + \n",
    "geom_hline(yintercept = 0.05, color=\"red\")\n"
   ]
  },
  {
   "cell_type": "code",
   "execution_count": null,
   "id": "c9cfb0ff",
   "metadata": {},
   "outputs": [],
   "source": [
    "data <- dfs %>%\n",
    "    select(Lineage,starts_with(\"Median\"), starts_with(\"Mean\"),Anova_zinb_P,Anova_zinb_coef,ends_with(\"coef\")) %>%\n",
    "    mutate(dD = (Mean_Lineage-Mean_Ref_Lineage)/Mean_Ref_Lineage*100)\n",
    "data\n",
    "fwrite(x = dfs, file = snakemake@output[[1]] )"
   ]
  }
 ],
 "metadata": {
  "kernelspec": {
   "display_name": "R",
   "language": "R",
   "name": "ir"
  },
  "language_info": {
   "codemirror_mode": "r",
   "file_extension": ".r",
   "mimetype": "text/x-r-source",
   "name": "R",
   "pygments_lexer": "r",
   "version": "4.2.3"
  }
 },
 "nbformat": 4,
 "nbformat_minor": 5
}
