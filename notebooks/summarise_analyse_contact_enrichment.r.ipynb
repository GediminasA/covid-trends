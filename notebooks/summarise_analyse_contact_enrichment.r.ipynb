{
 "cells": [
  {
   "cell_type": "code",
   "execution_count": null,
   "id": "385621d1",
   "metadata": {},
   "outputs": [],
   "source": [
    "library(dplyr)\n",
    "library(data.table)\n",
    "library(tidyr)\n",
    "library(ggplot2)\n",
    "library(patchwork)\n",
    "library(ggrepel)"
   ]
  },
  {
   "cell_type": "code",
   "execution_count": null,
   "id": "7fc85dfa-befb-4010-a6ca-35bf9b1c48ae",
   "metadata": {},
   "outputs": [],
   "source": [
    "dfall = bind_rows(lapply(X = snakemake@input$all,\n",
    "       function(x){\n",
    "           fread(x)\n",
    "       } \n",
    "))\n",
    "\n",
    "dflt = bind_rows(lapply(X = snakemake@input$lt,\n",
    "       function(x){\n",
    "           fread(x)\n",
    "       } \n",
    "))\n"
   ]
  },
  {
   "cell_type": "code",
   "execution_count": null,
   "id": "daae85a0-1401-4adf-9cc7-dc393829581e",
   "metadata": {},
   "outputs": [],
   "source": [
    "dfd <- fread(snakemake@input$abundance_dates_per_lineage)\n",
    "dfd_numeric = dfd %>%\n",
    "    select(-lineage, -Counts) %>%\n",
    "    mutate_all(as.numeric) \n",
    "\n",
    "dfd_date = dfd %>%\n",
    "    select(-lineage, -Counts)\n",
    "\n",
    "dfd_lineage <- dfd %>%\n",
    "    select(lineage)\n",
    "\n",
    "dfd_numeric <- bind_cols(dfd_lineage,dfd_numeric)\n",
    "dfd_date <- bind_cols(dfd_lineage,dfd_date)"
   ]
  },
  {
   "cell_type": "code",
   "execution_count": null,
   "id": "5023a6e0-e63a-4b55-b23f-1646ecbeb7b3",
   "metadata": {},
   "outputs": [],
   "source": [
    "df_4out <- dflt %>%\n",
    "    #mutate(WilcoxPsign = if_else(WilcoxP <= 0.05, 1, 0)) %>%\n",
    "    select(-\"0\",-\"1\", -Scope,-Distance_cutoff,-NES) %>%\n",
    "    select(-leadingEdge)\n",
    "    # select(Lineage,WilcoxP,WilcoxPsign) %>%\n",
    "    # group_by(Lineage) %>%\n",
    "    # summarise(Frac=sum(WilcoxPsign)/n(), Mean = mean(WilcoxP)) %>%\n",
    "    # ungroup() %>%\n",
    "    # left_join(dfd_numeric, by = c(\"Lineage\"=\"lineage\")) %>%\n",
    "    # select(-Lineage)\n",
    "\n",
    "df_4out"
   ]
  },
  {
   "cell_type": "code",
   "execution_count": null,
   "id": "9d16f9b8-d32e-4042-bd4d-c4a03faf8de5",
   "metadata": {},
   "outputs": [],
   "source": [
    "df_enrall <- dfall %>%\n",
    "    mutate(WilcoxPsign = if_else(WilcoxP <= 0.05, 1, 0)) %>%\n",
    "    select(Lineage,WilcoxP,WilcoxPsign) %>%\n",
    "    group_by(Lineage) %>%\n",
    "    summarise(Frac=sum(WilcoxPsign)/n(), Mean = mean(WilcoxP)) %>%\n",
    "    ungroup() %>%\n",
    "    left_join(dfd_numeric, by = c(\"Lineage\"=\"lineage\")) %>%\n",
    "    select(-Lineage)\n",
    "df_enrall_notd <- select(df_enrall,Frac,Mean)\n",
    "df_enrall_d <- select(df_enrall,-Frac,-Mean)\n",
    "cor(df_enrall_d, df_enrall_notd)"
   ]
  },
  {
   "cell_type": "code",
   "execution_count": null,
   "id": "2058a12f-0ad9-49ee-9a65-5957ec467f97",
   "metadata": {},
   "outputs": [],
   "source": [
    "ltstr = \"AY.4.5\tQ.1\tB.1.1.7\tB.1.177.60\tBA.2\tBA.2.9\" \n",
    "ltstr = unlist(strsplit(ltstr, split = \"\\t\"))\n",
    "ltstr"
   ]
  },
  {
   "cell_type": "code",
   "execution_count": null,
   "id": "b66c8faa-f29e-46ae-81a2-5b6beac4d926",
   "metadata": {},
   "outputs": [],
   "source": [
    "#get data per month\n",
    "dfd_date_month <- select(dfd_date, lineage, month_peak)\n",
    "df_enrall <- dfall %>%\n",
    "    mutate(WilcoxPsign = if_else(WilcoxP <= 0.05, 1, 0)) %>%\n",
    "    select(Lineage,WilcoxP,WilcoxPsign) %>%\n",
    "    group_by(Lineage) %>%\n",
    "    summarise(Frac=sum(WilcoxPsign)/n(), Mean = mean(WilcoxP)) %>%\n",
    "    ungroup() %>%\n",
    "    left_join(dfd_date_month, by = c(\"Lineage\"=\"lineage\"))"
   ]
  },
  {
   "cell_type": "code",
   "execution_count": null,
   "id": "2d7a8ebd-9b20-44a5-9bb0-d7f5802cc93e",
   "metadata": {},
   "outputs": [],
   "source": [
    "# get general view\n",
    "dall_rev <- dfall %>%\n",
    "    mutate(WilcoxPsign = if_else(WilcoxP <= 0.05, 1, 0)) %>%\n",
    "    mutate(fgseaPsign = if_else(fgseaP <= 0.05, 1, 0)) %>%\n",
    "    mutate(dE=`1`-`0`) %>%\n",
    "    select(Lineage, WilcoxP, fgseaP, WilcoxPsign, fgseaPsign, dE)\n",
    "\n",
    "    #select(Lineage,WilcoxP,WilcoxPsign) %>%\n",
    "    #left_join(dfd_date_month, by = c(\"Lineage\"=\"lineage\"))\n",
    "dall_rev"
   ]
  },
  {
   "cell_type": "code",
   "execution_count": null,
   "id": "8c8d1b4e-b2f4-497e-b927-baf790e88419",
   "metadata": {},
   "outputs": [],
   "source": [
    "ggplot(dfall) + geom_boxplot(aes(x=Lineage, y=WilcoxP))"
   ]
  },
  {
   "cell_type": "code",
   "execution_count": null,
   "id": "fae61157-eb3c-4a01-91e6-db65e981d246",
   "metadata": {},
   "outputs": [],
   "source": [
    "#sort lineages by date\n",
    "dfd4s <- select(dfd,Lineage = lineage, month_peak) %>%\n",
    "    filter(Lineage %in% dfall$Lineage) %>%\n",
    "    mutate(month_peak_num = as.numeric(month_peak)) %>%\n",
    "    arrange(month_peak)\n",
    "dall_rev$Lineage <- factor(dall_rev$Lineage, levels = dfd4s$Lineage)"
   ]
  },
  {
   "cell_type": "code",
   "execution_count": null,
   "id": "caa99fd6-d5c6-48fd-b0a2-ce5930c5e37d",
   "metadata": {},
   "outputs": [],
   "source": [
    "dall_rev$fgseaPsign[is.na(dall_rev$fgseaPsign)] <- 0\n",
    "dall_rev_sum <- dall_rev %>%\n",
    "    group_by(Lineage) %>%\n",
    "    summarise(FracW=sum(WilcoxPsign)/n(), WilcoxP=sum(WilcoxP)/n()) %>%\n",
    "    mutate(`Fraction with p ≤ 0.05`=FracW, `<p>`=WilcoxP) %>%\n",
    "    select(-FracW, -WilcoxP) %>%\n",
    "    pivot_longer(cols = c(`Fraction with p ≤ 0.05`), values_to = \"Fraction\", names_to = \"Test\") \n",
    "head(dall_rev_sum)"
   ]
  },
  {
   "cell_type": "code",
   "execution_count": null,
   "id": "4d71194e-334f-40db-a500-72053c497843",
   "metadata": {},
   "outputs": [],
   "source": [
    "options(repr.plot.width=7, rep.plot.height=3)\n",
    "\n",
    "#facet_grid(rows = vars(drv))\n",
    "de <- ggplot(dall_rev) + geom_boxplot(aes(x=Lineage, y=dE)) +\n",
    "theme(\n",
    "    axis.text.x = element_text(angle = 90, vjust = 1, hjust=1),\n",
    "    text=element_text(size=20)\n",
    ")\n",
    "fr_vs_l <- ggplot(dall_rev_sum) + geom_point(aes(x=Lineage, y = Fraction))  +\n",
    "ylab(\"`Fraction with \\n p ≤ 0.05`\") + xlab(\"\") +\n",
    "  theme(axis.text.x=element_blank(), #remove x axis labels\n",
    "        axis.ticks.x=element_blank(), #remove x axis ticks\n",
    "        text=element_text(size=20)\n",
    "        )\n",
    "devslin <- fr_vs_l/ de +   plot_layout(height = c(1, 2))"
   ]
  },
  {
   "cell_type": "code",
   "execution_count": null,
   "id": "1e080ee4-bd6a-4033-9e03-e4d66c1c05ff",
   "metadata": {},
   "outputs": [],
   "source": [
    "crt <- cor.test(df_enrall$Frac,as.numeric(df_enrall$month_peak),method = \"spearman\")\n",
    "\n"
   ]
  },
  {
   "cell_type": "code",
   "execution_count": null,
   "id": "0078736c-90d9-4ca8-86ca-4848e016712c",
   "metadata": {},
   "outputs": [],
   "source": [
    "options(repr.plot.width=8, rep.plot.height=7)\n",
    "trnd <- ggplot(df_enrall) + geom_point(aes(x=month_peak, y = Frac)) +   theme(\n",
    "        text=element_text(size=20)\n",
    "        ) + xlab(\"Month\") + ylab(\"`Fraction with \\n p ≤ 0.05`\") +\n",
    "geom_text_repel(aes(label=Lineage,x=month_peak, y = Frac), max.overlaps = Inf, size = 5) +\n",
    "geom_smooth(method = \"lm\", aes(x=month_peak, y=Frac)) +\n",
    "ggtitle(paste(\"r = \",round(crt$estimate,digits = 2),\" p = \",round(crt$p.value, digits = 4),sep=\"\"))"
   ]
  },
  {
   "cell_type": "code",
   "execution_count": null,
   "id": "65a7b77b-ed35-48e0-8ef9-ab2cd2697ed2",
   "metadata": {
    "scrolled": true
   },
   "outputs": [],
   "source": [
    "options(repr.plot.width=15, rep.plot.height=7)\n",
    "\n",
    "outimg <- devslin | trnd\n",
    "outimg <- outimg +  plot_annotation(tag_levels = 'a')\n",
    "outimg\n",
    "ggsave(filename = snakemake@output$image, plot = outimg, width=15, height=7)"
   ]
  },
  {
   "cell_type": "code",
   "execution_count": null,
   "id": "18e0fb6f-5236-4002-bf0a-e27ae6e40155",
   "metadata": {},
   "outputs": [],
   "source": [
    "# write  out output data #ounly lithuanian data\n",
    "fwrite(x=df_4out,file = snakemake@output$data)\n",
    "\n",
    "df_4out"
   ]
  }
 ],
 "metadata": {
  "kernelspec": {
   "display_name": "R",
   "language": "R",
   "name": "ir"
  },
  "language_info": {
   "codemirror_mode": "r",
   "file_extension": ".r",
   "mimetype": "text/x-r-source",
   "name": "R",
   "pygments_lexer": "r",
   "version": "4.2.3"
  }
 },
 "nbformat": 4,
 "nbformat_minor": 5
}
