{
 "cells": [
  {
   "cell_type": "code",
   "execution_count": null,
   "id": "d6fa071c",
   "metadata": {},
   "outputs": [],
   "source": [
    "library(dplyr)\n",
    "library(data.table)\n",
    "library(ggplot2)\n",
    "library(tidyverse)\n",
    "library(lubridate)\n",
    "library(patchwork)\n",
    "library(dtplyr)\n",
    "library(clusterAnalysisUtils)\n",
    "library(MASS)\n",
    "library(robmixglm)\n",
    "library(mvabund)\n",
    "library(fitdistrplus)\n",
    "library(lattice)\n",
    "library(lmtest)\n",
    "#require(pscl) # alternatively can use package ZIM for zero-inflated models\n",
    "library(lmtest)\n",
    "library(pscl)\n",
    "\n",
    "\n",
    "\n"
   ]
  },
  {
   "cell_type": "code",
   "execution_count": null,
   "id": "2a1d1bc6",
   "metadata": {},
   "outputs": [],
   "source": [
    "dataid = fread(snakemake@input$data) %>%\n",
    "     dplyr::select(taxon,country,date) %>%\n",
    "     as.data.table()\n",
    "names(dataid)\n",
    "head(dataid)"
   ]
  },
  {
   "cell_type": "code",
   "execution_count": null,
   "id": "7ee0c549",
   "metadata": {},
   "outputs": [],
   "source": [
    "dataref = fread(snakemake@input$data_ref) %>%\n",
    "    dplyr::select(taxon,country,date) %>%\n",
    "    as.data.table()\n"
   ]
  },
  {
   "cell_type": "code",
   "execution_count": null,
   "id": "83cf57a8",
   "metadata": {},
   "outputs": [],
   "source": [
    "data = bind_rows(dataid,dataref)"
   ]
  },
  {
   "cell_type": "code",
   "execution_count": null,
   "id": "1175ff84",
   "metadata": {},
   "outputs": [],
   "source": [
    "#Convert all dates to days from the earliest\n",
    "data$date <- as.Date(data$date)\n",
    "min_date = min(data$date)\n",
    "data$days = as.numeric(data$date - min_date)\n",
    "data$weeks = round((data$days/7),digits = 0)\n"
   ]
  },
  {
   "cell_type": "code",
   "execution_count": null,
   "id": "bbba6788",
   "metadata": {},
   "outputs": [],
   "source": [
    "#reda clusters\n",
    "id <- clusterAnalysisUtils::clusterDataParser$new(snakemake@input$id,format = \"UC\",remove_sizes = T)$df\n",
    "id$Sample <- snakemake@wildcards$id\n",
    "ref <- clusterAnalysisUtils::clusterDataParser$new(snakemake@input$ref,format = \"UC\",remove_sizes = T)$df\n",
    "ref$Sample <- paste(\"Ref_\",snakemake@wildcards$id,sep=\"\")\n",
    "df <- bind_rows(id,ref)"
   ]
  },
  {
   "cell_type": "code",
   "execution_count": null,
   "id": "d8630ff8",
   "metadata": {},
   "outputs": [],
   "source": [
    "df <- df %>%\n",
    "    lazy_dt() %>%\n",
    "    left_join(data,by=c(\"Member\"=\"taxon\")) %>%\n",
    "    as.data.table()\n",
    "    \n"
   ]
  },
  {
   "cell_type": "code",
   "execution_count": null,
   "id": "4ef7af91",
   "metadata": {},
   "outputs": [],
   "source": [
    "# group\n",
    "df <- df %>%\n",
    "    group_by(Sample,Cluster) %>%\n",
    "    summarise(N=n(),D=max(days)-min(days)) %>%\n",
    "    ungroup() %>%\n",
    "    as.data.table()\n",
    "\n",
    "head(df)\n",
    "\n"
   ]
  },
  {
   "cell_type": "code",
   "execution_count": null,
   "id": "d32451b1",
   "metadata": {},
   "outputs": [],
   "source": [
    "countdf <- df %>%\n",
    "    group_by(Sample) %>%\n",
    "    summarise(N=n(),D=mean(D,na.rm = T)) %>%\n",
    "    ungroup() %>%\n",
    "    as.data.table()\n",
    "countdf"
   ]
  },
  {
   "cell_type": "code",
   "execution_count": null,
   "id": "f305490c",
   "metadata": {},
   "outputs": [],
   "source": [
    "#general data on cluster with more than 1 member\n",
    "dfwo0 <- filter(df,N>1) %>%\n",
    "    as.data.table()\n",
    "\n",
    "data = dfwo0\n",
    "test = data %>%\n",
    "    group_by(Sample) %>%\n",
    "    summarise(Number=n(),\n",
    "              DD=mean(D,na.rm = T),\n",
    "              `Maximum of N`=max(N),\n",
    "              `Minimum of N`=min(N),\n",
    "              `Mean of N`=mean(N),\n",
    "              `Median of N`=median(N),\n",
    "              `Maximum of D`=max(D,na.rm = T),\n",
    "              `Minimum of D`=min(D,na.rm = T),\n",
    "              `Mean of D`=mean(D,na.rm = T),\n",
    "              `Median of D`=median(D,na.rm = T),\n",
    "\n",
    "              ) %>%\n",
    "    mutate(\n",
    "        `Mean of N`=round(`Mean of N`,digits = 2),\n",
    "    ) %>%\n",
    "    as.data.table()\n",
    "test"
   ]
  },
  {
   "cell_type": "code",
   "execution_count": null,
   "id": "8bdbee59",
   "metadata": {},
   "outputs": [],
   "source": [
    "options(repr.plot.width = 10, repr.plot.height = 4, jupyter.plot_mimetypes = \"image/svg+xml\")\n",
    "#get initial situation with densities - HISTOGRAM\n",
    "data=dfwo0\n",
    "pd <- ggplot(data,aes(x=D,color=Sample)) + geom_density()\n",
    "plotd <- as.data.table(ggplot_build(pd)$data) %>%\n",
    "    group_by(colour) %>%\n",
    "    summarise(x=max(x[which.max(y)])) %>%\n",
    "    as.data.table() \n",
    "    \n",
    "pd <- pd + geom_vline(xintercept=plotd$x,color=plotd$colour) + xlab(\"D, days\")\n",
    "pb <- ggplot(data, aes(x=Sample, y=D)) +\n",
    "    geom_boxplot(aes(fill=Sample)) +\n",
    "    guides(fill=\"none\") +\n",
    "    ylab(\"D, days\")\n",
    "print(plotd)\n",
    "(pd | pb) + plot_annotation(title = 'Distribution identical sequence existance (D)')\n"
   ]
  },
  {
   "cell_type": "code",
   "execution_count": null,
   "id": "d342e671",
   "metadata": {},
   "outputs": [],
   "source": [
    "options(repr.plot.width = 10, repr.plot.height = 4, jupyter.plot_mimetypes = \"image/svg+xml\")\n",
    "data=dfwo0\n",
    "\n",
    "pd <- ggplot(data,aes(x=N,color=Sample)) + geom_density(adjust=2) + xlim(0,15)\n",
    "\n",
    "plotd <- as.data.table(ggplot_build(pd)$data) %>%\n",
    "    group_by(colour) %>%\n",
    "    summarise(x=max(x[which.max(y)])) %>%\n",
    "    as.data.table()\n",
    "pd <- pd + geom_vline(xintercept=plotd$x,color=plotd$colour) + xlab(\"N, number\") \n",
    "pb <- ggplot(data, aes(x=Sample, y=N)) +\n",
    "    geom_boxplot(aes(fill=Sample)) +\n",
    "    guides(fill=\"none\") + scale_y_log10() +\n",
    "    ylab(\"N, number\")\n",
    "print(plotd)\n",
    "(pd | pb) + plot_annotation(title = 'Distribution of cluster sizes (N)')\n",
    "\n",
    "\n",
    "# plotd <- as.data.table(ggplot_build(pd)$data) %>%\n",
    "#     group_by(colour) %>%\n",
    "#     summarise(x=max(x[which.max(y)])) %>%\n",
    "#     as.data.table()\n",
    "# pd <- pd + geom_vline(xintercept=plotd$x,color=plotd$colour) "
   ]
  },
  {
   "cell_type": "code",
   "execution_count": null,
   "id": "6a6fef1e",
   "metadata": {},
   "outputs": [],
   "source": [
    "#filter by N\n",
    "data= dfwo0\n",
    "test = as.data.frame(dplyr::filter(data,Sample==snakemake@wildcards$id))\n",
    "q = quantile(test$N)\n",
    "print(q)\n",
    "qvals = unlist(q, use.names = F)\n",
    "minl = qvals[[2]]\n",
    "maxl = qvals[[4]]\n",
    "\n",
    "dfwoe = dfwo0 %>%\n",
    "    filter(N >=  minl & N <= maxl) %>%\n",
    "    as.data.table()\n"
   ]
  },
  {
   "cell_type": "code",
   "execution_count": null,
   "id": "4e9dd1ee",
   "metadata": {},
   "outputs": [],
   "source": [
    "#Data  on the filteredf data\n",
    "\n",
    "data = dfwoe\n",
    "test = data %>%\n",
    "    group_by(Sample) %>%\n",
    "    summarise(Number=n(),\n",
    "              `Maximum of N`=max(N),\n",
    "              `Minimum of N`=min(N),\n",
    "              `Mean of N`=mean(N),\n",
    "              `Median of N`=median(N),\n",
    "              `Maximum of D`=max(D,na.rm = T),\n",
    "              `Minimum of D`=min(D,na.rm = T),\n",
    "              `Mean of D`=mean(D,na.rm = T),\n",
    "              `Median of D`=median(D,na.rm = T),\n",
    "\n",
    "              ) %>%\n",
    "    mutate(\n",
    "        `Mean of N`=round(`Mean of N`,digits = 2),\n",
    "    ) %>%\n",
    "    as.data.table()\n",
    "test"
   ]
  },
  {
   "cell_type": "code",
   "execution_count": null,
   "id": "00d2b49f",
   "metadata": {},
   "outputs": [],
   "source": [
    "options(repr.plot.width = 10, repr.plot.height = 4, jupyter.plot_mimetypes = \"image/svg+xml\")\n",
    "data=dfwoe\n",
    "\n",
    "pd <- ggplot(data,aes(x=N,fill=Sample)) + geom_histogram(binwidth = 1) +\n",
    "    facet_grid(rows = vars(Sample),scales = \"free\") + xlab(\"N, number\")\n",
    "\n",
    "\n",
    "pb <- ggplot(data, aes(x=Sample, y=N)) +\n",
    "    geom_boxplot(aes(fill=Sample)) +\n",
    "    guides(fill=\"none\") +\n",
    "    ylab(\"N, number\")\n",
    "(pd | pb) + plot_annotation(title = 'Distribution of cluster sizes (N)  after cluster size match')\n"
   ]
  },
  {
   "cell_type": "code",
   "execution_count": null,
   "id": "e4ea5f04",
   "metadata": {},
   "outputs": [],
   "source": [
    "options(repr.plot.width = 10, repr.plot.height = 4, jupyter.plot_mimetypes = \"image/svg+xml\")\n",
    "#get initial situation with densities - HISTOGRAM\n",
    "data=dfwoe\n",
    "pd <- ggplot(data,aes(x=D,color=Sample)) + geom_density()\n",
    "plotd <- as.data.table(ggplot_build(pd)$data) %>%\n",
    "    group_by(colour) %>%\n",
    "    summarise(x=max(x[which.max(y)])) %>%\n",
    "    as.data.table() \n",
    "    \n",
    "pd <- pd + geom_vline(xintercept=plotd$x,color=plotd$colour) + xlab(\"D, days\")\n",
    "pb <- ggplot(data, aes(x=Sample, y=D)) +\n",
    "    geom_boxplot(aes(fill=Sample)) +\n",
    "    guides(fill=\"none\") +\n",
    "    ylab(\"D, days\")\n",
    "print(plotd)\n",
    "(pd | pb) + plot_annotation(title = 'Distribution identical sequence existance (D) after cluster size match')"
   ]
  },
  {
   "cell_type": "code",
   "execution_count": null,
   "id": "83ac6499",
   "metadata": {},
   "outputs": [],
   "source": [
    "# Statistical analysis"
   ]
  },
  {
   "cell_type": "code",
   "execution_count": null,
   "id": "404b737f",
   "metadata": {},
   "outputs": [],
   "source": [
    "data = dfwoe\n",
    "d1 <- as.data.table(filter(data, Sample==snakemake@wildcards$id))$D\n",
    "d2 <- as.data.table(filter(data, Sample==paste(\"Ref\",snakemake@wildcards$id,sep=\"_\")))$D\n",
    "data$Sample <- factor(data$Sample)\n",
    "levels(data$Sample)\n"
   ]
  },
  {
   "cell_type": "code",
   "execution_count": null,
   "id": "e2f74378",
   "metadata": {},
   "outputs": [],
   "source": [
    "options(repr.plot.width = 6, repr.plot.height = 4, jupyter.plot_mimetypes = \"image/svg+xml\")\n",
    "\n",
    "fitd1 <- fitdist(d1, \"nbinom\")\n",
    "fitd2 <- fitdist(d2, \"nbinom\")\n",
    "colors = c(\"#F8766D\",\"#00BFC4\")\n",
    "ids = c(snakemake@wildcards$id,paste(\"Ref\",snakemake@wildcards$id,sep=\"_\"))\n",
    "\n",
    "fx1 <- min(d1):max(d1)\n",
    "fx2 <- min(d2):max(d2)\n",
    "fy1 <- dnbinom(fx1, size=fitd1$estimate[[1]], mu=fitd1$estimate[[2]])*length(d1)\n",
    "fy2 <- dnbinom(fx2, size=fitd2$estimate[[1]], mu=fitd2$estimate[[2]])*length(d2)\n",
    "\n",
    "px1 <- ggplot(data=data.frame(D=d1),aes(x=D)) + geom_histogram(fill=colors[[1]],alpha=0.5,binwidth = 1) +\n",
    "    geom_line(data=data.frame(x=fx1,y=fy1),aes(x,y),color=\"black\",size=0.5) +\n",
    "    xlab(\"Identical sequence existance, days\") +\n",
    "    ylab(\"Count\") + \n",
    "    annotate(\"text\",x=mean(fx1),y=Inf,label = ids[[1]],hjust=1,vjust=2,size=4,fontface=\"bold\")\n",
    "\n",
    "px2 <- ggplot(data=data.frame(D=d2),aes(x=D)) + geom_histogram(fill=colors[[2]],alpha=0.5,binwidth = 1) +\n",
    "    geom_line(data=data.frame(x=fx2,y=fy2),aes(x,y),color=\"black\",size=0.5) +\n",
    "    xlab(\"Identical sequence existance, days\") +\n",
    "    ylab(\"Count\") + ggtitle(ids[[2]]) +\n",
    "    annotate(\"text\",x=mean(fx2),y=Inf,label = ids[[2]],hjust=1,vjust=2,size=4,fontface=\"bold\")\n",
    "\n",
    "\n",
    "px1/px2 \n",
    "\n"
   ]
  },
  {
   "cell_type": "code",
   "execution_count": null,
   "id": "11960c88",
   "metadata": {},
   "outputs": [],
   "source": [
    "## Check distribution"
   ]
  },
  {
   "cell_type": "code",
   "execution_count": null,
   "id": "63a5db4d",
   "metadata": {},
   "outputs": [],
   "source": [
    "outondist = list()"
   ]
  },
  {
   "cell_type": "code",
   "execution_count": null,
   "id": "d9495223",
   "metadata": {},
   "outputs": [],
   "source": [
    "## Poisson GLM"
   ]
  },
  {
   "cell_type": "code",
   "execution_count": null,
   "id": "81f29367",
   "metadata": {},
   "outputs": [],
   "source": [
    "\n",
    "M1 <- glm(D ~ Sample,\n",
    "          family = 'poisson',\n",
    "          data = data)\n",
    "\n",
    "M1sum<-summary(M1)\n",
    "P <- M1sum$coefficients[[2,4]]\n",
    "P"
   ]
  },
  {
   "cell_type": "code",
   "execution_count": null,
   "id": "69b46fba",
   "metadata": {},
   "outputs": [],
   "source": [
    "## Check for over/underdispersion in the model\n",
    "E2 <- resid(M1, type = \"pearson\")\n",
    "N  <- nrow(data)\n",
    "p  <- length(coef(M1))   \n",
    "Res <- sum(E2^2) / (N - p)\n",
    "#add_row(outondist, Distribution=\"Poisson GLM\", P=p,`Residual mean deviance`=Res )\n",
    "Res"
   ]
  },
  {
   "cell_type": "code",
   "execution_count": null,
   "id": "2b2a8721",
   "metadata": {},
   "outputs": [],
   "source": [
    "outondist[[1]]=list(\"Poison GLM\",P,Res)"
   ]
  },
  {
   "cell_type": "code",
   "execution_count": null,
   "id": "d29340ad",
   "metadata": {},
   "outputs": [],
   "source": [
    "## Negative Binomial GLM"
   ]
  },
  {
   "cell_type": "code",
   "execution_count": null,
   "id": "4ef149f2",
   "metadata": {},
   "outputs": [],
   "source": [
    "M2 <- glm.nb(D ~ Sample,\n",
    "             data = data)\n",
    "M2sum <- summary(M2)\n",
    "P <- M2sum$coefficients[[2,4]]\n",
    "\n"
   ]
  },
  {
   "cell_type": "code",
   "execution_count": null,
   "id": "bf64b517",
   "metadata": {},
   "outputs": [],
   "source": [
    "# Dispersion statistic\n",
    "E2 <- resid(M2, type = \"pearson\")\n",
    "N  <- nrow(data)\n",
    "p  <- length(coef(M2)) + 1  # '+1' is for variance parameter in NB\n",
    "Res <- sum(E2^2) / (N - p)"
   ]
  },
  {
   "cell_type": "code",
   "execution_count": null,
   "id": "9201d267",
   "metadata": {},
   "outputs": [],
   "source": [
    "outondist[[2]]=list(\"Negative Binomial GLM\",P,Res)"
   ]
  },
  {
   "cell_type": "code",
   "execution_count": null,
   "id": "0704d1fc",
   "metadata": {},
   "outputs": [],
   "source": [
    "## Zero-Inflated Poisson GLM"
   ]
  },
  {
   "cell_type": "code",
   "execution_count": null,
   "id": "a0e0f39b",
   "metadata": {},
   "outputs": [],
   "source": [
    "M3 <- zeroinfl(D ~ Sample | ## Predictor for the Poisson process\n",
    "                 Sample, ## Predictor for the Bernoulli process;\n",
    "               dist = 'poisson',\n",
    "               data = data)\n",
    "\n",
    "M3sum <- summary(M3)\n",
    "P <- M3sum$coefficients$count[[2,4]]\n",
    "P\n",
    "M3sum"
   ]
  },
  {
   "cell_type": "code",
   "execution_count": null,
   "id": "54d17122",
   "metadata": {},
   "outputs": [],
   "source": [
    "# Dispersion statistic\n",
    "E3 <- resid(M3, type = \"pearson\")\n",
    "N  <- nrow(data)\n",
    "p  <- length(coef(M3))  \n",
    "Res <- sum(E2^2) / (N - p)\n",
    "outondist[[3]]=list(\"Zero-Inflated Poisson GLM\",P,Res)"
   ]
  },
  {
   "cell_type": "code",
   "execution_count": null,
   "id": "9fbcaa07",
   "metadata": {},
   "outputs": [],
   "source": [
    "## Zero-Inflated Negative Binomial GLM"
   ]
  },
  {
   "cell_type": "code",
   "execution_count": null,
   "id": "7300936d",
   "metadata": {},
   "outputs": [],
   "source": [
    "M4 <- zeroinfl(D ~ Sample |\n",
    "                 Sample,\n",
    "               dist = 'negbin',\n",
    "               data = data)\n",
    "M4sum <- summary(M4)\n",
    "P <- M4sum$coefficients$count[[2,4]]\n",
    "M4sum"
   ]
  },
  {
   "cell_type": "code",
   "execution_count": null,
   "id": "86bf3337",
   "metadata": {},
   "outputs": [],
   "source": [
    "# Dispersion Statistic\n",
    "E2 <- resid(M4, type = \"pearson\")\n",
    "N  <- nrow(data)\n",
    "p  <- length(coef(M4)) + 1 # '+1' is due to theta\n",
    "\n",
    "Res <- sum(E2^2) / (N - p)\n",
    "outondist[[4]]=list(\"Zero-Inflated Negative Binomial GLM\",P,Res)"
   ]
  },
  {
   "cell_type": "code",
   "execution_count": null,
   "id": "801e0ed3",
   "metadata": {},
   "outputs": [],
   "source": [
    "outondist4show <- as.data.frame(do.call(rbind, outondist))\n",
    "names(outondist4show) <- c(\"Distribution\",\"P\",\"Residual mean deviance\")\n",
    "outondist4show"
   ]
  },
  {
   "cell_type": "code",
   "execution_count": null,
   "id": "d3eaa258",
   "metadata": {},
   "outputs": [],
   "source": [
    "# get a mock data for playing \n",
    "n=1000\n",
    "d1t=rpois(n, 1) \n",
    "da = data.table(D=d1t,Sample=\"A\")\n",
    "d2t=rpois(n/10,0.5)\n",
    "db = data.table(D=d2t,Sample=\"B\")\n",
    "dftest = bind_rows(da,db)"
   ]
  },
  {
   "cell_type": "code",
   "execution_count": null,
   "id": "ee139873",
   "metadata": {},
   "outputs": [],
   "source": [
    "## Choose data set for analysis and output collection"
   ]
  },
  {
   "cell_type": "code",
   "execution_count": null,
   "id": "39bb5f97",
   "metadata": {},
   "outputs": [],
   "source": [
    "data = dfwoe #dfwoe #dftest #choose either testing play data for dev  or real data here and play with data var\n",
    "data$Sample <- factor(data$Sample)\n",
    "print(paste(\"Sample levels\"))\n",
    "print(levels(data$Sample))"
   ]
  },
  {
   "cell_type": "code",
   "execution_count": null,
   "id": "825b685f",
   "metadata": {},
   "outputs": [],
   "source": [
    "## Medians and averages"
   ]
  },
  {
   "cell_type": "code",
   "execution_count": null,
   "id": "73a3404c",
   "metadata": {},
   "outputs": [],
   "source": [
    "out <- data %>%\n",
    "    group_by(Sample) %>%\n",
    "    summarise(Median=median(D),Mean = mean(D)) %>%\n",
    "    as.data.table()\n",
    "out <- out %>%\n",
    "    pivot_wider(names_from = Sample,values_from = c(\"Median\",\"Mean\")) %>%\n",
    "    as.data.table()\n",
    "names(out) <- str_replace_all( names(out),pattern = snakemake@wildcards$id,replacement = \"Lineage\")\n",
    "out$Lineage = snakemake@wildcards$id\n",
    "out <- out %>%\n",
    "    dplyr::select(Lineage,starts_with(\"Median\"),starts_with(\"Mean\")) %>%\n",
    "    as.data.table()\n",
    "out"
   ]
  },
  {
   "cell_type": "code",
   "execution_count": null,
   "id": "dc8a14ce",
   "metadata": {},
   "outputs": [],
   "source": [
    "## Non parametric testing\n"
   ]
  },
  {
   "cell_type": "code",
   "execution_count": null,
   "id": "374a6c7a",
   "metadata": {},
   "outputs": [],
   "source": [
    "res <- wilcox.test(D ~ Sample, data = data,\n",
    "                   exact = FALSE)\n",
    "out$Wilcox_twotailed_P <- res$p.value\n",
    "res <- wilcox.test(D ~ Sample, data = data,\n",
    "                   exact = FALSE,alternative = \"less\")\n",
    "out$Wilcox_less_P <- res$p.value\n",
    "res <- wilcox.test(D ~ Sample, data = data,\n",
    "                   exact = FALSE,alternative = \"greater\")\n",
    "out$Wilcox_greater_P <- res$p.value\n",
    "out"
   ]
  },
  {
   "cell_type": "code",
   "execution_count": null,
   "id": "2cea1813",
   "metadata": {},
   "outputs": [],
   "source": [
    "## Parametric testing"
   ]
  },
  {
   "cell_type": "code",
   "execution_count": null,
   "id": "e97dd33a",
   "metadata": {},
   "outputs": [],
   "source": [
    "zip <- zeroinfl(D ~ Sample | ## Predictor for the Poisson process\n",
    "                 Sample, ## Predictor for the Bernoulli process;\n",
    "               dist = 'poisson',\n",
    "               data = data)\n",
    "zip_summary <- summary(zip)\n",
    "E2 <- resid(zip_summary, type = \"pearson\")\n",
    "N  <- nrow(data)\n",
    "p  <- length(coef(zip)) # '+1' is due to theta\n",
    "Res <- sum(E2^2) / (N - p)\n",
    "out$Anova_zip_P <- zip_summary$coefficients$count[[2,4]]\n",
    "out$Anova_zip_coef <- zip$coefficients$count[[2]]\n",
    "out$Anova_zip_wald_value <- zip_summary$coefficients$count[[2,3]]\n",
    "out$Anova_zip_Residual_mean_deviance <- Res\n"
   ]
  },
  {
   "cell_type": "code",
   "execution_count": null,
   "id": "974f276d",
   "metadata": {},
   "outputs": [],
   "source": [
    "zinb <- zeroinfl(D ~ Sample | ## Predictor for the Poisson process\n",
    "                 Sample, ## Predictor for the Bernoulli process;\n",
    "               dist = 'negbin',\n",
    "               data = data)\n",
    "zinb_summary <- summary(zinb)\n",
    "E2 <- resid(zinb_summary, type = \"person\")\n",
    "N  <- nrow(data)\n",
    "p  <- length(coef(zinb)) +1 #'+1' is due to theta\n",
    "Res <- sum(E2^2) / (N - p)\n",
    "out$Anova_zinb_P <- zinb_summary$coefficients$count[[2,4]]\n",
    "out$Anova_zinb_coef <- zinb$coefficients$count[[2]]\n",
    "out$Anova_zinb_wald_value <- zinb_summary$coefficients$count[[2,3]]\n",
    "out$Anova_zinb_Residual_mean_deviance <- Res\n"
   ]
  },
  {
   "cell_type": "code",
   "execution_count": null,
   "id": "923d50a1",
   "metadata": {},
   "outputs": [],
   "source": [
    "out"
   ]
  },
  {
   "cell_type": "code",
   "execution_count": null,
   "id": "e7e415d1",
   "metadata": {},
   "outputs": [],
   "source": [
    "manyglmt <- manyglm(D~Sample, family=\"negative.binomial\",data=data,pairwise.comp=c(\"Sample\"))\n",
    "manyglmt_summary <- summary(manyglmt)\n",
    "manyglmt_summary"
   ]
  },
  {
   "cell_type": "code",
   "execution_count": null,
   "id": "f3cbd96f",
   "metadata": {},
   "outputs": [],
   "source": [
    "# Dispersion Statistic\n",
    "E2 <- resid(manyglmt, type = \"pearson\")\n",
    "N  <- nrow(data)\n",
    "p  <- length(coef(manyglmt)) + 1 # '+1' is due to theta\n",
    "Res <- sum(E2^2) / (N - p)\n",
    "print(coef(manyglmt))"
   ]
  },
  {
   "cell_type": "code",
   "execution_count": null,
   "id": "d4dafae4",
   "metadata": {},
   "outputs": [],
   "source": [
    "out$Anova_mavabubd_P <- manyglmt_summary$coefficients[2,2]\n",
    "out$Anova_mavabubd_coef <- manyglmt$coefficients[[2]]\n",
    "out$Anova_mavabubd_wald_value <- manyglmt_summary$coefficients[2,1]\n",
    "out$Anova_mavabubd_Residual_mean_deviance <- Res\n"
   ]
  },
  {
   "cell_type": "code",
   "execution_count": null,
   "id": "8bf92564",
   "metadata": {},
   "outputs": [],
   "source": [
    "# robmixglmdt <- robmixglm(D~Sample, family = \"nbinom\", data=data,cores=16)\n",
    "# robmixglmdt_summary <- summary(robmixglmdt)"
   ]
  },
  {
   "cell_type": "code",
   "execution_count": null,
   "id": "37c47cf8",
   "metadata": {},
   "outputs": [],
   "source": [
    "# out$Anova_robmixglm_P <- robmixglmdt_summary$coefficients[2,4]\n",
    "# out$Anova_robmixglm_outlietp <- robmixglmdt_summary$coefficients[3,1]\n",
    "# out$Anova_robmixglm_coef <- robmixglmdt_summary$coefficients[2,1]\n",
    "# out$Anova_robmixglm_zval <- robmixglmdt_summary$coefficients[2,3]\n"
   ]
  },
  {
   "cell_type": "code",
   "execution_count": null,
   "id": "d9287ddf",
   "metadata": {},
   "outputs": [],
   "source": [
    "outrep <- out %>%\n",
    "    dplyr::select(Lineage,starts_with(\"Median\"),starts_with(\"Mean\"),ends_with(\"_P\"),ends_with(\"coef\")) %>%\n",
    "    as.data.table()\n",
    "outrep\n",
    "fwrite(file = snakemake@output$ref, x = out )"
   ]
  }
 ],
 "metadata": {
  "kernelspec": {
   "display_name": "R",
   "language": "R",
   "name": "ir"
  },
  "language_info": {
   "codemirror_mode": "r",
   "file_extension": ".r",
   "mimetype": "text/x-r-source",
   "name": "R",
   "pygments_lexer": "r",
   "version": "4.2.3"
  }
 },
 "nbformat": 4,
 "nbformat_minor": 5
}
