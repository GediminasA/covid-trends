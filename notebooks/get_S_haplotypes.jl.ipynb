{
 "cells": [
  {
   "cell_type": "code",
   "execution_count": 2,
   "id": "bd810aeb-80ef-48cf-b157-992ce6557b06",
   "metadata": {
    "editable": true,
    "papermill": {},
    "slideshow": {
     "slide_type": ""
    },
    "tags": [
     "parameters"
    ]
   },
   "outputs": [
    {
     "data": {
      "text/plain": [
       "\"../\""
      ]
     },
     "execution_count": 2,
     "metadata": {},
     "output_type": "execute_result"
    }
   ],
   "source": [
    "nextclade = \"../wdir/haplotype_info_initial_clean.csv\"\n",
    "outfile = \"../wdir//haplotype_info_initial_clean_Sprotein.csv\"\n",
    "environment = \"../analysis\"\n",
    "wdir = \"../\""
   ]
  },
  {
   "cell_type": "code",
   "execution_count": 3,
   "id": "38f2f76e",
   "metadata": {
    "tags": [
     "injected-parameters"
    ]
   },
   "outputs": [
    {
     "data": {
      "text/plain": [
       "\"scripts/julia_modules/JuliaClusterAndTreeTools\""
      ]
     },
     "execution_count": 3,
     "metadata": {},
     "output_type": "execute_result"
    }
   ],
   "source": [
    "# Parameters\n",
    "wdir = \"/data/analyses/covid-phylogeny\"\n",
    "nextclade = \"analysis_large/tmp/haplotypes/haplotype_info_initial_clean.csv\"\n",
    "outfile = \"analysis_large/tmp/haplotypes/haplotype_info_initial_clean_Sprotein.csv.gz\"\n",
    "environment = \"scripts/julia_modules/JuliaClusterAndTreeTools\"\n"
   ]
  },
  {
   "cell_type": "code",
   "execution_count": 4,
   "id": "ffc21e20-7bef-4e1a-9226-673b6e7c8665",
   "metadata": {},
   "outputs": [],
   "source": [
    "#go to start\n",
    "cd(wdir)"
   ]
  },
  {
   "cell_type": "code",
   "execution_count": 5,
   "id": "d49d2e01",
   "metadata": {
    "editable": true,
    "papermill": {},
    "slideshow": {
     "slide_type": ""
    },
    "tags": []
   },
   "outputs": [
    {
     "name": "stderr",
     "output_type": "stream",
     "text": [
      "\u001b[32m\u001b[1m  Activating\u001b[22m\u001b[39m project at `/data/analyses/covid-phylogeny/scripts/julia_modules/JuliaClusterAndTreeTools`\n",
      "\u001b[36m\u001b[1m[ \u001b[22m\u001b[39m\u001b[36m\u001b[1mInfo: \u001b[22m\u001b[39mPrecompiling CSV [336ed68f-0bac-5ca0-87d4-7b16caf5d00b]\n"
     ]
    }
   ],
   "source": [
    "using Pkg\n",
    "Pkg.activate(environment)\n",
    "using DataFramesMeta\n",
    "using DataFrames\n",
    "using ProgressMeter\n",
    "using CSV\n",
    "using CodecZlib"
   ]
  },
  {
   "cell_type": "code",
   "execution_count": 6,
   "id": "50712d2d-3c0d-4990-b911-70677eea321e",
   "metadata": {
    "editable": true,
    "papermill": {},
    "slideshow": {
     "slide_type": ""
    },
    "tags": []
   },
   "outputs": [],
   "source": [
    "data = DataFrame(CSV.File(nextclade))\n",
    ";"
   ]
  },
  {
   "cell_type": "code",
   "execution_count": 11,
   "id": "8e8ed332-7ef9-4269-b7b0-335ccc12f950",
   "metadata": {
    "editable": true,
    "papermill": {},
    "slideshow": {
     "slide_type": ""
    },
    "tags": []
   },
   "outputs": [],
   "source": [
    "function get_S_mutations(st::AbstractString)\n",
    "    parts = split(st,\",\")\n",
    "    mtypes::Array{String,1}=[]\n",
    "    wts::Array{String,1}=[]\n",
    "    poss::Array{Int64,1}=[]\n",
    "    subs::Array{String,1}=[]\n",
    "    for s in parts\n",
    "        mtype::String=\"\"\n",
    "        wt::String=\"\"\n",
    "        pos::Int=0\n",
    "        sub::String=\"\"\n",
    "        ls = length(s)\n",
    "        if occursin(r\"^S\\:\",s) &&  ls > 2\n",
    "            if count(i->(i==':'), s) ==2\n",
    "                partsi=split(s,\":\")\n",
    "                pos = parse(Int64,partsi[2])\n",
    "                wt=\"-\"\n",
    "                sub=partsi[3]\n",
    "                mtype=\"INS\"              \n",
    "            else\n",
    "                ls = length(s)\n",
    "                wt = s[3:3]\n",
    "                sub= s[ls:ls]\n",
    "                pos = parse(Int64,s[4:ls-1])\n",
    "                if sub == \"-\"\n",
    "                    mtype=\"DEL\"\n",
    "                else\n",
    "                    mtype=\"SUB\"\n",
    "                end\n",
    "            end\n",
    "            push!(poss,pos)\n",
    "            push!(wts, wt)\n",
    "            push!(subs, sub)\n",
    "            push!(mtypes, mtype)\n",
    "        end\n",
    "    end   \n",
    "    return((poss,wts,subs,mtypes))\n",
    "end\n",
    ";"
   ]
  },
  {
   "cell_type": "code",
   "execution_count": 12,
   "id": "de611108-576d-43e3-b975-e394883118a3",
   "metadata": {
    "papermill": {},
    "tags": []
   },
   "outputs": [
    {
     "name": "stderr",
     "output_type": "stream",
     "text": [
      "\u001b[32mProgress: 100%|█████████████████████████████████████████| Time: 0:02:12\u001b[39m39m\n"
     ]
    }
   ],
   "source": [
    "mTypeA::Array{String,1}=[]\n",
    "wtA::Array{String,1}=[]\n",
    "posA::Array{Int64,1}=[]\n",
    "subA::Array{String,1}=[]\n",
    "seqnameA::Array{String,1}=[]\n",
    "@showprogress  for (i, m) in  enumerate(data.mutation)\n",
    "    poss,wts,subs,mtypes = get_S_mutations(m)\n",
    "    for j in range(1,length(poss))\n",
    "        push!(mTypeA,mtypes[j])\n",
    "        push!(posA,poss[j])\n",
    "        push!(wtA,wts[j])\n",
    "        push!(subA,subs[j])\n",
    "        push!(seqnameA,data.seqName[i])\n",
    "    end\n",
    "end\n",
    ";"
   ]
  },
  {
   "cell_type": "code",
   "execution_count": 13,
   "id": "488bbea8-bf17-4669-881f-66693f0b8247",
   "metadata": {
    "editable": true,
    "papermill": {},
    "slideshow": {
     "slide_type": ""
    },
    "tags": []
   },
   "outputs": [
    {
     "name": "stdout",
     "output_type": "stream",
     "text": [
      "Writing out long format data to analysis_large/tmp/haplotypes/haplotype_info_initial_clean_Sprotein.csv.gz\n"
     ]
    },
    {
     "data": {
      "text/plain": [
       "\"analysis_large/tmp/haplotypes/haplotype_info_initial_clean_Sprotein.csv.gz\""
      ]
     },
     "execution_count": 13,
     "metadata": {},
     "output_type": "execute_result"
    }
   ],
   "source": [
    "println(\"Writing out long format data to \", outfile)\n",
    "longdata = DataFrame(pos=posA,wt=wtA,sub=subA,mType=mTypeA,seqname=seqnameA)\n",
    "CSV.write(outfile,longdata,compress=true)\n"
   ]
  }
 ],
 "metadata": {
  "kernelspec": {
   "display_name": "Julia 1.9.2",
   "language": "julia",
   "name": "julia-1.9"
  },
  "language_info": {
   "file_extension": ".jl",
   "mimetype": "application/julia",
   "name": "julia",
   "version": "1.9.2"
  },
  "papermill": {
   "default_parameters": {},
   "environment_variables": {},
   "input_path": "notebooks/get_S_haplotypes.jl.ipynb",
   "output_path": "analysis_large/tmp/haplotypes/haplotype_info_initial_clean_Sprotein.log.ipynb",
   "parameters": {
    "cwd": "/data/analyses/covid-phylogeny",
    "environment": "scripts/julia_modules/JuliaClusterAndTreeTools",
    "nextclade": "analysis_large/tmp/haplotypes/haplotype_info_initial_clean.csv",
    "outfile": "analysis_large/tmp/haplotypes/haplotype_info_initial_clean_Sprotein.csv.gz"
   },
   "version": "2.3.4"
  }
 },
 "nbformat": 4,
 "nbformat_minor": 5
}
