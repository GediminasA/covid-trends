{
 "cells": [
  {
   "cell_type": "code",
   "execution_count": 2,
   "id": "1532f74a",
   "metadata": {},
   "outputs": [],
   "source": [
    "library(dplyr)\n",
    "library(data.table)\n",
    "library(tidyr)\n",
    "library(clusterAnalysisUtils)\n",
    "library(dtplyr)\n",
    "library(stringr)"
   ]
  },
  {
   "cell_type": "code",
   "execution_count": 3,
   "id": "09990052",
   "metadata": {},
   "outputs": [],
   "source": [
    "#merge clusters\n",
    "cl_derep = clusterAnalysisUtils::clusterDataParser$new(snakemake@input$darep,format = \"UC\",remove_sizes = T)"
   ]
  },
  {
   "cell_type": "code",
   "execution_count": 4,
   "id": "83d33c6b",
   "metadata": {},
   "outputs": [],
   "source": [
    "cl_sw <- clusterAnalysisUtils::clusterDataParser$new(fileName = snakemake@input$swarm,format = \"MT\",remove_sizes = T)\n"
   ]
  },
  {
   "cell_type": "code",
   "execution_count": 5,
   "id": "d15ac41a",
   "metadata": {},
   "outputs": [],
   "source": [
    "cl_derep$add_upper_lever_clusters(cl_sw)"
   ]
  },
  {
   "cell_type": "code",
   "execution_count": 6,
   "id": "07ce81c3",
   "metadata": {},
   "outputs": [],
   "source": [
    "cldf <- cl_derep$df"
   ]
  },
  {
   "cell_type": "code",
   "execution_count": 8,
   "id": "57278aaf",
   "metadata": {},
   "outputs": [],
   "source": [
    "fwrite(x = cldf, file = snakemake@output$merged)"
   ]
  }
 ],
 "metadata": {
  "kernelspec": {
   "display_name": "R",
   "language": "R",
   "name": "ir"
  },
  "language_info": {
   "codemirror_mode": "r",
   "file_extension": ".r",
   "mimetype": "text/x-r-source",
   "name": "R",
   "pygments_lexer": "r",
   "version": "4.2.2"
  }
 },
 "nbformat": 4,
 "nbformat_minor": 5
}
