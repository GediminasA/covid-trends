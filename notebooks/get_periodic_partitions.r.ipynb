{
 "cells": [
  {
   "cell_type": "code",
   "execution_count": 2,
   "id": "0858a2ac",
   "metadata": {},
   "outputs": [],
   "source": [
    "library(data.table)\n",
    "library(dtplyr)\n",
    "library(dplyr, warn.conflicts = FALSE)\n",
    "library(lubridate)\n",
    "library(tidyr)"
   ]
  },
  {
   "cell_type": "code",
   "execution_count": 3,
   "id": "52e64baa",
   "metadata": {},
   "outputs": [],
   "source": [
    "meta <- fread(snakemake@input$data)\n",
    "head(meta)\n",
    "nrow(meta)"
   ]
  },
  {
   "cell_type": "code",
   "execution_count": 4,
   "id": "a8236e71",
   "metadata": {},
   "outputs": [],
   "source": [
    "ids <- fread(snakemake@input$ids, header = F)\n",
    "ids <- unlist(ids$V1)\n",
    "meta <- meta %>%\n",
    "    filter(taxon %in% ids) %>%\n",
    "    as.data.frame()\n",
    "nrow(meta)"
   ]
  },
  {
   "cell_type": "code",
   "execution_count": 5,
   "id": "ca292bec",
   "metadata": {},
   "outputs": [],
   "source": [
    "lineage4focus=snakemake@params$id"
   ]
  },
  {
   "cell_type": "code",
   "execution_count": 6,
   "id": "65adb72c",
   "metadata": {},
   "outputs": [],
   "source": [
    "df_focus = meta %>%\n",
    "    lazy_dt() %>%\n",
    "    mutate(date = date(date)) %>%\n",
    "    mutate(week = lubridate::floor_date(date, \"week\")) %>%\n",
    "    as.data.table() \n",
    "head(df_focus)"
   ]
  },
  {
   "cell_type": "code",
   "execution_count": 7,
   "id": "97ac89c4",
   "metadata": {},
   "outputs": [],
   "source": [
    "\n",
    "df_focus_per_week <- df_focus %>%\n",
    "    lazy_dt() %>%\n",
    "    group_by(week) %>%\n",
    "    summarise(N=n(), IDs=list(taxon)) %>%\n",
    "    as.data.table()"
   ]
  },
  {
   "cell_type": "code",
   "execution_count": 8,
   "id": "d5dff953",
   "metadata": {},
   "outputs": [],
   "source": [
    "set.seed(snakemake@wildcards$seed)\n",
    "downsampled = list()\n",
    "labels = list()\n",
    "ct = 0\n",
    "for (lini in df_focus_per_week$IDs) {\n",
    "    ct = ct + 1\n",
    "    n_ini = length(lini)\n",
    "    n_after = round(n_ini*as.double(snakemake@wildcards$perc)/100,digits = 0)\n",
    "    if (n_after == 0) n_after = 1 \n",
    "    downsampled[[ct]]=sample(lini,n_after,replace=FALSE)\n",
    "    labels[[ct]] = paste(\"week\",ct,sep=\"\")\n",
    "}\n",
    "\n",
    "df_focus_per_week$ID_sampled <- downsampled\n",
    "df_focus_per_week$Label <- labels"
   ]
  },
  {
   "cell_type": "code",
   "execution_count": 10,
   "id": "ba95cb2d",
   "metadata": {},
   "outputs": [],
   "source": [
    "#output info\n",
    "outdf <- df_focus_per_week %>%\n",
    "    select(Label,ID_sampled) %>%\n",
    "    as.data.frame() %>%\n",
    "    unnest(ID_sampled)\n",
    "fwrite(x = outdf, file = snakemake@output$partitions_info)"
   ]
  },
  {
   "cell_type": "code",
   "execution_count": 11,
   "id": "349e9222",
   "metadata": {},
   "outputs": [],
   "source": [
    "outdf2 <- outdf %>%\n",
    "    select(ID_sampled) %>%\n",
    "    as.data.frame()\n",
    "fwrite(x = outdf2, file = snakemake@output$cluster, row.names = F, col.names = F)"
   ]
  }
 ],
 "metadata": {
  "kernelspec": {
   "display_name": "R",
   "language": "R",
   "name": "ir"
  },
  "language_info": {
   "codemirror_mode": "r",
   "file_extension": ".r",
   "mimetype": "text/x-r-source",
   "name": "R",
   "pygments_lexer": "r",
   "version": "4.2.2"
  }
 },
 "nbformat": 4,
 "nbformat_minor": 5
}
