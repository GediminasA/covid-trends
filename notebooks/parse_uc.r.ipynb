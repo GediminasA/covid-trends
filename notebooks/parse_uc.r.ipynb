{
 "cells": [
  {
   "cell_type": "code",
   "execution_count": 2,
   "id": "fa37f916",
   "metadata": {},
   "outputs": [],
   "source": [
    "library(data.table)\n",
    "library(dtplyr)\n",
    "library(dplyr, warn.conflicts = FALSE)\n",
    "library(clusterAnalysisUtils)"
   ]
  },
  {
   "cell_type": "code",
   "execution_count": 3,
   "id": "7dd17628",
   "metadata": {},
   "outputs": [],
   "source": [
    "d0 <- clusterAnalysisUtils::clusterDataParser$new(snakemake@input$uc,format = \"UC\",remove_sizes = T)"
   ]
  },
  {
   "cell_type": "code",
   "execution_count": 5,
   "id": "68d9aaa3",
   "metadata": {},
   "outputs": [],
   "source": [
    "outids <- d0$df %>%\n",
    "    select(Cluster) %>%\n",
    "    as.data.table()\n",
    "outids2 = data.table(Cluster = unique(outids$Cluster))\n",
    "fwrite(x = outids2, file = snakemake@output$rep_ids,col.names = F)\n",
    "saveRDS(object = d0,file = snakemake@output$data,compress = T)"
   ]
  }
 ],
 "metadata": {
  "kernelspec": {
   "display_name": "R",
   "language": "R",
   "name": "ir"
  },
  "language_info": {
   "codemirror_mode": "r",
   "file_extension": ".r",
   "mimetype": "text/x-r-source",
   "name": "R",
   "pygments_lexer": "r",
   "version": "4.2.2"
  }
 },
 "nbformat": 4,
 "nbformat_minor": 5
}
