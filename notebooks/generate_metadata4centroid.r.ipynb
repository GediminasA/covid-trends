{
 "cells": [
  {
   "cell_type": "code",
   "execution_count": 3,
   "id": "58a4188b",
   "metadata": {},
   "outputs": [],
   "source": [
    "library(dplyr)\n",
    "library(tidyr)\n",
    "library(data.table)\n",
    "library(clusterAnalysisUtils)"
   ]
  },
  {
   "cell_type": "code",
   "execution_count": 4,
   "id": "336a1231",
   "metadata": {},
   "outputs": [],
   "source": [
    "ucsdf <- list()\n",
    "ct = 0\n",
    "for (uc in snakemake@input$ucs) {\n",
    "    ct = ct + 1\n",
    "    ucsdf[[ct]] = clusterAnalysisUtils::clusterDataParser$new(uc,format = \"UC\",remove_sizes = T)$df\n",
    "}"
   ]
  },
  {
   "cell_type": "code",
   "execution_count": 5,
   "id": "668f2213",
   "metadata": {},
   "outputs": [],
   "source": [
    "ucdf <- bind_rows(ucsdf)"
   ]
  },
  {
   "cell_type": "code",
   "execution_count": 6,
   "id": "05940a7b",
   "metadata": {},
   "outputs": [],
   "source": [
    "swsdf <- list()\n",
    "ct = 0\n",
    "for (sw in snakemake@input$swarm) {\n",
    "    ct = ct + 1\n",
    "    swsdf[[ct]] = clusterAnalysisUtils::clusterDataParser$new(sw,format = \"MT\",remove_sizes = T)$df\n",
    "}"
   ]
  },
  {
   "cell_type": "code",
   "execution_count": 7,
   "id": "77460e57",
   "metadata": {},
   "outputs": [],
   "source": [
    "swdf <- bind_rows(swsdf) %>%\n",
    "    rename(ClusterSW=Cluster, MemberSW=Member)"
   ]
  },
  {
   "cell_type": "code",
   "execution_count": 21,
   "id": "17dc33aa",
   "metadata": {},
   "outputs": [],
   "source": [
    "merged <- ucdf %>%\n",
    "    left_join(swdf, by=c(\"Cluster\"=\"MemberSW\")) %>%\n",
    "    as.data.table() %>%\n",
    "    select(-Cluster)"
   ]
  },
  {
   "cell_type": "code",
   "execution_count": 22,
   "id": "e6256b29",
   "metadata": {},
   "outputs": [],
   "source": [
    "meta <- fread(snakemake@input$data) %>%\n",
    "    select(taxon,date) %>%\n",
    "    as.data.frame()\n",
    "names(meta)"
   ]
  },
  {
   "cell_type": "code",
   "execution_count": 44,
   "id": "66511ab5",
   "metadata": {},
   "outputs": [],
   "source": [
    "merged2 <- merged %>%\n",
    "    left_join(meta, by = c(\"ClusterSW\"=\"taxon\")) %>%\n",
    "    mutate(date = as.Date(date)) %>%\n",
    "    as.data.frame()\n",
    "merged2"
   ]
  },
  {
   "cell_type": "code",
   "execution_count": 46,
   "id": "f224ad4f",
   "metadata": {},
   "outputs": [],
   "source": []
  },
  {
   "cell_type": "code",
   "execution_count": 49,
   "id": "e5e09e78",
   "metadata": {},
   "outputs": [],
   "source": [
    "mind <- min(merged2$date)\n",
    "dates <- merged2$date - mind\n",
    "merged2$days <- as.integer(dates)"
   ]
  },
  {
   "cell_type": "code",
   "execution_count": 53,
   "id": "64291c45",
   "metadata": {},
   "outputs": [],
   "source": [
    "merged3 <- merged2 %>%\n",
    "    group_by(ClusterSW) %>%\n",
    "    summarise(days  = median(days)) %>%\n",
    "    as.data.frame() %>%\n",
    "    rowwise() %>%\n",
    "    mutate(days = mind + days) %>%\n",
    "    rename(name=ClusterSW,date=days)"
   ]
  },
  {
   "cell_type": "code",
   "execution_count": 55,
   "id": "ae132a9f",
   "metadata": {},
   "outputs": [],
   "source": [
    "fwrite(x = merged3, file = snakemake@output$metadata, sep=\",\")"
   ]
  }
 ],
 "metadata": {
  "kernelspec": {
   "display_name": "R",
   "language": "R",
   "name": "ir"
  },
  "language_info": {
   "codemirror_mode": "r",
   "file_extension": ".r",
   "mimetype": "text/x-r-source",
   "name": "R",
   "pygments_lexer": "r",
   "version": "4.2.2"
  }
 },
 "nbformat": 4,
 "nbformat_minor": 5
}
