{
 "cells": [
  {
   "cell_type": "code",
   "execution_count": null,
   "id": "385621d1",
   "metadata": {},
   "outputs": [],
   "source": [
    "library(dplyr)\n",
    "library(data.table)\n",
    "library(tidyr)\n",
    "library(ggplot2)\n",
    "library(patchwork)\n",
    "library(ggrepel)\n",
    "library(fitdistrplus)\n",
    "library(truncnorm)"
   ]
  },
  {
   "cell_type": "code",
   "execution_count": null,
   "id": "7fc85dfa-befb-4010-a6ca-35bf9b1c48ae",
   "metadata": {},
   "outputs": [],
   "source": [
    "# read conservation per lineages \n",
    "dfdata <- list()\n",
    "dfall = lapply(X = snakemake@input$all,\n",
    "       function(x){\n",
    "           fread(x)\n",
    "       } \n",
    ")\n",
    "\n",
    "dflt = lapply(X = snakemake@input$lt,\n",
    "       function(x){\n",
    "           fread(x)\n",
    "       } \n",
    ")\n",
    "names(dfall) <- snakemake@params$lineages\n",
    "names(dflt) <- snakemake@params$lineages\n",
    "dfdata[[\"lt\"]] <- dflt\n",
    "dfdata[[\"all\"]] <- dfall"
   ]
  },
  {
   "cell_type": "code",
   "execution_count": null,
   "id": "daae85a0-1401-4adf-9cc7-dc393829581e",
   "metadata": {},
   "outputs": [],
   "source": [
    "# read date per lineage data\n",
    "dfd <- fread(snakemake@input$abundance_dates_per_lineage)\n",
    "dfd_numeric = dfd %>%\n",
    "    dplyr::select(-lineage, -Counts, month_peak) %>%\n",
    "    mutate_all(as.numeric) \n",
    "\n",
    "dfd_date = dfd %>%\n",
    "    dplyr::select(-lineage, -Counts, month_peak)\n",
    "\n",
    "dfd_lineage <- dfd %>%\n",
    "    dplyr::select(lineage)\n",
    "\n",
    "dfd_numeric <- bind_cols(dfd_lineage,dfd_numeric)\n",
    "dfd_date <- bind_cols(dfd_lineage,dfd_date)"
   ]
  },
  {
   "cell_type": "code",
   "execution_count": null,
   "id": "4f091d8d-0c26-4d8e-997d-3f30daa522b9",
   "metadata": {},
   "outputs": [],
   "source": [
    "#get contacts\n",
    "dfcnt = fread(cmd = paste(\"sed s/?/NA/g \",snakemake@input$contacts))\n",
    "colnames(dfcnt) <- paste(\"Cluster\",1:ncol(dfcnt),sep=\"_\")\n",
    "dfcnt$Position = 1:nrow(dfcnt)\n",
    "\n",
    "dfcnt_tmp <- dfcnt %>%\n",
    "    pivot_longer(cols = starts_with(\"Cluster\"),names_to = \"Cluster\",values_to = \"Contact\")\n",
    "\n",
    "dfcnt_tmp <- dfcnt_tmp %>%\n",
    "    group_by(Position) %>%\n",
    "    filter(!is.na(Contact)) %>%\n",
    "    summarise(Cluster_all=min(Contact,na.rm = T))   \n",
    "dfcnt <- dfcnt %>%\n",
    "    left_join(dfcnt_tmp,by=\"Position\") %>%\n",
    "    dplyr::select(Position,starts_with(\"Cluster\")) %>%\n",
    "    pivot_longer(cols = starts_with(\"Cluster\"),names_to = \"Cluster\",values_to = \"Contact\")"
   ]
  },
  {
   "cell_type": "code",
   "execution_count": null,
   "id": "2982b2fd-523b-4f41-a3b3-0a9ee3e83503",
   "metadata": {},
   "outputs": [],
   "source": [
    "#collect positions mostly enriched - \n",
    "options(warn=-1)\n",
    "contact_limit = 4.5\n",
    "norm_limit = 0.95\n",
    "rez = list()\n",
    "ct = 0\n",
    "lineages = snakemake@params$lineages\n",
    "lineageslt = unlist(strsplit(\"AY.4.5\tQ.1\tB.1.1.7\tB.1.177.60\tBA.2\tBA.2.9\",split='\\t')[[1]])\n",
    "\n",
    "#lineages = unlist(strsplit(\"AY.4.5\",split='\\t')[[1]])\n",
    "\n",
    "enriched_positions = list()\n",
    "scope=c('all','lt')\n",
    "ct_enriched_positions = 0\n",
    "for (sco in scope) {\n",
    "    #lineage = \"AY.4.5\"\n",
    "    for (lineage in lineages){\n",
    "        dfe <- dfdata[[sco]][[lineage]]\n",
    "        for (cluster_id in unique(dfcnt$Cluster) ) {\n",
    "            ct = ct + 1\n",
    "            # print(paste(\"Working on\",cluster_id,contact_limit ))\n",
    "            contacts_df <- dfcnt %>%\n",
    "                dplyr::filter(Contact > contact_limit & Cluster == cluster_id) %>%\n",
    "                mutate(Contact=1) %>%\n",
    "                mutate(Cluster=NULL)\n",
    "\n",
    "            dftest <- dfe %>%\n",
    "                left_join(contacts_df, by= \"Position\") %>%\n",
    "                mutate(Variability=1-Conservation)\n",
    "            dftest$Contact[is.na(dftest$Contact)] <- 0\n",
    "            dftest$Contact <- as.factor(dftest$Contact)\n",
    "            df4print <- dftest %>%\n",
    "                group_by(Contact) %>%\n",
    "                summarise(M=mean(Entropy)) %>%\n",
    "                ungroup() %>%\n",
    "                pivot_wider(names_from = Contact, values_from = M)\n",
    "            wct = wilcox.test(Entropy ~ Contact, dftest,alternative = \"less\" )\n",
    "            data_on_contacting <- dftest[dftest$Contact==1]\n",
    "            if (wct$p.value <= 0.05) {\n",
    "                ct_enriched_positions = ct_enriched_positions + 1\n",
    "                testData = data_on_contacting$Entropy\n",
    "                limitx = tryCatch(\n",
    "                    {\n",
    "                        rez_fit_runcnorm = fitdist(testData, \"truncnorm\",\n",
    "                        start = list(sd = sd(testData)),  fix.arg=list(a=0, mean=0))\n",
    "                        limitx = qtruncnorm(norm_limit,a=0,b=Inf, mean = 0, sd = rez_fit_runcnorm$estimate[\"sd\"])\n",
    "                    }, error = function(err) { \n",
    "                        limitx = max(testData)\n",
    "\n",
    "                    }\n",
    "                    \n",
    "                )\n",
    "                pass <- data_on_contacting %>%\n",
    "                    filter(Entropy > limitx)\n",
    "                pass$Scope <- sco\n",
    "                pass$Cluster <- cluster_id\n",
    "                pass$lineage <- lineage\n",
    "                meanE = mean(data_on_contacting$Entropy)\n",
    "                sdE = sd(data_on_contacting$Entropy)\n",
    "                pass <- pass %>%\n",
    "                    mutate(Z_score=(Entropy-meanE)/sdE)\n",
    "                enriched_positions[[ct]] = pass\n",
    "               }\n",
    "\n",
    "\n",
    "        }\n",
    "    }\n",
    "}\n",
    "# ggplot(data_on_contacting) + geom_histogram(aes(x=Entropy))\n",
    "# print(df4print)\n",
    "# outtest = rosnerTest(data_on_contacting$Entropy, k=30)\n",
    "# outtest\n",
    "enriched_positions <- bind_rows(enriched_positions)\n",
    "head(enriched_positions)\n"
   ]
  },
  {
   "cell_type": "markdown",
   "id": "097823f0-70c1-484f-83fc-54e52eccdaf4",
   "metadata": {},
   "source": [
    "# LT vs ALL"
   ]
  },
  {
   "cell_type": "code",
   "execution_count": null,
   "id": "1ba2ce5d-9723-4feb-94f6-6541dbb8fcb0",
   "metadata": {},
   "outputs": [],
   "source": [
    "options(repr.plot.width=9, repr.plot.height=4, jupyter.plot_mimetypes = \"image/svg+xml\")\n",
    "enriched_positions_2 <- enriched_positions %>%\n",
    "    filter(lineage %in% lineageslt) %>%\n",
    "    group_by(Position,Scope, lineage) %>%\n",
    "    summarise(N_cls=length(unique(Cluster))) #%>%\n",
    "    #filter(N_cls > 1) #%>%\n",
    "enriched_positions_lt <- ggplot(enriched_positions_2)+ geom_point(aes(x=Position,size=N_cls, color=Scope, y=Scope)) + xlab(\"Scope\") +\n",
    "facet_grid(rows = vars(lineage)) +\n",
    "theme(text = element_text(size = 12), strip.text.y = element_text(size = 6)) +\n",
    "scale_size(range = c(1, 2)) +\n",
    "labs(size = \"Number of cluster\")\n",
    "enriched_positions_lt \n"
   ]
  },
  {
   "cell_type": "code",
   "execution_count": null,
   "id": "134a2c5e-41c9-45b1-b2ca-b702cec7ef97",
   "metadata": {},
   "outputs": [],
   "source": [
    "enriched_positions_4ven<- enriched_positions %>%\n",
    "    #filter(Scope == \"all\", Cluster==\"Cluster_all\") %>%\n",
    "    group_by(Position,Scope) %>%\n",
    "    summarise(N_cls=length(unique(Cluster))) %>%\n",
    "    ungroup()\n",
    " d <- dist(enriched_positions_4ven$Position, method = \"euclidean\")\n",
    "clusts <- cutree(hclust(d), h=10)\n",
    "enriched_positions_4ven$cluster <- clusts"
   ]
  },
  {
   "cell_type": "code",
   "execution_count": null,
   "id": "e0e2cfad-9385-4c12-a603-6b2bac28755c",
   "metadata": {},
   "outputs": [],
   "source": [
    "library(ggvenn)\n",
    "options(repr.plot.width=10, repr.plot.height=5, jupyter.plot_mimetypes = \"image/svg+xml\")\n",
    "\n",
    "a <- list(`all` = filter(enriched_positions_4ven, Scope == \"all\")$cluster,\n",
    "          `lt` = filter(enriched_positions_4ven, Scope == \"lt\")$cluster\n",
    "         )\n",
    "vent <- ggvenn(a, c(\"all\", \"lt\"),set_name_size=4, text_size = 4, auto_scale = T,\n",
    "              fill_alpha=0.2,\n",
    "              stroke_alpha=0.3,\n",
    "              stroke_size = 0, fill_color = c(\"#00B6EB\", \"#F8766D\"))            # draw two-set venn\n",
    "\n",
    "lt_vs_all <- (enriched_positions_lt | vent  ) +   plot_annotation(tag_levels = 'a') + plot_layout(widths = c(6,4))\n",
    "ggsave(snakemake@output$image1, plot = lt_vs_all, width = 10, height = 5)\n",
    "lt_vs_all"
   ]
  },
  {
   "cell_type": "markdown",
   "id": "40d0a25b-254a-4aa4-974d-f04128e847d9",
   "metadata": {},
   "source": [
    "# Overall trends"
   ]
  },
  {
   "cell_type": "code",
   "execution_count": null,
   "id": "bd83151a-a069-4072-8411-aac1256c1ac1",
   "metadata": {},
   "outputs": [],
   "source": [
    "lineage_time_ab <- fread(snakemake@input$abundance_dates_per_lineage) %>%\n",
    "    dplyr::select(lineage, month_peak) %>%\n",
    "    mutate(month_peak_numeric = as.numeric(month_peak)) %>%\n",
    "    arrange(month_peak)\n",
    "head(lineage_time_ab)"
   ]
  },
  {
   "cell_type": "code",
   "execution_count": null,
   "id": "f44e9a14-6371-4d9b-86bc-4e808ec580cb",
   "metadata": {},
   "outputs": [],
   "source": [
    "options(repr.plot.width=6, repr.plot.height=9, jupyter.plot_mimetypes = \"image/svg+xml\")\n",
    "enriched_positions_3 <- enriched_positions %>%\n",
    "    group_by(Position,Scope, lineage) %>%\n",
    "    filter(Scope == \"all\") %>%\n",
    "    summarise(N_cls=length(unique(Cluster))) %>%\n",
    "    mutate(lineageF = factor(lineage, levels= lineage_time_ab$lineage))\n",
    "# add cluster\n",
    "d <- dist(enriched_positions_3$Position, method = \"euclidean\")\n",
    "clusts <- cutree(hclust(d),h=200)\n",
    "enriched_positions_3$Pcl <- clusts\n",
    "\n",
    "    #filter(N_cls > 1) #%>%\n",
    "enriched_positions_all <- ggplot(enriched_positions_3)+ geom_point(aes(x=Position,size=N_cls, y=Scope, color=as.factor(Pcl))) + \n",
    "ylab(\"Lineages\") +\n",
    "xlab(\"Sequence position\") +\n",
    "facet_wrap(vars(lineageF), strip.position = \"left\", ncol =1) +\n",
    "#, ncol = 1)\n",
    "theme(text = element_text(size = 12), strip.text.y = element_text(size = 6),\n",
    "        axis.text.y=element_blank(),  #remove y axis labels\n",
    "        axis.ticks.y=element_blank(),  #remove y axis ticks\n",
    "        panel.spacing = unit(0.1, \"lines\")\n",
    "     ) +\n",
    "scale_size(range = c(1, 2)) +\n",
    "labs(size = \"Number of structural \\ncluster\", color=\"Positional cluster\") \n",
    "enriched_positions_all"
   ]
  },
  {
   "cell_type": "code",
   "execution_count": null,
   "id": "49b1d62d-80f5-4f99-846a-1403bcd13dfe",
   "metadata": {},
   "outputs": [],
   "source": [
    "enriched_positions_34tr <- enriched_positions_3 %>%\n",
    "    group_by(Pcl, lineage) %>%\n",
    "    summarise(N=n()) %>%\n",
    "    ungroup()\n",
    "#%>%\n",
    "    #left_join(lineage_time_ab, by = \"lineage\")\n",
    "#ggplot(enriched_positions_34tr) + geom_point(aes(x=month_peak, y = N, color = as.factor(Pcl))) + facet_grid(rows = vars(Pcl))"
   ]
  },
  {
   "cell_type": "code",
   "execution_count": null,
   "id": "bb6d9105-116a-406e-808f-55bc970d4113",
   "metadata": {},
   "outputs": [],
   "source": [
    "Pcls4t <- unique(enriched_positions_34tr$Pcl)\n",
    "lineages4t <- unique(enriched_positions_34tr$lineage)\n",
    "Pcls_V <- list()\n",
    "leneages_V <- list()\n",
    "ct = 0\n",
    "for (l in lineages4t) {\n",
    "    for (c in Pcls4t) {\n",
    "        ct = ct + 1\n",
    "        Pcls_V[[ct]] <- c\n",
    "        leneages_V[[ct]] <- l\n",
    "    }\n",
    "}\n",
    "df4t <- data.frame('lineage' = unlist(leneages_V), 'Pcl' = unlist(Pcls_V)) %>%\n",
    "    left_join(enriched_positions_34tr, by = c(\"lineage\",\"Pcl\"))\n",
    "df4t$N[is.na(df4t$N)] <- 0\n",
    "df4t <- df4t %>%\n",
    "    left_join(lineage_time_ab, by = \"lineage\")\n",
    "df4t_plot <- ggplot(df4t) + geom_point(aes(x=month_peak, y = N, color = as.factor(Pcl))) + facet_grid(rows = vars(Pcl))\n",
    "df4t_plot "
   ]
  },
  {
   "cell_type": "code",
   "execution_count": null,
   "id": "0a41e0fb-40b0-430d-9277-c75ee909af8b",
   "metadata": {},
   "outputs": [],
   "source": [
    "df4t4cor <- df4t %>%\n",
    "    dplyr::select(-month_peak) %>%\n",
    "    mutate(Pcl = as.character(Pcl)) %>%\n",
    "    pivot_wider(names_from = Pcl, values_from = N,names_prefix = \"Pcl_\")\n",
    "df4t4cor_set1 <- unlist(df4t4cor$month_peak_numeric)\n",
    "df4t4cor_set2 <- dplyr::select(df4t4cor,starts_with(\"Pcl_\"))\n",
    "ns <- list()\n",
    "ps <- list()\n",
    "rs <- list()\n",
    "ct0 = 0\n",
    "for (n in names(df4t4cor_set2)) {\n",
    "    ct0 = ct0 + 1\n",
    "    print(n)\n",
    "    ct = cor.test(df4t4cor_set2[[n]],df4t4cor_set1, method = \"spearman\",exact = FALSE )\n",
    "    p = ct$p.value\n",
    "    r = ct$estimate\n",
    "    ns[ct0] = sub(\"Pcl_\",\"\",n)\n",
    "    ps[ct0] = p\n",
    "    rs[ct0] = r\n",
    "}\n",
    "df4t4cor2 <-  data.frame(Pcl = as.integer(ns), \"p\" = round(unlist(ps), digits = 4), \"r\" = round(unlist(rs), digits = 2))\n",
    "df4t4cor2"
   ]
  },
  {
   "cell_type": "code",
   "execution_count": null,
   "id": "9968cddd-fbe4-4ee9-8bf8-d9b717cb33f5",
   "metadata": {},
   "outputs": [],
   "source": [
    "options(repr.plot.width=6, repr.plot.height=8, jupyter.plot_mimetypes = \"image/svg+xml\")\n",
    "df4t_plot <- ggplot(df4t) + geom_point(aes(x=month_peak, y = N, color = as.factor(Pcl))) + facet_grid(rows = vars(Pcl)) +\n",
    "geom_smooth(method=lm, aes(x=month_peak, y = N), alpha = 0.3,linetype = \"dashed\", linewidth = 0.4)\n",
    "df4t_plot <- df4t_plot + geom_text(data = df4t4cor2, aes(label = paste(\"r = \",r,\" p = \",p,sep = \"\")), y = max(df4t$N), x = mean(df4t$month_peak), vjust = 1)+\n",
    "theme(text = element_text(size = 12), strip.text.y = element_text(size = 12), legend.position = \"none\")  +\n",
    "xlab(\"Month\") + ylab(\"Number of structural clusters\")\n",
    "\n",
    "df4t_plot"
   ]
  },
  {
   "cell_type": "code",
   "execution_count": null,
   "id": "512fdb8d-9f03-42cd-8d6f-423c726feb86",
   "metadata": {},
   "outputs": [],
   "source": [
    "options(repr.plot.width=12, repr.plot.height=9, jupyter.plot_mimetypes = \"image/svg+xml\")\n",
    "\n",
    "global_enrich <- enriched_positions_all | df4t_plot +  plot_annotation(tag_levels = 'a')\n",
    "ggsave(snakemake@output$image2, plot = global_enrich, width = 12, height = 9)\n",
    "global_enrich"
   ]
  },
  {
   "cell_type": "markdown",
   "id": "9da5168b-5458-41b4-aceb-62fa4aeaacd3",
   "metadata": {},
   "source": [
    "# additional table on clusters enruchment"
   ]
  },
  {
   "cell_type": "code",
   "execution_count": null,
   "id": "0aa707f3-b2e5-4b2f-8a8e-be2d817d1d63",
   "metadata": {},
   "outputs": [],
   "source": [
    "#df4t4cor2\n",
    "#intervals of intervals\n",
    "out1 <- enriched_positions_3 %>%\n",
    "    group_by(Pcl) %>%\n",
    "    summarise(Interval = paste(\"[\",min(Position),\"-\",max(Position),\"]\",sep=\"\"))\n",
    "out1 <- df4t4cor2 %>%\n",
    "    left_join(out1, by=\"Pcl\") %>%\n",
    "    dplyr::select(`Positional cluster`=Pcl, r,p,`Sequence range` = Interval)\n",
    "fwrite(x = out1,file = snakemake@output$data1)"
   ]
  },
  {
   "cell_type": "code",
   "execution_count": null,
   "id": "3418680e-2cae-4ca3-aabc-2a4f9bccf8e0",
   "metadata": {},
   "outputs": [],
   "source": [
    "#Summarizing output"
   ]
  },
  {
   "cell_type": "code",
   "execution_count": null,
   "id": "afef7bff-e7a3-424d-b6ce-71735f25e0a2",
   "metadata": {},
   "outputs": [],
   "source": [
    "out2 <- enriched_positions %>%\n",
    "    filter(Scope == \"lt\") %>%\n",
    "    group_by(Position,Reference,lineage) %>%\n",
    "    summarise(Cluster=paste0(Cluster, collapse = \"|\"), N_clusters = n(), Z_score = mean(Z_score)) %>%\n",
    "    filter(N_clusters > 1)\n",
    "    \n",
    "    \n",
    "fwrite(x = out2, file = snakemake@output$data2)"
   ]
  }
 ],
 "metadata": {
  "kernelspec": {
   "display_name": "R",
   "language": "R",
   "name": "ir"
  },
  "language_info": {
   "codemirror_mode": "r",
   "file_extension": ".r",
   "mimetype": "text/x-r-source",
   "name": "R",
   "pygments_lexer": "r",
   "version": "4.2.3"
  }
 },
 "nbformat": 4,
 "nbformat_minor": 5
}
