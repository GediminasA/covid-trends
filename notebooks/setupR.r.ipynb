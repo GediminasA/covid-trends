{
 "cells": [
  {
   "cell_type": "code",
   "execution_count": 2,
   "id": "169c2615",
   "metadata": {},
   "outputs": [],
   "source": [
    "library(pacman)\n",
    "if (!require(\"clusterAnalysisUtils\")) pacman::p_install_gh(\"GediminasA/clusterAnalysisUtils\")"
   ]
  },
  {
   "cell_type": "code",
   "execution_count": 3,
   "id": "eab2aba0",
   "metadata": {},
   "outputs": [],
   "source": [
    "fileConn<-file(snakemake@output[[1]])\n",
    "writeLines(c(\"All packgages installed\"), fileConn)\n",
    "close(fileConn)"
   ]
  }
 ],
 "metadata": {
  "kernelspec": {
   "display_name": "R",
   "language": "R",
   "name": "ir"
  },
  "language_info": {
   "codemirror_mode": "r",
   "file_extension": ".r",
   "mimetype": "text/x-r-source",
   "name": "R",
   "pygments_lexer": "r",
   "version": "4.2.2"
  }
 },
 "nbformat": 4,
 "nbformat_minor": 5
}
