{
 "cells": [
  {
   "cell_type": "code",
   "execution_count": null,
   "id": "cf47822b",
   "metadata": {},
   "outputs": [],
   "source": [
    "library(dplyr)\n",
    "library(data.table)\n",
    "library(tidyr)\n",
    "library(ggplot2)\n",
    "library(patchwork)\n",
    "library(svglite)\n",
    "library(fgsea)"
   ]
  },
  {
   "cell_type": "code",
   "execution_count": null,
   "id": "859cdb67-4c5a-43cb-a0ca-e375930e8837",
   "metadata": {},
   "outputs": [],
   "source": [
    "contacts_file = snakemake@input$contacts\n",
    "#read contacts\n",
    "dfcnt = fread(cmd = paste(\"sed s/?/NA/g \",contacts_file))\n",
    "colnames(dfcnt) <- paste(\"Cluster\",1:ncol(dfcnt),sep=\"_\")\n",
    "dfcnt$Position = 1:nrow(dfcnt)\n",
    "\n",
    "dfcnt_tmp <- dfcnt %>%\n",
    "    pivot_longer(cols = starts_with(\"Cluster\"),names_to = \"Cluster\",values_to = \"Contact\")\n",
    "\n",
    "dfcnt_tmp <- dfcnt_tmp %>%\n",
    "    group_by(Position) %>%\n",
    "    filter(!is.na(Contact)) %>%\n",
    "    summarise(Cluster_all=min(Contact,na.rm = T)) \n",
    "\n",
    "dfcnt <- dfcnt %>%\n",
    "    left_join(dfcnt_tmp,by=\"Position\") %>%\n",
    "    select(Position,starts_with(\"Cluster\")) %>%\n",
    "    pivot_longer(cols = starts_with(\"Cluster\"),names_to = \"Cluster\",values_to = \"Contact\") %>%\n",
    "    mutate(ID = sub(\"Cluster_\",\"\",Cluster))\n",
    "\n",
    "dfcntshort <- dfcnt %>%\n",
    "    filter(Contact <= 4.5)"
   ]
  },
  {
   "cell_type": "code",
   "execution_count": null,
   "id": "f4fe637e-71ac-491d-863d-47748dc520b6",
   "metadata": {},
   "outputs": [],
   "source": [
    "options(repr.plot.width=9, repr.plot.height=7, jupyter.plot_mimetypes = \"image/svg+xml\")\n",
    "contact_review <- ggplot(data=dfcnt, aes(x=Position,y=Contact)) + geom_point(aes(color=ID),size=0.5) + facet_wrap(~ID) + theme(text = element_text(size = 12), legend.position = \"none\") + ylab(\"Contact, Å\")\n",
    "contact_reviewshort <- ggplot(data=dfcntshort, aes(x=Position,y=Contact)) + geom_point(aes(color=ID),size=0.5) + facet_wrap(~ID) + theme(text = element_text(size = 12), legend.position = \"none\") + ylab(\"Contact, Å\")\n",
    "\n",
    "contact_reviewall <- contact_review /contact_reviewshort\n",
    "contact_reviewall <- contact_reviewall + plot_annotation(tag_levels = 'a')\n",
    "ggsave(snakemake@output[[1]], contact_reviewall, width = 9, height = 7)\n",
    "contact_reviewall"
   ]
  },
  {
   "cell_type": "code",
   "execution_count": null,
   "id": "265ec07d-db76-4c45-822f-e150e8af2ca8",
   "metadata": {},
   "outputs": [],
   "source": [
    "dfcnt4out <- dfcnt %>%\n",
    "    select(-ID) %>%\n",
    "    mutate(Contact = if_else(Contact <= 4.5,1,0)) %>%\n",
    "    pivot_wider(names_from = Cluster, values_from = Contact)\n",
    "dfcnt4out[dfcnt4out==0] <- NA\n",
    "dfcnt4out[is.na(dfcnt4out)] <- 0\n",
    "fwrite(x = dfcnt4out, file=snakemake@output[[2]])"
   ]
  }
 ],
 "metadata": {
  "kernelspec": {
   "display_name": "R",
   "language": "R",
   "name": "ir"
  },
  "language_info": {
   "codemirror_mode": "r",
   "file_extension": ".r",
   "mimetype": "text/x-r-source",
   "name": "R",
   "pygments_lexer": "r",
   "version": "4.2.3"
  }
 },
 "nbformat": 4,
 "nbformat_minor": 5
}
