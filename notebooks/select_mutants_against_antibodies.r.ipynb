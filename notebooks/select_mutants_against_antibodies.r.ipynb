{
 "cells": [
  {
   "cell_type": "code",
   "execution_count": null,
   "id": "3f0dd314",
   "metadata": {},
   "outputs": [],
   "source": [
    "library(data.table)\n",
    "library(dplyr)\n",
    "library(lubridate)\n",
    "library(ggplot2)\n",
    "library(dtplyr)\n",
    "library(tidyr)"
   ]
  },
  {
   "cell_type": "code",
   "execution_count": null,
   "id": "4524e400-7858-4d1f-a079-b31ad2020406",
   "metadata": {},
   "outputs": [],
   "source": [
    "# clean uo contacts data\n",
    "pdb_cluster_assign = fread(snakemake@input$pdb_cluster_assignments)\n",
    "pdb_cluster_df <- list()\n",
    "ct = 0\n",
    "for (l in  readLines(snakemake@input$pdb_cluster_assignments)) {\n",
    "    ct = ct + 1 \n",
    "    df <- data.frame(PDB = strsplit(l, split = \" \")[[1]])\n",
    "    df$Cluster <- ct\n",
    "    pdb_cluster_df[[ct]] <- df\n",
    "}\n",
    "pdb_cluster_df <- bind_rows(pdb_cluster_df)\n",
    "head(pdb_cluster_df)"
   ]
  },
  {
   "cell_type": "code",
   "execution_count": null,
   "id": "6b4c13ab-675c-49a2-b740-389142a27bd0",
   "metadata": {},
   "outputs": [],
   "source": [
    "pdb_contacts <- fread(snakemake@input$antibody_contacts_data_pdbwise) \n",
    "pdb_contacts[pdb_contacts==\"?\"] <- NA\n",
    "pdb_contacts[pdb_contacts <= 4.5 ] <- 1\n",
    "pdb_contacts[is.na(pdb_contacts)] <- 0\n",
    "pdb_contacts$Position = seq(1,nrow(pdb_contacts))\n",
    "#seq(1,nrow(pdb_contacts))\n",
    "pdb_contacts <- pdb_contacts %>%\n",
    "    pivot_longer(cols = contains(\"AHL\"), names_to =  \"PDB\", values_to = \"detected\") %>%\n",
    "    filter(detected == 1) %>%\n",
    "    mutate(PDB = sub(\"_AHL\",\"\",PDB)) %>%\n",
    "    select(-detected)\n",
    "head(pdb_contacts)"
   ]
  },
  {
   "cell_type": "code",
   "execution_count": null,
   "id": "a5306173-ce81-4903-aa72-f93884230495",
   "metadata": {},
   "outputs": [],
   "source": [
    "df <- fread(snakemake@input$df_file)"
   ]
  },
  {
   "cell_type": "code",
   "execution_count": null,
   "id": "aa9bb52c-c24a-4e98-a20d-54306f0ba8af",
   "metadata": {},
   "outputs": [],
   "source": [
    "df <- df %>%\n",
    "    filter(LT == 1) %>%\n",
    "    filter(lineage_pangolin == month_strainLT)"
   ]
  },
  {
   "cell_type": "code",
   "execution_count": null,
   "id": "88602bc0-f9a9-4d94-8c04-f4cb3ba79490",
   "metadata": {},
   "outputs": [],
   "source": [
    "median_per_month <- df %>%\n",
    "    group_by(month) %>%\n",
    "    summarise(N_mutations_month_median = median(N_mutations)) %>%\n",
    "    ungroup()\n",
    "dfsel <- df %>%\n",
    "    left_join(median_per_month)\n",
    "dfsel_median_controls <-   dfsel %>%\n",
    "    filter(N_mutations == N_mutations_month_median) %>%\n",
    "    group_by(month) %>%\n",
    "    slice_head(n=1)\n",
    "\n",
    "controls_seqnames <- unlist(dfsel_median_controls$seqname) \n",
    "dfsel_tops <-   dfsel %>%\n",
    "    filter(! seqname %in% controls_seqnames) %>%\n",
    "    group_by(month) %>%\n",
    "    slice_max(order_by = N_mutations, n = 3, with_ties = F)\n",
    "dfsel_tops$contacts_class <- \"increased\"\n",
    "controls_seqnames$contacts_class <- \"control\"\n",
    "chosen_sequences_general_info <- bind_rows(dfsel_tops,dfsel_median_controls)\n",
    "fwrite(x = chosen_sequences_general_info, file = snakemake@output$additional_data)\n",
    "length(unique((chosen_sequences_general_info$seqname)))"
   ]
  },
  {
   "cell_type": "code",
   "execution_count": null,
   "id": "eee4b2d4-3f19-4898-a4a4-0d76f11442ce",
   "metadata": {},
   "outputs": [],
   "source": [
    "haplotypes_data = fread(snakemake@input$haplotype, showProgress = TRUE)"
   ]
  },
  {
   "cell_type": "code",
   "execution_count": null,
   "id": "b070e549-d6ac-400d-9f8b-83e2c3b377c1",
   "metadata": {},
   "outputs": [],
   "source": [
    "# get lt seqs only\n",
    "haplotypes_data <- lazy_dt(haplotypes_data)"
   ]
  },
  {
   "cell_type": "code",
   "execution_count": null,
   "id": "76c1249a-d635-4670-9c9a-c2c7af3b3ed8",
   "metadata": {},
   "outputs": [],
   "source": [
    "haplotypes_data_lt <- df %>%\n",
    "    select(seqname) %>%\n",
    "    mutate(LT=1)\n",
    "\n",
    "haplotypes_data_lt <- lazy_dt(haplotypes_data_lt)\n",
    "haplotypes_data_lt"
   ]
  },
  {
   "cell_type": "code",
   "execution_count": null,
   "id": "5c061ec0-3522-4b5c-b908-ea61671d26ff",
   "metadata": {},
   "outputs": [],
   "source": [
    "haplotypes_data_lt <- haplotypes_data %>%\n",
    "    left_join(haplotypes_data_lt, by = \"seqname\") %>%\n",
    "    filter(LT == 1) %>%\n",
    "    select(-LT) %>%\n",
    "    as.data.frame()"
   ]
  },
  {
   "cell_type": "code",
   "execution_count": null,
   "id": "6a005bf7-a5f8-4ff5-8f6e-bab5d0e37172",
   "metadata": {},
   "outputs": [],
   "source": [
    "haplotypes_data_lt_chosen <- haplotypes_data_lt %>%\n",
    "    filter(seqname %in% chosen_sequences_general_info$seqname) %>%\n",
    "    arrange(seqname,pos) %>%\n",
    "    as.data.frame()"
   ]
  },
  {
   "cell_type": "code",
   "execution_count": null,
   "id": "b894bcf9-3bb5-419b-a6cb-c678be154320",
   "metadata": {},
   "outputs": [],
   "source": [
    "length(unique(haplotypes_data_lt_chosen$seqname))"
   ]
  },
  {
   "cell_type": "code",
   "execution_count": null,
   "id": "558be5fa-e5f3-4343-9bd6-2a599fa15c1f",
   "metadata": {},
   "outputs": [],
   "source": [
    "# choose  PDBS per structure\n",
    "pdb_choice <-  haplotypes_data_lt_chosen %>%\n",
    "    left_join(pdb_contacts, by=c(\"pos\" = \"Position\"),relationship = \"many-to-many\") %>%\n",
    "    group_by(PDB, seqname) %>%\n",
    "    summarise(N=n()) %>%\n",
    "    ungroup() %>%\n",
    "    group_by(seqname) %>%\n",
    "    slice_max(order_by = N,with_ties = F, n=snakemake@params$max_sructures_to_test_per_month4antib) %>%\n",
    "    ungroup()"
   ]
  },
  {
   "cell_type": "code",
   "execution_count": null,
   "id": "680e4ad9-794a-4cd6-9c42-7df433127544",
   "metadata": {},
   "outputs": [],
   "source": [
    "#make that all one month sequences analyse same set of sequences\n",
    "month_lineage <- chosen_sequences_general_info %>%\n",
    "    select(month, seqname)\n",
    "month_pdbs <-  pdb_choice %>%\n",
    "    left_join(month_lineage, by = \"seqname\") %>%\n",
    "    group_by(month) %>%\n",
    "    summarise(PDB=list(unique(PDB))) %>%\n",
    "    ungroup()\n",
    "month_pdbs_lineage <- month_pdbs %>%\n",
    "    left_join(month_lineage, by=\"month\") %>%\n",
    "    unnest(cols = PDB)\n",
    "head(month_pdbs_lineage)"
   ]
  },
  {
   "cell_type": "code",
   "execution_count": null,
   "id": "962eaba0-77e6-4322-944f-f9caff10f25a",
   "metadata": {},
   "outputs": [],
   "source": [
    "# format haplotypes\n",
    "# Mutations,MutationsID,Template,PDB,Notes\n",
    "# \"F306L,E484K,S494P,D614G,E780A,D839V,T1027I;E156-,F157-\",Omicron1,YP_009724390.1 ,7LQV,\n",
    "# \"F306L,E484K,S494P,D614G,E780A,D839V,T1027I;E156-,F157-\",Omicron2,YP_009724390.1 ,7LQV,\n",
    "haplotypes_4models <- haplotypes_data_lt_chosen %>%\n",
    "    filter(mType != \"INS\") %>%\n",
    "    rowwise() %>%\n",
    "    mutate(MUT=paste(wt,pos,sub, sep = \"\")) %>%\n",
    "    group_by(seqname) %>%\n",
    "    summarise(haplotype = paste0(MUT, collapse = \",\"))\n",
    "head(haplotypes_4models)\n",
    "    "
   ]
  },
  {
   "cell_type": "code",
   "execution_count": null,
   "id": "464d9695-f3d7-405a-aecf-80aa049bcef3",
   "metadata": {},
   "outputs": [],
   "source": [
    "dat4mod <- month_pdbs_lineage %>%\n",
    "    left_join(haplotypes_4models, by = \"seqname\") %>%\n",
    "    select(-month) %>%\n",
    "    select(Mutations=haplotype, MutationsID = seqname, , PDB) %>%\n",
    "    mutate(Template=\"YP_009724390.1\", Notes = \"AAAAA\") #%>%\n",
    "dat4mod <- dat4mod %>%\n",
    "    select(MutationsID,Template,PDB,Mutations,Notes)\n",
    "fwrite(x = dat4mod, file = snakemake@output$chosen_data)\n",
    "nrow(dat4mod)"
   ]
  }
 ],
 "metadata": {
  "kernelspec": {
   "display_name": "R",
   "language": "R",
   "name": "ir"
  },
  "language_info": {
   "codemirror_mode": "r",
   "file_extension": ".r",
   "mimetype": "text/x-r-source",
   "name": "R",
   "pygments_lexer": "r",
   "version": "4.2.3"
  }
 },
 "nbformat": 4,
 "nbformat_minor": 5
}
