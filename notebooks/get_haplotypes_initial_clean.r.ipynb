{
 "cells": [
  {
   "cell_type": "code",
   "execution_count": null,
   "id": "46af31f2",
   "metadata": {},
   "outputs": [],
   "source": [
    "library(dplyr)\n",
    "library(tidyr)\n",
    "library(data.table)\n",
    "library(dtplyr)\n",
    "library(lubridate)\n",
    "library(ggplot2)"
   ]
  },
  {
   "cell_type": "code",
   "execution_count": null,
   "id": "9779b26a-8d9e-48df-b473-01bd9d811c98",
   "metadata": {},
   "outputs": [],
   "source": [
    "#parse nextclase\n",
    "nextclade <- fread(snakemake@input$nextclade,sep = \";\",showProgress=TRUE,select=c(\"seqName\",\"qc.overallStatus\",\"totalMissing\",\"aaSubstitutions\",\"aaInsertions\",\"aaDeletions\"))\n",
    "#select=c(\"seqName\",\"overallStatus\",\"totalMissing\")\n",
    "nextclade <- nextclade[nextclade$qc.overallStatus!=\"bad\"]\n",
    "nextclade <- nextclade %>%\n",
    "    filter(nextclade$totalMissing <= 1000) %>%\n",
    "    as.data.table()\n",
    "nextclade$qc.overallStatus <- NULL\n",
    "nextclade$totalMissing <- NULL   \n",
    "nextclade <- nextclade %>%\n",
    "    mutate(mutation = paste(aaSubstitutions,aaInsertions,aaDeletions,sep=\",\"))%>%\n",
    "    select(-aaSubstitutions,-aaInsertions,-aaDeletions) %>%\n",
    "    as.data.table()\n",
    "nextclade$mutation <- sub(x = nextclade$mutation, pattern = \",,\",replacement = \",\",)"
   ]
  },
  {
   "cell_type": "code",
   "execution_count": null,
   "id": "e25b8a9e-53ad-4768-a849-4159c828c1a0",
   "metadata": {},
   "outputs": [],
   "source": [
    "fwrite(x = nextclade, file = snakemake@output$haplotypes)"
   ]
  }
 ],
 "metadata": {
  "kernelspec": {
   "display_name": "R",
   "language": "R",
   "name": "ir"
  },
  "language_info": {
   "codemirror_mode": "r",
   "file_extension": ".r",
   "mimetype": "text/x-r-source",
   "name": "R",
   "pygments_lexer": "r",
   "version": "4.3.1"
  }
 },
 "nbformat": 4,
 "nbformat_minor": 5
}
