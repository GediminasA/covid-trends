{
 "cells": [
  {
   "cell_type": "code",
   "execution_count": null,
   "id": "616f5f11",
   "metadata": {},
   "outputs": [],
   "source": [
    "options(warn=-1)\n",
    "library(dplyr)\n",
    "library(tidyr)\n",
    "library(data.table)\n",
    "library(dtplyr)\n",
    "library(lubridate)\n",
    "library(ggplot2)\n",
    "options(warn=0)"
   ]
  },
  {
   "cell_type": "code",
   "execution_count": null,
   "id": "17c9201c",
   "metadata": {},
   "outputs": [],
   "source": [
    "# get pangolid data\n",
    "pangolin_f <- snakemake@input$pangolin\n",
    "pangolin <- fread(pangolin_f,select=c(\"taxon\",\"lineage\"),showProgress=TRUE,colClasses=c(taxon=\"character\",lineage=\"character\")) "
   ]
  },
  {
   "cell_type": "code",
   "execution_count": null,
   "id": "e3f73be9",
   "metadata": {},
   "outputs": [],
   "source": [
    "#get meta date\n",
    "meta_f <- snakemake@input$metadata\n",
    "meta <- fread(meta_f,select=c(\"strain\",\"date\",\"region\",\"country\",\"division\"),showProgress=TRUE) \n"
   ]
  },
  {
   "cell_type": "code",
   "execution_count": null,
   "id": "532f105f",
   "metadata": {},
   "outputs": [],
   "source": [
    "# convert pangolin and meta to lazy and join them\n",
    "meta <-  lazy_dt(meta)\n",
    "pangolin <- lazy_dt(pangolin)\n",
    "meta <- meta %>%\n",
    "    left_join(pangolin, by=c(\"strain\"=\"taxon\")) %>%\n",
    "    filter(nchar(date)==10) %>%\n",
    "    as.data.table()"
   ]
  },
  {
   "cell_type": "code",
   "execution_count": null,
   "id": "f8cf71fb",
   "metadata": {},
   "outputs": [],
   "source": [
    "# filter our improper date formats\n",
    "meta <- meta  %>%\n",
    "    filter(!grepl(pattern = \"/\",fixed = T, x = date)) %>%\n",
    "    filter(!grepl(pattern = \"X\",fixed = T, x = date)) %>%\n",
    "    as.data.table()\n",
    "meta$date <- date(meta$date)"
   ]
  },
  {
   "cell_type": "code",
   "execution_count": null,
   "id": "81a09274-4ecd-45fd-be26-c9ba14e3a1b7",
   "metadata": {},
   "outputs": [],
   "source": [
    "# get floor month\n",
    "meta$month = lubridate::floor_date(meta$date, \"month\")"
   ]
  },
  {
   "cell_type": "code",
   "execution_count": null,
   "id": "e5ddfa1e-4e5e-4796-84c8-9475978c7902",
   "metadata": {},
   "outputs": [],
   "source": [
    "# get floor week\n",
    "meta$week = lubridate::floor_date(meta$date, \"week\")"
   ]
  },
  {
   "cell_type": "code",
   "execution_count": null,
   "id": "f137b3f1-36b5-45e2-8553-1119d929b728",
   "metadata": {},
   "outputs": [],
   "source": [
    "fwrite(file=snakemake@output[[1]], x= meta)"
   ]
  },
  {
   "cell_type": "code",
   "execution_count": null,
   "id": "340dd9b5",
   "metadata": {},
   "outputs": [],
   "source": [
    "# for debug in case wrong data format\n",
    "# for (s in meta$date){\n",
    "#     tryCatch(\n",
    "#         {\n",
    "#             d = date(s)\n",
    "#         },\n",
    "#         #if an error occurs, tell me the error\n",
    "#         error=function(e) {\n",
    "#             message('An Error Occurred')\n",
    "#             print(e)\n",
    "#             print(s)\n",
    "#             print(\"-------\")\n",
    "#         },\n",
    "#         #if a warning occurs, tell me the warning\n",
    "#         warning=function(w) {\n",
    "#             message('A Warning Occurred')\n",
    "#             print(w)\n",
    "#             return(NA)\n",
    "#         }\n",
    "#     )}"
   ]
  }
 ],
 "metadata": {
  "kernelspec": {
   "display_name": "R",
   "language": "R",
   "name": "ir"
  },
  "language_info": {
   "codemirror_mode": "r",
   "file_extension": ".r",
   "mimetype": "text/x-r-source",
   "name": "R",
   "pygments_lexer": "r",
   "version": "4.3.1"
  }
 },
 "nbformat": 4,
 "nbformat_minor": 5
}
