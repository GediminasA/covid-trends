{
 "cells": [
  {
   "cell_type": "code",
   "execution_count": 2,
   "id": "c1ff8651",
   "metadata": {},
   "outputs": [],
   "source": [
    "library(dtplyr)\n",
    "library(data.table)\n",
    "library(dplyr)\n"
   ]
  },
  {
   "cell_type": "code",
   "execution_count": 8,
   "id": "09c7a524",
   "metadata": {},
   "outputs": [],
   "source": [
    "df <- fread(snakemake@params[[1]],showProgress=T)\n",
    "df <- df %>%\n",
    "    filter(totalMissing < 900)\n",
    "\n",
    "                                                    "
   ]
  },
  {
   "cell_type": "code",
   "execution_count": 14,
   "id": "d2c8762a",
   "metadata": {},
   "outputs": [],
   "source": [
    "outdf <- df %>%\n",
    "    select(seqName)\n",
    "outdf\n",
    "fwrite(as.data.table(outdf),file = snakemake@output[[1]],col.names = F)"
   ]
  }
 ],
 "metadata": {
  "kernelspec": {
   "display_name": "R",
   "language": "R",
   "name": "ir"
  },
  "language_info": {
   "codemirror_mode": "r",
   "file_extension": ".r",
   "mimetype": "text/x-r-source",
   "name": "R",
   "pygments_lexer": "r",
   "version": "4.1.1"
  }
 },
 "nbformat": 4,
 "nbformat_minor": 5
}
