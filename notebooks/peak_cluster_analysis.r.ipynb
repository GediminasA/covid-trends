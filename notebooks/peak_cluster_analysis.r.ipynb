{
 "cells": [
  {
   "cell_type": "code",
   "execution_count": 2,
   "id": "56e24071",
   "metadata": {},
   "outputs": [],
   "source": [
    "library(dplyr)\n",
    "library(data.table)\n",
    "library(tidyr)\n",
    "library(clusterAnalysisUtils)\n",
    "library(dtplyr)\n",
    "library(stringr)\n",
    "library(ggplot2)"
   ]
  },
  {
   "cell_type": "code",
   "execution_count": 3,
   "id": "5aecdd1a",
   "metadata": {},
   "outputs": [],
   "source": [
    "cl_sw <- clusterAnalysisUtils::clusterDataParser$new(fileName = snakemake@input$swarm,format = \"MT\",remove_sizes = T)\n",
    "nrow(cl_sw$df)"
   ]
  },
  {
   "cell_type": "code",
   "execution_count": 4,
   "id": "fd567fd9",
   "metadata": {},
   "outputs": [],
   "source": [
    "cl_derep = clusterAnalysisUtils::clusterDataParser$new(snakemake@input$uc,format = \"UC\",remove_sizes = T)\n",
    "nrow(cl_derep$df)\n",
    "length(unique(cl_derep$df$Cluster))"
   ]
  },
  {
   "cell_type": "code",
   "execution_count": 5,
   "id": "4c4d10dc",
   "metadata": {},
   "outputs": [],
   "source": [
    "cl_derep$add_upper_lever_clusters(cl_sw)\n",
    "length(unique(cl_derep$df$Cluster))"
   ]
  },
  {
   "cell_type": "code",
   "execution_count": 6,
   "id": "a305fe21",
   "metadata": {},
   "outputs": [],
   "source": [
    "dft <- cl_sw$df\n",
    "names(dft)"
   ]
  },
  {
   "cell_type": "code",
   "execution_count": 7,
   "id": "e8dfcacf",
   "metadata": {},
   "outputs": [],
   "source": [
    "head(dft)"
   ]
  },
  {
   "cell_type": "code",
   "execution_count": 9,
   "id": "9ed7cfed",
   "metadata": {},
   "outputs": [],
   "source": [
    "dfdens <- cl_derep$df %>%\n",
    "    group_by(Cluster) %>%\n",
    "    summarise(N=n()) %>%\n",
    "    as.data.frame() %>%\n",
    "    arrange(-N)\n",
    "fwrite(x=dfdens,file=snakemake@output$rez)"
   ]
  },
  {
   "cell_type": "code",
   "execution_count": null,
   "id": "8ae5a3b2",
   "metadata": {},
   "outputs": [],
   "source": []
  }
 ],
 "metadata": {
  "kernelspec": {
   "display_name": "R",
   "language": "R",
   "name": "ir"
  },
  "language_info": {
   "codemirror_mode": "r",
   "file_extension": ".r",
   "mimetype": "text/x-r-source",
   "name": "R",
   "pygments_lexer": "r",
   "version": "4.2.2"
  }
 },
 "nbformat": 4,
 "nbformat_minor": 5
}
