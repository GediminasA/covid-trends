{
 "cells": [
  {
   "cell_type": "code",
   "execution_count": null,
   "id": "4271a980",
   "metadata": {
    "tags": [
     "snakemake-job-properties"
    ]
   },
   "outputs": [],
   "source": [
    "\n",
    "######## snakemake preamble start (automatically inserted, do not edit) ########\n",
    "library(methods)\n",
    "Snakemake <- setClass(\n",
    "    \"Snakemake\",\n",
    "    slots = c(\n",
    "        input = \"list\",\n",
    "        output = \"list\",\n",
    "        params = \"list\",\n",
    "        wildcards = \"list\",\n",
    "        threads = \"numeric\",\n",
    "        log = \"list\",\n",
    "        resources = \"list\",\n",
    "        config = \"list\",\n",
    "        rule = \"character\",\n",
    "        bench_iteration = \"numeric\",\n",
    "        scriptdir = \"character\",\n",
    "        source = \"function\"\n",
    "    )\n",
    ")\n",
    "snakemake <- Snakemake(\n",
    "    input = list('audines11/rez/lineages/B.1.1.7/clusters/0.00037667667667667666.tsv'),\n",
    "    output = list('audines11/rez/lineages/B.1.1.7/clusters/0.00037667667667667666_eval.tsv'),\n",
    "    params = list(),\n",
    "    wildcards = list('B.1.1.7', '0.00037667667667667666', \"id\" = 'B.1.1.7', \"p\" = '0.00037667667667667666'),\n",
    "    threads = 1,\n",
    "    log = list(),\n",
    "    resources = list('tmpdir', \"tmpdir\" = '/tmp'),\n",
    "    config = list(\"work_dir\" = 'audines11', \"sequences\" = '/home/user1/run1/gisaid/sequences1010.fasta', \"meta\" = '/home/user1/run1/gisaid/metadata1010.tsv', \"datasets_dir\" = 'datasets', \"lineages\" = 'AY.4.5\\tQ.1\\tB.1.1.7\\tB.1.177.60\\tBA.2\\tBA.2.9', \"reference_id\" = 'MN908947 (Wuhan-Hu-1/2019)', \"reference_lineage\" = 'BA.2', \"cleanup_keep_fraction_of_columns\" = 0.8, \"cleanup_remove_proc_mostN_having\" = 20, \"target_amount\" = 12000, \"subset_amount_maximum\" = 30, \"maximum_amount_4_splits\" = 2000, \"reference\" = 'datasets/NC_045512.gb'),\n",
    "    rule = 'evaluatecluster',\n",
    "    bench_iteration = as.numeric(NA),\n",
    "    scriptdir = '/mnt/raid/covid-phylogeny/snakefiles/notebooks',\n",
    "    source = function(...){\n",
    "        wd <- getwd()\n",
    "        setwd(snakemake@scriptdir)\n",
    "        source(...)\n",
    "        setwd(wd)\n",
    "    }\n",
    ")\n",
    "setwd('/mnt/raid/covid-phylogeny');\n",
    "\n",
    "######## snakemake preamble end #########\n"
   ]
  },
  {
   "cell_type": "code",
   "execution_count": null,
   "id": "f3aede4d",
   "metadata": {},
   "outputs": [],
   "source": [
    "# start coding here"
   ]
  }
 ],
 "metadata": {
  "language_info": {
   "name": "r"
  }
 },
 "nbformat": 4,
 "nbformat_minor": 5
}