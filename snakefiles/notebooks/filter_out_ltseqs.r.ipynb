{
 "cells": [
  {
   "cell_type": "code",
   "execution_count": 4,
   "id": "db24164f",
   "metadata": {},
   "outputs": [],
   "source": [
    "library(data.table)\n",
    "library(dplyr)\n",
    "library(dtplyr)"
   ]
  },
  {
   "cell_type": "code",
   "execution_count": 7,
   "id": "12876d0e",
   "metadata": {},
   "outputs": [],
   "source": [
    "df <- fread(snakemake@input$data) %>%\n",
    "    filter(country==\"Lithuania\") %>%\n",
    "    select(taxon) %>%\n",
    "    as.data.table()"
   ]
  },
  {
   "cell_type": "code",
   "execution_count": 13,
   "id": "f3259fa8",
   "metadata": {},
   "outputs": [],
   "source": [
    "fwrite(file = snakemake@output$ids, x= df, col.names = FALSE)"
   ]
  }
 ],
 "metadata": {
  "kernelspec": {
   "display_name": "R",
   "language": "R",
   "name": "ir"
  },
  "language_info": {
   "codemirror_mode": "r",
   "file_extension": ".r",
   "mimetype": "text/x-r-source",
   "name": "R",
   "pygments_lexer": "r",
   "version": "4.2.2"
  }
 },
 "nbformat": 4,
 "nbformat_minor": 5
}
