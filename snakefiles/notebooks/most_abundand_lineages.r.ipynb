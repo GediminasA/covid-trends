{
 "cells": [
  {
   "cell_type": "code",
   "execution_count": null,
   "id": "d517a81c",
   "metadata": {
    "tags": [
     "snakemake-job-properties"
    ]
   },
   "outputs": [],
   "source": [
    "\n",
    "######## snakemake preamble start (automatically inserted, do not edit) ########\n",
    "library(methods)\n",
    "Snakemake <- setClass(\n",
    "    \"Snakemake\",\n",
    "    slots = c(\n",
    "        input = \"list\",\n",
    "        output = \"list\",\n",
    "        params = \"list\",\n",
    "        wildcards = \"list\",\n",
    "        threads = \"numeric\",\n",
    "        log = \"list\",\n",
    "        resources = \"list\",\n",
    "        config = \"list\",\n",
    "        rule = \"character\",\n",
    "        bench_iteration = \"numeric\",\n",
    "        scriptdir = \"character\",\n",
    "        source = \"function\"\n",
    "    )\n",
    ")\n",
    "snakemake <- Snakemake(\n",
    "    input = list('analysis_large/rez/pangolin_lineage_report.csv', '/data/analyses/gisaid/metadata.csv', \"pangolin\" = 'analysis_large/rez/pangolin_lineage_report.csv', \"meta\" = '/data/analyses/gisaid/metadata.csv'),\n",
    "    output = list('analysis_large/rez/most_abundand_lineages.csv', \"stabilities_pairwise\" = 'analysis_large/rez/most_abundand_lineages.csv'),\n",
    "    params = list(),\n",
    "    wildcards = list(),\n",
    "    threads = 1,\n",
    "    log = list('analysis_large/rez/most_abundand_lineages.ipynb', \"notebook\" = 'analysis_large/rez/most_abundand_lineages.ipynb'),\n",
    "    resources = list('tmpdir', \"tmpdir\" = '/tmp'),\n",
    "    config = list(\"work_dir\" = 'analysis_large', \"sequences\" = '/data/analyses/gisaid/sequences.fasta', \"meta\" = '/data/analyses/gisaid/metadata.csv', \"datasets_dir\" = 'datasets', \"lineages\" = 'AY.4.5\\tQ.1\\tB.1.1.7\\tB.1.177.60\\tBA.2\\tBA.2.9', \"reference_id\" = 'MN908947 (Wuhan-Hu-1/2019)', \"reference_lineage\" = 'BA.2', \"cleanup_keep_fraction_of_columns\" = 0.8, \"cleanup_remove_proc_mostN_having\" = 20, \"target_amount\" = 12000, \"subset_amount_maximum\" = 30, \"maximum_amount_4_splits\" = 2000, \"reference\" = 'datasets/NC_045512.gb'),\n",
    "    rule = 'most_abundand_lineages',\n",
    "    bench_iteration = as.numeric(NA),\n",
    "    scriptdir = '/data/analyses/covid-phylogeny/snakefiles/notebooks',\n",
    "    source = function(...){\n",
    "        wd <- getwd()\n",
    "        setwd(snakemake@scriptdir)\n",
    "        source(...)\n",
    "        setwd(wd)\n",
    "    }\n",
    ")\n",
    "setwd('/data/analyses/covid-phylogeny');\n",
    "\n",
    "######## snakemake preamble end #########\n"
   ]
  },
  {
   "cell_type": "code",
   "execution_count": null,
   "id": "651bfa21",
   "metadata": {},
   "outputs": [],
   "source": [
    "# start coding here"
   ]
  }
 ],
 "metadata": {
  "language_info": {
   "name": "r"
  }
 },
 "nbformat": 4,
 "nbformat_minor": 5
}