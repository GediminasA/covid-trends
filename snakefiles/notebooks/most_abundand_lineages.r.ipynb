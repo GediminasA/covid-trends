{
 "cells": [
  {
   "cell_type": "code",
   "execution_count": null,
   "id": "651bfa21",
   "metadata": {},
   "outputs": [],
   "source": [
    "library(data.table)\n",
    "library(dplyr)\n",
    "library(dtplyr)\n",
    "library(lubridate)"
   ]
  },
  {
   "cell_type": "code",
   "execution_count": null,
   "id": "3f870d55-f863-4888-ac6e-31f959e28059",
   "metadata": {},
   "outputs": [],
   "source": [
    "# get pangolid data\n",
    "pangolin_f <- snakemake@input$pangolin\n",
    "pangolin <- fread(pangolin_f,select=c(\"taxon\",\"lineage\"),showProgress=TRUE,colClasses=c(taxon=\"character\",lineage=\"character\")) "
   ]
  },
  {
   "cell_type": "code",
   "execution_count": null,
   "id": "016792fc-1c25-497c-a4f0-376e80382794",
   "metadata": {},
   "outputs": [],
   "source": [
    "#get meta date\n",
    "meta_f <- snakemake@input$meta\n",
    "meta <- fread(meta_f,select=c(\"strain\",\"date\",\"country\"),showProgress=TRUE,\n",
    "             colClasses=c(strain=\"character\",date=\"character\",country=\"character\")) "
   ]
  },
  {
   "cell_type": "code",
   "execution_count": null,
   "id": "21185822-d6fc-48ac-bd17-a375f1f59891",
   "metadata": {},
   "outputs": [],
   "source": [
    "# convert pangolin and meta to lazy and join them\n",
    "meta <-  lazy_dt(meta)\n",
    "pangolin <- lazy_dt(pangolin)\n",
    "meta <- meta %>%\n",
    "    left_join(pangolin, by=c(\"strain\"=\"taxon\")) %>%\n",
    "    filter(nchar(date)==10) %>%\n",
    "    as.data.table()"
   ]
  },
  {
   "cell_type": "code",
   "execution_count": null,
   "id": "c1bb3ab3-c550-48c2-a1a3-7daad69c250f",
   "metadata": {},
   "outputs": [],
   "source": [
    "filter(meta, country == \"Lithuania\")"
   ]
  },
  {
   "cell_type": "code",
   "execution_count": null,
   "id": "9f56ea64-6a1e-418b-abd9-6d4238662b13",
   "metadata": {},
   "outputs": [],
   "source": [
    "# filter our improper date formats\n",
    "meta <- meta  %>%\n",
    "    mutate(date = as.character(date)) %>%\n",
    "    filter(!grepl(pattern = \"/\",fixed = T, x = date)) %>%\n",
    "    filter(!grepl(pattern = \"X\",fixed = T, x = date)) %>%\n",
    "    as.data.table()\n",
    "meta$date <- date(meta$date)"
   ]
  },
  {
   "cell_type": "code",
   "execution_count": null,
   "id": "bf630a86-0934-4bd6-b6ac-4c689167541b",
   "metadata": {},
   "outputs": [],
   "source": [
    "# get floor month\n",
    "meta$month = lubridate::floor_date(meta$date, \"month\")"
   ]
  },
  {
   "cell_type": "code",
   "execution_count": null,
   "id": "a019239a-071b-4da5-8783-78b3b8166d32",
   "metadata": {},
   "outputs": [],
   "source": [
    "# get floor week\n",
    "meta$week = lubridate::floor_date(meta$date, \"week\")"
   ]
  },
  {
   "cell_type": "code",
   "execution_count": null,
   "id": "e2089c0d-48a2-4769-8184-2eb76ae006f3",
   "metadata": {},
   "outputs": [],
   "source": [
    "# get floor week\n",
    "meta$quarter = lubridate::floor_date(meta$date, \"quarter\")"
   ]
  },
  {
   "cell_type": "code",
   "execution_count": null,
   "id": "4b18ff7d-d2ff-48d0-8e42-63122fc4674a",
   "metadata": {},
   "outputs": [],
   "source": [
    "lt_abund <- meta %>%\n",
    "    filter(country==\"Lithuania\") %>%\n",
    "    group_by(lineage) %>%\n",
    "    summarise(counts=n()) %>%\n",
    "    mutate(frac = counts/sum(counts)) %>%\n",
    "    ungroup() %>%\n",
    "    as.data.table() %>%\n",
    "    arrange(-frac) %>%\n",
    "    filter(frac >= 0.05) %>%\n",
    "    as.data.frame()\n",
    "fwrite(x = lt_abund, snakemake@output$most_abundad_lt)"
   ]
  },
  {
   "cell_type": "code",
   "execution_count": null,
   "id": "7d26ff7f-edd5-4f18-8466-8d1a4e7eff08",
   "metadata": {},
   "outputs": [],
   "source": [
    "lineage_cnt <- meta %>%\n",
    "    group_by(lineage,quarter) %>%\n",
    "    summarise(N=n()) %>%\n",
    "    ungroup() %>%\n",
    "    as.data.table() \n",
    "lineage_cnt2 <- data.table(lineage_cnt)\n",
    "lineage_cnt2 <- lineage_cnt2 %>%\n",
    "    dplyr::group_by(quarter) %>%\n",
    "    dplyr::slice_max(order_by = N, n=2) %>%\n",
    "    filter(N > \t1000) %>%\n",
    "    ungroup()\n",
    "\n",
    "chosen <-  data.frame(chosen = unique(c(lineage_cnt2$lineage, lt_abund$lineage)))\n",
    "fwrite(x = chosen, snakemake@output$quarterly_most_abundand)"
   ]
  },
  {
   "cell_type": "code",
   "execution_count": null,
   "id": "2d3500c1-34e9-46d8-9f4c-beaebae85936",
   "metadata": {},
   "outputs": [],
   "source": [
    "lineage_cnt_all <- meta %>%\n",
    "    group_by(lineage) %>%\n",
    "    summarise(Counts=n()) %>%\n",
    "    ungroup() %>%\n",
    "    as.data.table() "
   ]
  },
  {
   "cell_type": "code",
   "execution_count": null,
   "id": "4dd977e0-cbcf-48fa-981a-03af47746546",
   "metadata": {},
   "outputs": [],
   "source": [
    "abund_week_peak <- meta %>%\n",
    "    mutate(weekn = as.numeric(difftime(week, min(week), units = \"week\"))) %>%\n",
    "    group_by(lineage,week, weekn) %>%\n",
    "    summarise(counts = n()) %>% \n",
    "    as.data.frame() %>%\n",
    "    ungroup() %>%\n",
    "    group_by(lineage) %>%\n",
    "    mutate(frac = counts/sum(counts)) %>%\n",
    "    slice_max(n=1,with_ties = F, order_by = counts) %>%\n",
    "    ungroup() %>%\n",
    "    select(lineage, week_peak=week)\n",
    "\n",
    "abund_week_start <- meta %>%\n",
    "    mutate(weekn = as.numeric(difftime(week, min(week), units = \"week\"))) %>%\n",
    "    group_by(lineage,week, weekn) %>%\n",
    "    summarise(counts = n()) %>% \n",
    "    as.data.frame() %>%\n",
    "    ungroup() %>%\n",
    "    group_by(lineage) %>%\n",
    "    mutate(frac = counts/max(counts)) %>%\n",
    "    filter(frac > 0.05) %>%\n",
    "    slice_min(n=1,with_ties = F, order_by = weekn) %>%\n",
    "    ungroup() %>%\n",
    "    select(lineage, week_start=week)\n",
    "\n",
    "abund_week_end <- meta %>%\n",
    "    mutate(weekn = as.numeric(difftime(week, min(week), units = \"week\"))) %>%\n",
    "    group_by(lineage,week, weekn) %>%\n",
    "    summarise(counts = n()) %>% \n",
    "    as.data.frame() %>%\n",
    "    ungroup() %>%\n",
    "    group_by(lineage) %>%\n",
    "    mutate(frac = counts/max(counts)) %>%\n",
    "    filter(frac > 0.05) %>%\n",
    "    slice_max(n=1,with_ties = F, order_by = weekn) %>%\n",
    "    ungroup() %>%\n",
    "    select(lineage, week_end=week)\n",
    "\n",
    "abund_month_peak <- meta %>%\n",
    "    mutate(monthn = as.numeric(difftime(month, min(month), units = \"weeks\"))) %>%\n",
    "    group_by(lineage,month, monthn) %>%\n",
    "    summarise(counts = n()) %>% \n",
    "    as.data.frame() %>%\n",
    "    ungroup() %>%\n",
    "    group_by(lineage) %>%\n",
    "    mutate(frac = counts/sum(counts)) %>%\n",
    "    slice_max(n=1,with_ties = F, order_by = counts) %>%\n",
    "    ungroup() %>%\n",
    "    select(lineage, month_peak=month)\n",
    "\n",
    "abund_month_start <- meta %>%\n",
    "    mutate(monthn = as.numeric(difftime(month, min(month), units = \"weeks\"))) %>%\n",
    "    group_by(lineage,month, monthn) %>%\n",
    "    summarise(counts = n()) %>% \n",
    "    as.data.frame() %>%\n",
    "    ungroup() %>%\n",
    "    group_by(lineage) %>%\n",
    "    mutate(frac = counts/max(counts)) %>%\n",
    "    filter(frac > 0.05) %>%\n",
    "    slice_min(n=1,with_ties = F, order_by = monthn) %>%\n",
    "    ungroup() %>%\n",
    "    select(lineage, month_start=month)\n",
    "\n",
    "abund_month_end <- meta %>%\n",
    "    mutate(monthn = as.numeric(difftime(month, min(month), units = \"weeks\"))) %>%\n",
    "    group_by(lineage,month, monthn) %>%\n",
    "    summarise(counts = n()) %>% \n",
    "    as.data.frame() %>%\n",
    "    ungroup() %>%\n",
    "    group_by(lineage) %>%\n",
    "    mutate(frac = counts/max(counts)) %>%\n",
    "    filter(frac > 0.05) %>%\n",
    "    slice_max(n=1,with_ties = F, order_by = monthn) %>%\n",
    "    ungroup() %>%\n",
    "    select(lineage, month_end=month)\n",
    "abund_quarter_peak <- meta %>%\n",
    "    mutate(quartern = as.numeric(difftime(quarter, min(quarter), units = \"week\"))) %>%\n",
    "    group_by(lineage,quarter, quartern) %>%\n",
    "    summarise(counts = n()) %>% \n",
    "    as.data.frame() %>%\n",
    "    ungroup() %>%\n",
    "    group_by(lineage) %>%\n",
    "    mutate(frac = counts/sum(counts)) %>%\n",
    "    slice_max(n=1,with_ties = F, order_by = counts) %>%\n",
    "    ungroup() %>%\n",
    "    select(lineage, quarter_peak=quarter)\n",
    "\n",
    "abund_quarter_start <- meta %>%\n",
    "    mutate(quartern = as.numeric(difftime(quarter, min(quarter), units = \"week\"))) %>%\n",
    "    group_by(lineage,quarter, quartern) %>%\n",
    "    summarise(counts = n()) %>% \n",
    "    as.data.frame() %>%\n",
    "    ungroup() %>%\n",
    "    group_by(lineage) %>%\n",
    "    mutate(frac = counts/max(counts)) %>%\n",
    "    filter(frac > 0.05) %>%\n",
    "    slice_min(n=1,with_ties = F, order_by = quartern) %>%\n",
    "    ungroup() %>%\n",
    "    select(lineage, quarter_start=quarter)\n",
    "\n",
    "abund_quarter_end <- meta %>%\n",
    "    mutate(quartern = as.numeric(difftime(quarter, min(quarter), units = \"week\"))) %>%\n",
    "    group_by(lineage,quarter, quartern) %>%\n",
    "    summarise(counts = n()) %>% \n",
    "    as.data.frame() %>%\n",
    "    ungroup() %>%\n",
    "    group_by(lineage) %>%\n",
    "    mutate(frac = counts/max(counts)) %>%\n",
    "    filter(frac > 0.05) %>%\n",
    "    slice_max(n=1,with_ties = F, order_by = quartern) %>%\n",
    "    ungroup() %>%\n",
    "    select(lineage, quarter_end=quarter)\n",
    "\n",
    "abundance_dates_per_lineage <- abund_week_peak %>%\n",
    "    left_join(abund_week_start, by=\"lineage\") %>%\n",
    "    left_join(abund_week_end, by=\"lineage\") %>%\n",
    "    left_join(abund_month_peak, by=\"lineage\") %>%\n",
    "    left_join(abund_month_start, by=\"lineage\") %>%\n",
    "    left_join(abund_month_end, by=\"lineage\") %>%\n",
    "    left_join(abund_quarter_peak, by=\"lineage\") %>%\n",
    "    left_join(abund_quarter_start, by=\"lineage\") %>%\n",
    "    left_join(abund_quarter_end, by=\"lineage\") %>%\n",
    "    left_join(lineage_cnt_all, by = \"lineage\")\n"
   ]
  },
  {
   "cell_type": "code",
   "execution_count": null,
   "id": "f0dee1cd-f2d8-4bfd-90d6-43af3abcab19",
   "metadata": {},
   "outputs": [],
   "source": [
    "fwrite(x = abundance_dates_per_lineage, snakemake@output$abundance_dates_per_lineage)"
   ]
  }
 ],
 "metadata": {
  "kernelspec": {
   "display_name": "R",
   "language": "R",
   "name": "ir"
  },
  "language_info": {
   "codemirror_mode": "r",
   "file_extension": ".r",
   "mimetype": "text/x-r-source",
   "name": "R",
   "pygments_lexer": "r",
   "version": "4.2.3"
  }
 },
 "nbformat": 4,
 "nbformat_minor": 5
}
