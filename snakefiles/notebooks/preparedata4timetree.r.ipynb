{
 "cells": [
  {
   "cell_type": "code",
   "execution_count": 8,
   "id": "24435660",
   "metadata": {},
   "outputs": [],
   "source": [
    "library(data.table)\n",
    "library(dplyr)"
   ]
  },
  {
   "cell_type": "code",
   "execution_count": 3,
   "id": "a9c04e85",
   "metadata": {},
   "outputs": [],
   "source": [
    "df = fread(snakemake@input$metadata)"
   ]
  },
  {
   "cell_type": "code",
   "execution_count": 5,
   "id": "ef3fb38c",
   "metadata": {},
   "outputs": [],
   "source": [
    "names(df)"
   ]
  },
  {
   "cell_type": "code",
   "execution_count": 11,
   "id": "09067977",
   "metadata": {},
   "outputs": [],
   "source": [
    "df2 <- df %>%\n",
    "    select(name=taxon, date)\n",
    "fwrite(x = df2, file = snakemake@output$metadata)"
   ]
  }
 ],
 "metadata": {
  "kernelspec": {
   "display_name": "R",
   "language": "R",
   "name": "ir"
  },
  "language_info": {
   "codemirror_mode": "r",
   "file_extension": ".r",
   "mimetype": "text/x-r-source",
   "name": "R",
   "pygments_lexer": "r",
   "version": "4.2.2"
  }
 },
 "nbformat": 4,
 "nbformat_minor": 5
}
