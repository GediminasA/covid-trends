{
 "cells": [
  {
   "cell_type": "code",
   "execution_count": null,
   "id": "5d1abdac",
   "metadata": {},
   "outputs": [],
   "source": [
    "library(dplyr)\n",
    "library(data.table)\n",
    "library(tidyverse)\n",
    "library(ggplot2)\n",
    "library(ggalt)\n",
    "library(viridis)\n",
    "library(patchwork)\n",
    "library(lubridate)\n",
    "library(ggh4x)\n",
    "library(ggrepel)\n",
    "library(ggpubr)\n",
    "library(svglite)"
   ]
  },
  {
   "cell_type": "markdown",
   "id": "57a34203-758f-4293-bbe4-d1a215f2a021",
   "metadata": {},
   "source": [
    "# Analysis on pairwise distance"
   ]
  },
  {
   "cell_type": "code",
   "execution_count": null,
   "id": "28904ffc-a5ef-43b1-9a97-26859fa4ab48",
   "metadata": {},
   "outputs": [],
   "source": [
    "df <- fread(snakemake@input$stabilities_pairwise) %>%\n",
    "    mutate(dM = (Mean_Lineage - Mean_Ref_Lineage)/Mean_Ref_Lineage*100)\n",
    "names(df)"
   ]
  },
  {
   "cell_type": "code",
   "execution_count": null,
   "id": "aab78f5a-c3f3-43f4-8db5-e8c922e913ca",
   "metadata": {},
   "outputs": [],
   "source": [
    "abundance_dates_per_lineage = fread(snakemake@input$abundance_dates_per_lineage)\n",
    "df <- df %>%\n",
    "    left_join(abundance_dates_per_lineage, by = c(\"Lineage\"=\"lineage\"))"
   ]
  },
  {
   "cell_type": "code",
   "execution_count": null,
   "id": "f17eaf0d-713d-45cd-afb4-8fd943828f83",
   "metadata": {},
   "outputs": [],
   "source": [
    "dfsort <- df %>%\n",
    "    select(Lineage,dM) %>%\n",
    "    arrange(-dM)\n",
    "\n",
    "df$Lineage <- factor(df$Lineage,levels = dfsort$Lineage)\n",
    "df <- df %>%\n",
    "    mutate(Wilcox_less_P_sig = if_else(Wilcox_less_P <0.05, 1,0))\n",
    "df"
   ]
  },
  {
   "cell_type": "code",
   "execution_count": null,
   "id": "b1deafd7-73e7-4325-868f-5519c2a5dfe7",
   "metadata": {},
   "outputs": [],
   "source": [
    "options(repr.plot.width=9, repr.plot.height=4, jupyter.plot_mimetypes = \"image/svg+xml\")\n",
    "p1 <- ggplot(data=df) +geom_lollipop(aes(x=Lineage,y=dM,color=Lineage),point.size=4) + guides(colour = \"none\") +\n",
    "ylab(\"Stability change, %\") + theme(\n",
    "    text = element_text(size = 20),\n",
    "    axis.title.y = element_text(size = 14),\n",
    "    axis.title.x = element_text(size = 14),\n",
    "    axis.text.x = element_text(angle = 90)\n",
    ") + \n",
    "geom_hline(yintercept = 0, color=\"red\")\n",
    "\n",
    "p1"
   ]
  },
  {
   "cell_type": "code",
   "execution_count": null,
   "id": "61db7e44-4f94-4337-a831-47bd48188be4",
   "metadata": {},
   "outputs": [],
   "source": [
    "df <- df %>%\n",
    "    mutate(Anova_zip_P_sig = if_else(Anova_zip_P <= 0.01, T, F)) %>%\n",
    "    mutate(Wilcox_twotailed_P_sig = if_else(Wilcox_twotailed_P <= 0.05,\"p ≤ 0.05\",\"p > 0.05\"))\n",
    "df"
   ]
  },
  {
   "cell_type": "code",
   "execution_count": null,
   "id": "e0512d13-6948-4f4a-834a-7e2c32f70767",
   "metadata": {},
   "outputs": [],
   "source": [
    "dates_data <- df %>%\n",
    "   select(starts_with(\"week\"),starts_with(\"month\"),starts_with(\"quarter\"))\n",
    "for (n in names(dates_data)) {\n",
    "    dates_data[[n]] = as.numeric(dates_data[[n]])\n",
    "}\n",
    "nrow(dates_data)\n",
    "data_of_interest <- df %>%\n",
    "    select(-starts_with(\"week\"), -starts_with(\"month\"), -starts_with(\"quarter\"), -Lineage)\n",
    "# plot(dates_data$quarter, data_of_interest$Mean_Lineage)"
   ]
  },
  {
   "cell_type": "code",
   "execution_count": null,
   "id": "ce2622d9-9e0e-46d8-afaa-6500b68fe30b",
   "metadata": {},
   "outputs": [],
   "source": [
    "options(repr.plot.width=5, repr.plot.height=4)\n",
    "\n",
    "cort = cor.test(df$dM,as.numeric(df$month_peak))\n",
    "p = round(cort$p.value, digits = 3)\n",
    "r = round(cort$estimate, digits = 2) \n",
    "\n",
    "pairplot <- ggplot(data=df, aes(x = month_peak, y=dM, label=Lineage)) + geom_point(aes(size=Counts, color = Wilcox_twotailed_P_sig)) + geom_smooth(method = \"lm\", se = T, aes(x = month_peak, y=dM)) +\n",
    "scale_size(range=c(2.1,4), name=\"Abundance\") + xlab(\"Month of maximum abundance\") + ylab(\"Estimation\") +  theme(text = element_text(size = 9),axis.text.x = element_text(size = 5))+\n",
    "geom_text_repel(size=2.5) +\n",
    "annotate(geom = \"text\", x = min(df$month_peak), y = max(df$dM), label = paste(\"r = \",r, \" p = \",p,sep = \"\"), hjust = \"left\", size = 3) +\n",
    "labs(color=\"Wilcoxon\") +\n",
    "ylab(\"Difference in stability, %\")\n",
    "\n",
    "ggsave(\"pairplot.svg\", plot = pairplot, width = 5, height = 4)\n",
    "pairplot\n",
    "#pairplot\n",
    "\n",
    "# + facet_grid2(cols = vars(Measure),scales=\"free\",  independent = \"y\")"
   ]
  },
  {
   "cell_type": "code",
   "execution_count": null,
   "id": "0c2a6a11-ef79-4c0a-92fd-7feca14fd828",
   "metadata": {},
   "outputs": [],
   "source": [
    "# Analysis on taking all together distance"
   ]
  },
  {
   "cell_type": "code",
   "execution_count": null,
   "id": "29145230-ea91-453e-bb85-3b5f61685712",
   "metadata": {},
   "outputs": [],
   "source": [
    "df2 <- fread(snakemake@input$stabilities_common) %>%\n",
    "    select(-.group) %>%\n",
    "    rename(Lineage=Sample) %>%\n",
    "    left_join(abundance_dates_per_lineage, by = c(\"Lineage\"=\"lineage\"))\n",
    "df2"
   ]
  },
  {
   "cell_type": "code",
   "execution_count": null,
   "id": "3cf0b1c3-cc3b-48e6-9bcb-0a66c16917e9",
   "metadata": {},
   "outputs": [],
   "source": [
    "dates_data <- df2 %>%\n",
    "   select(starts_with(\"week\"),starts_with(\"month\"),starts_with(\"quarter\"))\n",
    "for (n in names(dates_data)) {\n",
    "    dates_data[[n]] = as.numeric(dates_data[[n]])\n",
    "}\n",
    "nrow(dates_data)\n",
    "data_of_interest <- df2 %>%\n",
    "    select(-starts_with(\"week\"), -starts_with(\"month\"), -starts_with(\"quarter\"), -Lineage) %>%\n",
    "    select(where(is.numeric))\n",
    "\n",
    "cor(dates_data, data_of_interest)\n",
    "# plot(dates_data$quarter, data_of_interest$Mean_Lineage)"
   ]
  },
  {
   "cell_type": "code",
   "execution_count": null,
   "id": "4040b27c-b44d-4f3e-9382-ea98a66b53e1",
   "metadata": {},
   "outputs": [],
   "source": [
    "df2 <- df2 %>%\n",
    "    select(Lineage,month_peak, emmean,asymp.LCL,asymp.UCL, Counts )"
   ]
  },
  {
   "cell_type": "code",
   "execution_count": null,
   "id": "e5b4a983-b86d-41d3-bc5b-885c92209c43",
   "metadata": {},
   "outputs": [],
   "source": [
    "options(repr.plot.width=5, repr.plot.height=4)\n",
    "\n",
    "cort = cor.test(df2$asymp.LCL,as.numeric(df2$month_peak))\n",
    "p = round(cort$p.value, digits = 4)\n",
    "r = round(cort$estimate, digits = 2) \n",
    "\n",
    "cort2 = cor.test(df2$emmean,as.numeric(df2$month_peak))\n",
    "p2 = round(cort2$p.value, digits = 4)\n",
    "r2 = round(cort2$estimate, digits = 2) \n",
    "\n",
    "commonplot <- ggplot(data=df2, aes(x = month_peak, y=asymp.LCL, label=Lineage)) + geom_point(aes(size=Counts)) + geom_smooth(method = \"lm\", se = T, aes(x = month_peak, y=asymp.LCL)) +\n",
    "scale_size(range=c(2.1,4), name=\"Abundance\") + xlab(\"Month of maximum abundance\") + ylab(\"Estimation\") +  theme(text = element_text(size = 9),axis.text.x = element_text(size = 5))+\n",
    "geom_text_repel(size=2.5) +\n",
    "annotate(geom = \"text\", x = min(df$month_peak), y = max(df$emmean), label = paste(\"asymp.LCL, \",\"r = \",r, \" p = \",p,sep = \"\"), hjust = \"left\", size = 3) +\n",
    "annotate(geom = \"text\", x = min(df$month_peak), y = max(df$emmean)*1.05, label = paste(\"emean, \",\"r = \",r2, \" p = \",p2,sep = \"\"), hjust = \"left\", size = 3) +\n",
    "\n",
    "labs(color=\"Wilcoxon\") +\n",
    "ylab(\"asymp.LCL, days\")\n",
    "\n",
    "#ggsave(\"pairplot.svg\", plot = pairplot, width = 10, height = 8)\n",
    "commonplot"
   ]
  },
  {
   "cell_type": "code",
   "execution_count": null,
   "id": "1a28741d-837f-43bf-927c-44bc55be91da",
   "metadata": {},
   "outputs": [],
   "source": [
    "options(repr.plot.width=10, repr.plot.height=4)\n",
    "pairplot | commonplot \n"
   ]
  },
  {
   "cell_type": "code",
   "execution_count": null,
   "id": "2d91a2a2-bc1d-4f1e-adb8-5c53efcd8743",
   "metadata": {},
   "outputs": [],
   "source": [
    "\n",
    "dfboth <- df2 %>%\n",
    "    select(-Counts) %>%\n",
    "    left_join(df, by = \"Lineage\") %>%\n",
    "    select(Lineage,dM, emmean, asymp.LCL, asymp.UCL, Counts) %>%\n",
    "    pivot_longer(cols = c(\"dM\",\"emmean\"),names_to = \"Measure\",values_to = \"Value\" ) %>%\n",
    "    mutate(asymp.LCL = if_else(Measure != \"dM\",asymp.LCL, NA)) %>%\n",
    "    mutate(asymp.UCL = if_else(Measure != \"dM\",asymp.LCL, NA))\n",
    "\n",
    "dfbothLineagerank <-  df %>%\n",
    "    arrange(-dM)\n",
    "dfboth$Lineage <- factor(dfboth$Lineage, levels = dfbothLineagerank$Lineage)\n",
    "\n"
   ]
  },
  {
   "cell_type": "code",
   "execution_count": null,
   "id": "a5a07392-9730-4a53-a52d-fbdb684d146d",
   "metadata": {},
   "outputs": [],
   "source": [
    "p1 <- ggplot(data=dfboth) +geom_lollipop(aes(x=Lineage,y=Value,color=Lineage),point.size=4) + guides(colour = \"none\") +\n",
    "ylab(\"Stability change, %\") + theme(\n",
    "    text = element_text(size = 20),\n",
    "    axis.title.y = element_text(size = 14),\n",
    "    axis.title.x = element_text(size = 14),\n",
    "    axis.text.x = element_text(angle = 90)\n",
    ") + \n",
    "geom_hline(yintercept = 0, color=\"red\") +\n",
    "facet_wrap(~Measure,  ncol=1, scales = \"free\")\n",
    "\n",
    "dfboth"
   ]
  }
 ],
 "metadata": {
  "kernelspec": {
   "display_name": "R",
   "language": "R",
   "name": "ir"
  },
  "language_info": {
   "codemirror_mode": "r",
   "file_extension": ".r",
   "mimetype": "text/x-r-source",
   "name": "R",
   "pygments_lexer": "r",
   "version": "4.2.3"
  }
 },
 "nbformat": 4,
 "nbformat_minor": 5
}
