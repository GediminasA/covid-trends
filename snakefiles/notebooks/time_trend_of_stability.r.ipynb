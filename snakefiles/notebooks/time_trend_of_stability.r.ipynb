{
 "cells": [
  {
   "cell_type": "code",
   "execution_count": null,
   "id": "5d1abdac",
   "metadata": {},
   "outputs": [],
   "source": [
    "library(dplyr)\n",
    "library(data.table)\n",
    "library(tidyverse)\n",
    "library(ggplot2)\n",
    "library(ggalt)\n",
    "library(viridis)\n",
    "library(patchwork)\n",
    "library(lubridate)\n",
    "library(ggh4x)\n",
    "library(ggrepel)"
   ]
  },
  {
   "cell_type": "markdown",
   "id": "57a34203-758f-4293-bbe4-d1a215f2a021",
   "metadata": {},
   "source": [
    "# Analysis on pairwise distance"
   ]
  },
  {
   "cell_type": "code",
   "execution_count": null,
   "id": "28904ffc-a5ef-43b1-9a97-26859fa4ab48",
   "metadata": {},
   "outputs": [],
   "source": [
    "df <- fread(snakemake@input$stabilities_pairwise) %>%\n",
    "    mutate(dM = (Mean_Lineage - Mean_Ref_Lineage)/Mean_Ref_Lineage*100)\n",
    "names(df)"
   ]
  },
  {
   "cell_type": "code",
   "execution_count": null,
   "id": "f17eaf0d-713d-45cd-afb4-8fd943828f83",
   "metadata": {},
   "outputs": [],
   "source": [
    "dfsort <- df %>%\n",
    "    select(Lineage,dM) %>%\n",
    "    arrange(-dM)\n",
    "df$Lineage <- factor(df$Lineage,levels = dfsort$Lineage)\n",
    "df <- df %>%\n",
    "    mutate(Wilcox_less_P_sig = if_else(Wilcox_less_P <0.05, 1,0))\n",
    "df"
   ]
  },
  {
   "cell_type": "code",
   "execution_count": null,
   "id": "b1deafd7-73e7-4325-868f-5519c2a5dfe7",
   "metadata": {},
   "outputs": [],
   "source": [
    "options(repr.plot.width=9, repr.plot.height=4, jupyter.plot_mimetypes = \"image/svg+xml\")\n",
    "p1 <- ggplot(data=df) +geom_lollipop(aes(x=Lineage,y=dM,color=Lineage),point.size=4) + guides(colour = \"none\") +\n",
    "ylab(\"Stability change, %\") + theme(text = element_text(size = 20),axis.title.y = element_text(size = 14)) + geom_hline(yintercept = 0, color=\"red\")\n",
    "\n",
    "p1"
   ]
  },
  {
   "cell_type": "code",
   "execution_count": null,
   "id": "5860cec0-87f7-44bd-851e-4ed9602a6c8a",
   "metadata": {},
   "outputs": [],
   "source": [
    "dfP <- df %>%\n",
    "    select(Lineage, ends_with(\"P\")) %>%\n",
    "    pivot_longer(cols = ends_with(\"P\"),values_to = \"Values\", names_to = \"Measures\") %>%\n",
    "    mutate(Sig = if_else(Values < 0.05,0,1)) %>%\n",
    "    filter(grepl(\"zinb\",Measures) | grepl(\"Wil\",Measures))\n",
    "p2 <- ggplot(data = dfP) + geom_label(aes(x=Lineage, y=1,color=factor(Sig),label=format(round(Values,digits = 2), nsmall = 2  ) ) ) + facet_grid(vars(Measures)) +\n",
    "guides(colour = \"none\") +\n",
    "theme_bw() + theme(panel.border = element_blank(), panel.grid.major = element_blank(),\n",
    "panel.grid.minor = element_blank(), axis.line = element_line(colour = \"white\"),strip.text.y.right = element_text(angle = 0, size=12, face=\"bold\"),\n",
    "        axis.title.x=element_blank(),\n",
    "        axis.text.x=element_blank(),\n",
    "        axis.ticks.x=element_blank(),\n",
    "        axis.title.y=element_blank(),\n",
    "        axis.text.y=element_blank(),\n",
    "        axis.ticks.y=element_blank(),\n",
    ") +\n",
    "ylab(\"\") + xlab(\"\")\n",
    "df"
   ]
  }
 ],
 "metadata": {
  "kernelspec": {
   "display_name": "R",
   "language": "R",
   "name": "ir"
  },
  "language_info": {
   "codemirror_mode": "r",
   "file_extension": ".r",
   "mimetype": "text/x-r-source",
   "name": "R",
   "pygments_lexer": "r",
   "version": "4.2.3"
  }
 },
 "nbformat": 4,
 "nbformat_minor": 5
}
