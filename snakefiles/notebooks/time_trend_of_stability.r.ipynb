{
 "cells": [
  {
   "cell_type": "code",
   "execution_count": null,
   "id": "5d1abdac",
   "metadata": {},
   "outputs": [],
   "source": [
    "library(dplyr)\n",
    "library(data.table)\n",
    "library(tidyverse)\n",
    "library(ggplot2)\n",
    "library(ggalt)\n",
    "library(viridis)\n",
    "library(patchwork)\n",
    "library(lubridate)\n",
    "library(ggh4x)\n",
    "library(ggrepel)\n",
    "library(ggpubr)\n",
    "library(svglite)"
   ]
  },
  {
   "cell_type": "markdown",
   "id": "57a34203-758f-4293-bbe4-d1a215f2a021",
   "metadata": {},
   "source": [
    "# Analysis on pairwise distance"
   ]
  },
  {
   "cell_type": "code",
   "execution_count": null,
   "id": "28904ffc-a5ef-43b1-9a97-26859fa4ab48",
   "metadata": {},
   "outputs": [],
   "source": [
    "df <- fread(snakemake@input$stabilities_pairwise) %>%\n",
    "    mutate(dM = (Mean_Lineage - Mean_Ref_Lineage)/Mean_Ref_Lineage*100)\n",
    "names(df)"
   ]
  },
  {
   "cell_type": "code",
   "execution_count": null,
   "id": "aab78f5a-c3f3-43f4-8db5-e8c922e913ca",
   "metadata": {},
   "outputs": [],
   "source": [
    "abundance_dates_per_lineage = fread(snakemake@input$abundance_dates_per_lineage)\n",
    "df <- df %>%\n",
    "    left_join(abundance_dates_per_lineage, by = c(\"Lineage\"=\"lineage\"))"
   ]
  },
  {
   "cell_type": "code",
   "execution_count": null,
   "id": "f17eaf0d-713d-45cd-afb4-8fd943828f83",
   "metadata": {},
   "outputs": [],
   "source": [
    "dfsort <- df %>%\n",
    "    select(Lineage,dM) %>%\n",
    "    arrange(-dM)\n",
    "\n",
    "df$Lineage <- factor(df$Lineage,levels = dfsort$Lineage)\n",
    "df <- df %>%\n",
    "    mutate(Wilcox_less_P_sig = if_else(Wilcox_less_P <0.05, 1,0))\n",
    "df"
   ]
  },
  {
   "cell_type": "code",
   "execution_count": null,
   "id": "b1deafd7-73e7-4325-868f-5519c2a5dfe7",
   "metadata": {},
   "outputs": [],
   "source": [
    "options(repr.plot.width=9, repr.plot.height=4, jupyter.plot_mimetypes = \"image/svg+xml\")\n",
    "p1 <- ggplot(data=df) +geom_lollipop(aes(x=Lineage,y=dM,color=Lineage),point.size=4) + guides(colour = \"none\") +\n",
    "ylab(\"Stability change, %\") + theme(\n",
    "    text = element_text(size = 20),\n",
    "    axis.title.y = element_text(size = 14),\n",
    "    axis.title.x = element_text(size = 14),\n",
    "    axis.text.x = element_text(angle = 90)\n",
    ") + \n",
    "geom_hline(yintercept = 0, color=\"red\") +\n",
    "geom_text(aes(x=Lineage,y=0,label = round(dM, digits = 2)),vjust = -1)\n",
    "\n",
    "p1"
   ]
  },
  {
   "cell_type": "code",
   "execution_count": null,
   "id": "61db7e44-4f94-4337-a831-47bd48188be4",
   "metadata": {},
   "outputs": [],
   "source": [
    "df <- df %>%\n",
    "    mutate(Anova_zip_P_sig = if_else(Anova_zip_P <= 0.01, T, F)) %>%\n",
    "    mutate(Wilcox_twotailed_P_sig = if_else(Wilcox_twotailed_P <= 0.05,\"p ≤ 0.05\",\"p > 0.05\"))\n",
    "df"
   ]
  },
  {
   "cell_type": "code",
   "execution_count": null,
   "id": "9a0f9c9c-3ce0-4e70-834f-e52a1d521a0c",
   "metadata": {},
   "outputs": [],
   "source": [
    "options(repr.plot.width=9, repr.plot.height=1.5, jupyter.plot_mimetypes = \"image/svg+xml\")\n",
    "df4an <- df %>%\n",
    "    select(Lineage, `ANOVA ZINB, p` = Anova_zinb_P, \n",
    "           `Wilcoxon less, p` = Wilcox_less_P,\n",
    "           `Wilcoxon greater, p` = Wilcox_greater_P,\n",
    "           `Wilcoxon two tailed, p` = Wilcox_twotailed_P ) %>%\n",
    "    pivot_longer(cols = c(\"ANOVA ZINB, p\",\"Wilcoxon less, p\",\"Wilcoxon greater, p\",\"Wilcoxon two tailed, p\")) %>%\n",
    "    mutate(Significant=if_else(value <= 0.05, \"p ≤ 0.05\", \"p > 0.05\"))\n",
    "df4an$name <- factor(df4an$name, levels = c(\"ANOVA ZINB, p\",\"Wilcoxon less, p\",\"Wilcoxon greater, p\",\"Wilcoxon two tailed, p\"))\n",
    "df4an$Lineage <- factor(df4an$Lineage,levels = dfsort$Lineage)\n",
    "\n",
    "p1sig <- ggplot(df4an) + geom_point(aes(x = Lineage, y = name),alpha = 0.0) +\n",
    "    geom_label(aes(x = Lineage, y = name, label = round(value, digits = 3), color = Significant)) +\n",
    "    ylab(\"Statistcal test\") + xlab(\"\") +\n",
    " theme(axis.text.x=element_blank(), #remove x axis labels\n",
    "        axis.ticks.x=element_blank(), #remove x axis ticks\n",
    "       )\n",
    "p1sig\n",
    "    "
   ]
  },
  {
   "cell_type": "code",
   "execution_count": null,
   "id": "196e8f70-60f7-4882-9dc7-fa4e34f6588b",
   "metadata": {},
   "outputs": [],
   "source": [
    "options(repr.plot.width=9, repr.plot.height=5.5, jupyter.plot_mimetypes = \"image/svg+xml\")\n",
    "\n",
    "p1sig/p1 +   plot_layout(heights = c(1, 2))"
   ]
  },
  {
   "cell_type": "code",
   "execution_count": null,
   "id": "a4cd0a07-e9de-4fed-af50-fc2560d399ed",
   "metadata": {},
   "outputs": [],
   "source": [
    "names(df)"
   ]
  },
  {
   "cell_type": "code",
   "execution_count": null,
   "id": "e0512d13-6948-4f4a-834a-7e2c32f70767",
   "metadata": {},
   "outputs": [],
   "source": [
    "dates_data <- df %>%\n",
    "   select(starts_with(\"week\"),starts_with(\"month\"),starts_with(\"quarter\"))\n",
    "for (n in names(dates_data)) {\n",
    "    dates_data[[n]] = as.numeric(dates_data[[n]])\n",
    "}\n",
    "nrow(dates_data)\n",
    "data_of_interest <- df %>%\n",
    "    select(-starts_with(\"week\"), -starts_with(\"month\"), -starts_with(\"quarter\"), -Lineage)\n",
    "# plot(dates_data$quarter, data_of_interest$Mean_Lineage)"
   ]
  },
  {
   "cell_type": "code",
   "execution_count": null,
   "id": "ce2622d9-9e0e-46d8-afaa-6500b68fe30b",
   "metadata": {},
   "outputs": [],
   "source": [
    "options(repr.plot.width=5, repr.plot.height=4)\n",
    "\n",
    "cort = cor.test(df$dM,as.numeric(df$month_peak))\n",
    "p = round(cort$p.value, digits = 3)\n",
    "r = round(cort$estimate, digits = 2) \n",
    "\n",
    "pairplot <- ggplot(data=df, aes(x = month_peak, y=dM, label=Lineage)) + geom_point(aes(size=Counts, color = Wilcox_twotailed_P_sig)) + geom_smooth(method = \"lm\", se = T, aes(x = month_peak, y=dM)) +\n",
    "scale_size(range=c(2.1,4), name=\"Abundance\") + xlab(\"Month of maximum abundance\") + ylab(\"Estimation\") +  theme(text = element_text(size = 11),axis.text.x = element_text(size = 8))+\n",
    "geom_text_repel(size=2.5) +\n",
    "annotate(geom = \"text\", x = min(df$month_peak), y = max(df$dM), label = paste(\"r = \",r, \" p = \",p,sep = \"\"), hjust = \"left\", size = 3) +\n",
    "labs(color=\"Wilcoxon\") +\n",
    "ylab(\"Difference in stability, %\")\n",
    "\n",
    "ggsave(\"pairplot.svg\", plot = pairplot, width = 5, height = 4)\n",
    "pairplot\n",
    "#pairplot\n",
    "\n",
    "# + facet_grid2(cols = vars(Measure),scales=\"free\",  independent = \"y\")"
   ]
  },
  {
   "cell_type": "code",
   "execution_count": null,
   "id": "0c2a6a11-ef79-4c0a-92fd-7feca14fd828",
   "metadata": {},
   "outputs": [],
   "source": [
    "# Analysis on taking all together distance"
   ]
  },
  {
   "cell_type": "code",
   "execution_count": null,
   "id": "29145230-ea91-453e-bb85-3b5f61685712",
   "metadata": {},
   "outputs": [],
   "source": [
    "df2 <- fread(snakemake@input$stabilities_common) %>%\n",
    "    select(-.group) %>%\n",
    "    rename(Lineage=Sample) %>%\n",
    "    left_join(abundance_dates_per_lineage, by = c(\"Lineage\"=\"lineage\"))\n",
    "df2"
   ]
  },
  {
   "cell_type": "code",
   "execution_count": null,
   "id": "3cf0b1c3-cc3b-48e6-9bcb-0a66c16917e9",
   "metadata": {},
   "outputs": [],
   "source": [
    "dates_data <- df2 %>%\n",
    "   select(starts_with(\"week\"),starts_with(\"month\"),starts_with(\"quarter\"))\n",
    "for (n in names(dates_data)) {\n",
    "    dates_data[[n]] = as.numeric(dates_data[[n]])\n",
    "}\n",
    "nrow(dates_data)\n",
    "data_of_interest <- df2 %>%\n",
    "    select(-starts_with(\"week\"), -starts_with(\"month\"), -starts_with(\"quarter\"), -Lineage) %>%\n",
    "    select(where(is.numeric))\n",
    "\n",
    "cor(dates_data, data_of_interest)\n",
    "# plot(dates_data$quarter, data_of_interest$Mean_Lineage)"
   ]
  },
  {
   "cell_type": "code",
   "execution_count": null,
   "id": "4040b27c-b44d-4f3e-9382-ea98a66b53e1",
   "metadata": {},
   "outputs": [],
   "source": [
    "df2 <- df2 %>%\n",
    "    select(Lineage,month_peak, emmean,asymp.LCL,asymp.UCL, Counts )"
   ]
  },
  {
   "cell_type": "code",
   "execution_count": null,
   "id": "e5b4a983-b86d-41d3-bc5b-885c92209c43",
   "metadata": {},
   "outputs": [],
   "source": [
    "options(repr.plot.width=5, repr.plot.height=4)\n",
    "\n",
    "cort = cor.test(df2$asymp.LCL,as.numeric(df2$month_peak))\n",
    "p = round(cort$p.value, digits = 4)\n",
    "r = round(cort$estimate, digits = 2) \n",
    "\n",
    "cort2 = cor.test(df2$emmean,as.numeric(df2$month_peak))\n",
    "p2 = round(cort2$p.value, digits = 4)\n",
    "r2 = round(cort2$estimate, digits = 2) \n",
    "\n",
    "commonplot <- ggplot(data=df2, aes(x = month_peak, y=asymp.LCL, label=Lineage)) + geom_point(aes(size=Counts)) + geom_smooth(method = \"lm\", se = T, aes(x = month_peak, y=asymp.LCL)) +\n",
    "scale_size(range=c(2.1,4), name=\"Abundance\") + xlab(\"Month of maximum abundance\") + ylab(\"Estimation\") +  theme(text = element_text(size = 11),axis.text.x = element_text(size = 8))+\n",
    "geom_text_repel(size=2.5) +\n",
    "annotate(geom = \"text\", x = min(df2$month_peak), y = max(df2$asymp.LCL), label = paste(\"asymp.LCL, \",\"r = \",r, \" p = \",p,sep = \"\"), hjust = \"left\", size = 3) +\n",
    "annotate(geom = \"text\", x = min(df2$month_peak), y = max(df2$asymp.LCL)*1.05, label = paste(\"emean, \",\"r = \",r2, \" p = \",p2,sep = \"\"), hjust = \"left\", size = 3) +\n",
    "\n",
    "labs(color=\"Wilcoxon\") +\n",
    "ylab(\"asymp.LCL, days\")\n",
    "\n",
    "#ggsave(\"pairplot.svg\", plot = pairplot, width = 10, height = 8)\n",
    "commonplot"
   ]
  },
  {
   "cell_type": "code",
   "execution_count": null,
   "id": "1a28741d-837f-43bf-927c-44bc55be91da",
   "metadata": {},
   "outputs": [],
   "source": [
    "options(repr.plot.width=10, repr.plot.height=4)\n",
    "trends_plot <- pairplot | commonplot \n",
    "trends_plot\n",
    "fwrite(file = snakemake@output$time_trend_of_stability_data, x = df2)\n",
    "ggsave(snakemake@output$time_trend_of_stability_image, plot = trends_plot, width = 10, height = 4)"
   ]
  },
  {
   "cell_type": "code",
   "execution_count": null,
   "id": "2d91a2a2-bc1d-4f1e-adb8-5c53efcd8743",
   "metadata": {},
   "outputs": [],
   "source": [
    "\n",
    "dfboth <- df2 %>%\n",
    "    select(-Counts) %>%\n",
    "    left_join(df, by = \"Lineage\") %>%\n",
    "    select(Lineage,dM, emmean, asymp.LCL, asymp.UCL, Counts) %>%\n",
    "    pivot_longer(cols = c(\"dM\",\"emmean\"),names_to = \"Measure\",values_to = \"Value\" ) %>%\n",
    "    mutate(asymp.LCL = if_else(Measure != \"dM\",asymp.LCL, NA)) %>%\n",
    "    mutate(asymp.UCL = if_else(Measure != \"dM\",asymp.UCL, NA))\n",
    "\n",
    "dfbothLineagerank <-  df %>%\n",
    "    select(Lineage, dM) %>%\n",
    "    add_row(Lineage = \"BA.2\", dM = 0) %>%\n",
    "    arrange(-dM)\n",
    " \n",
    "\n",
    "dfboth$Lineage <- factor(dfboth$Lineage, levels = dfbothLineagerank$Lineage)"
   ]
  },
  {
   "cell_type": "code",
   "execution_count": null,
   "id": "a5a07392-9730-4a53-a52d-fbdb684d146d",
   "metadata": {},
   "outputs": [],
   "source": [
    "options(repr.plot.width=10, repr.plot.height=5)\n",
    "    \n",
    "p1 <- ggplot(data=dfboth) + geom_point(aes(x=Lineage,y=Value,color=Lineage),size=4, alpha = 0.8) + guides(colour = \"none\") +\n",
    "geom_lollipop(aes(x=Lineage,y=Value,color=Lineage),point.size=0, alpha = 0.8) + guides(colour = \"none\") +\n",
    "theme(\n",
    "    text = element_text(size = 16),\n",
    "    axis.title.y = element_text(size = 14),\n",
    "    axis.title.x = element_text(size = 15),\n",
    "    axis.text.x = element_text(angle = 90),\n",
    "    strip.background = element_blank(),\n",
    "    strip.placement = \"outside\"\n",
    ") + \n",
    "geom_hline(yintercept = 0, color=\"red\") +\n",
    "facet_wrap(~Measure,  ncol=1, scales = \"free_y\",\n",
    "           labeller = as_labeller(c(dM = \"Stability change, %\", emmean = \"emmean, days\") ),\n",
    "           strip.position = \"left\"\n",
    "          ) +\n",
    "geom_text(aes(x = Lineage, y = -Inf , label=round(Value, digits = 1)), vjust = -1, size = 4.0) +\n",
    "geom_errorbar(aes(ymin=asymp.LCL, ymax=asymp.UCL, x = Lineage)) +\n",
    "ylab(\"\")\n",
    "\n",
    "\n",
    "\n",
    "ggsave(snakemake@output$estimates_of_stability_image, plot = p1, width = 10, height = 5)\n",
    "fwrite(x = dfboth,file = snakemake@output$estimates_of_stability_data)"
   ]
  }
 ],
 "metadata": {
  "kernelspec": {
   "display_name": "R",
   "language": "R",
   "name": "ir"
  },
  "language_info": {
   "codemirror_mode": "r",
   "file_extension": ".r",
   "mimetype": "text/x-r-source",
   "name": "R",
   "pygments_lexer": "r",
   "version": "4.2.3"
  }
 },
 "nbformat": 4,
 "nbformat_minor": 5
}
