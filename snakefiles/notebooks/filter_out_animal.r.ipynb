{
 "cells": [
  {
   "cell_type": "code",
   "execution_count": 2,
   "id": "8c184683",
   "metadata": {},
   "outputs": [],
   "source": [
    "library(data.table)\n",
    "library(dtplyr)\n",
    "library(dplyr, warn.conflicts = FALSE)\n",
    "library(lubridate)"
   ]
  },
  {
   "cell_type": "code",
   "execution_count": 3,
   "id": "ef585419",
   "metadata": {},
   "outputs": [],
   "source": [
    "pangolin <- fread(snakemake@input$pangolin,showProgress = T,nThread = snakemake@threads,verbose = T) %>%\n",
    "    lazy_dt()"
   ]
  },
  {
   "cell_type": "code",
   "execution_count": 4,
   "id": "699d5e27",
   "metadata": {},
   "outputs": [],
   "source": [
    "nextclade <- fread(snakemake@input$nextclade,showProgress = T,nThread = snakemake@threads,verbose = T) %>%\n",
    "    lazy_dt()"
   ]
  },
  {
   "cell_type": "code",
   "execution_count": 5,
   "id": "fc56befb",
   "metadata": {},
   "outputs": [],
   "source": [
    "meta <- fread(snakemake@input$meta,showProgress = T,nThread = snakemake@threads,verbose = T) %>%\n",
    "    lazy_dt()"
   ]
  },
  {
   "cell_type": "code",
   "execution_count": 7,
   "id": "5652e003",
   "metadata": {},
   "outputs": [],
   "source": [
    "df <- pangolin %>%\n",
    "    left_join(meta,by=c(\"taxon\"=\"strain\")) %>%\n",
    "    left_join(nextclade,by=c(\"taxon\"=\"seqName\")) %>%\n",
    "    as.data.table()"
   ]
  },
  {
   "cell_type": "code",
   "execution_count": 9,
   "id": "2e68251e",
   "metadata": {},
   "outputs": [],
   "source": [
    "df <- df %>%\n",
    "    filter(country==\"Lithuania\") %>%\n",
    "    as.data.frame()"
   ]
  },
  {
   "cell_type": "code",
   "execution_count": 39,
   "id": "a82c08a1",
   "metadata": {},
   "outputs": [],
   "source": [
    "dfmink <- df %>%\n",
    "    filter(grepl(pattern = \"vison\",x = host)  | grepl(pattern = \"mink\",x = host,ignore.case = T)) %>%\n",
    "    filter(qc.overallStatus != \"bad\"  & totalMissing <= 1000) \n",
    "\n",
    "nrow(dfmink)\n"
   ]
  },
  {
   "cell_type": "code",
   "execution_count": 44,
   "id": "e55b1436",
   "metadata": {},
   "outputs": [],
   "source": [
    "fwrite(x = dfmink,file = snakemake@output$data)"
   ]
  },
  {
   "cell_type": "code",
   "execution_count": 43,
   "id": "00569eed",
   "metadata": {},
   "outputs": [],
   "source": [
    "ids <- dfmink %>%\n",
    "    select(taxon) %>%\n",
    "    as.data.table()\n",
    "fwrite(x = ids,file = snakemake@output$ids, col.names = F)"
   ]
  }
 ],
 "metadata": {
  "kernelspec": {
   "display_name": "R",
   "language": "R",
   "name": "ir"
  },
  "language_info": {
   "codemirror_mode": "r",
   "file_extension": ".r",
   "mimetype": "text/x-r-source",
   "name": "R",
   "pygments_lexer": "r",
   "version": "4.2.2"
  }
 },
 "nbformat": 4,
 "nbformat_minor": 5
}
