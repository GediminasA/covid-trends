{
 "cells": [
  {
   "cell_type": "code",
   "execution_count": null,
   "id": "0858a2ac",
   "metadata": {},
   "outputs": [],
   "source": [
    "library(data.table)\n",
    "library(dtplyr)\n",
    "library(dplyr, warn.conflicts = FALSE)\n",
    "library(lubridate)"
   ]
  },
  {
   "cell_type": "code",
   "execution_count": null,
   "id": "7d07550f",
   "metadata": {},
   "outputs": [],
   "source": [
    "pangolin <- fread(snakemake@input$pangolin,showProgress = T,nThread = snakemake@threads,verbose = T) %>%\n",
    "    lazy_dt()"
   ]
  },
  {
   "cell_type": "code",
   "execution_count": null,
   "id": "ec4e7d21",
   "metadata": {},
   "outputs": [],
   "source": [
    "nextclade <- fread(snakemake@input$nextclade,showProgress = T,nThread = snakemake@threads,verbose = T) %>%\n",
    "    lazy_dt()"
   ]
  },
  {
   "cell_type": "code",
   "execution_count": null,
   "id": "52e64baa",
   "metadata": {},
   "outputs": [],
   "source": [
    "meta <- fread(snakemake@input$meta,showProgress = T,nThread = snakemake@threads,verbose = T) %>%\n",
    "    lazy_dt()"
   ]
  },
  {
   "cell_type": "code",
   "execution_count": null,
   "id": "9bbb1344",
   "metadata": {},
   "outputs": [],
   "source": [
    "df <- pangolin %>%\n",
    "    left_join(meta,by=c(\"taxon\"=\"strain\")) %>%\n",
    "    left_join(nextclade,by=c(\"taxon\"=\"seqName\")) %>%\n",
    "    as.data.table() %>%\n",
    "    lazy_dt()"
   ]
  },
  {
   "cell_type": "code",
   "execution_count": null,
   "id": "ca292bec",
   "metadata": {},
   "outputs": [],
   "source": [
    "lineage4focus=snakemake@params$id"
   ]
  },
  {
   "cell_type": "code",
   "execution_count": null,
   "id": "14beb785-7dec-46d6-8157-d4e4744d7aa0",
   "metadata": {},
   "outputs": [],
   "source": [
    "df_focus = df %>%\n",
    "    lazy_dt() %>%\n",
    "    mutate(date = as.character(date)) %>%\n",
    "    filter(lineage==lineage4focus) %>%\n",
    "    filter(qc.overallStatus != \"bad\" & totalMissing <= 1000) %>%\n",
    "    filter(nchar(date)==10) %>%\n",
    "    filter(!grepl(pattern = \"/\",fixed = T, x = date)) %>%\n",
    "    filter(!grepl(pattern = \"X\",fixed = T, x = date)) %>%\n",
    "    mutate(date = date(date)) %>%\n",
    "    mutate(month = lubridate::floor_date(date, \"month\")) %>%\n",
    "    as.data.table() "
   ]
  },
  {
   "cell_type": "code",
   "execution_count": null,
   "id": "97ac89c4",
   "metadata": {},
   "outputs": [],
   "source": [
    "df_focus_per_month <- df_focus %>%\n",
    "    lazy_dt() %>%\n",
    "    group_by(month) %>%\n",
    "    summarise(N=n()) %>%\n",
    "    as.data.table()"
   ]
  },
  {
   "cell_type": "code",
   "execution_count": null,
   "id": "b7ae0571",
   "metadata": {},
   "outputs": [],
   "source": [
    "n_to_take = 3\n",
    "max_idx <- which.max(df_focus_per_month$N) \n",
    "min_idx = max_idx - n_to_take+1\n",
    "min_idx = ifelse(min_idx<1,min_idx,min_idx)\n",
    "months_to_take = df_focus_per_month$month[seq(min_idx,max_idx)]"
   ]
  },
  {
   "cell_type": "code",
   "execution_count": null,
   "id": "acb6bf43",
   "metadata": {},
   "outputs": [],
   "source": [
    "df_focus <- df_focus %>%\n",
    "    lazy_dt() %>%\n",
    "    filter(month %in% months_to_take) %>%\n",
    "    as.data.table()\n",
    "fwrite(x = df_focus,file = snakemake@output$data)"
   ]
  },
  {
   "cell_type": "code",
   "execution_count": null,
   "id": "ba95cb2d",
   "metadata": {},
   "outputs": [],
   "source": [
    "ids <- df_focus %>%\n",
    "    select(taxon) %>%\n",
    "    as.data.table()\n",
    "fwrite(x = ids,file = snakemake@output$ids, col.names = F)"
   ]
  }
 ],
 "metadata": {
  "kernelspec": {
   "display_name": "R",
   "language": "R",
   "name": "ir"
  },
  "language_info": {
   "codemirror_mode": "r",
   "file_extension": ".r",
   "mimetype": "text/x-r-source",
   "name": "R",
   "pygments_lexer": "r",
   "version": "4.2.3"
  }
 },
 "nbformat": 4,
 "nbformat_minor": 5
}
