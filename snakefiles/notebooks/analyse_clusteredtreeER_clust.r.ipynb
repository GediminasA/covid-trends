{
 "cells": [
  {
   "cell_type": "code",
   "execution_count": 3,
   "id": "19527acc",
   "metadata": {},
   "outputs": [],
   "source": [
    "library(ggplot2)\n",
    "library(dplyr)\n",
    "library(data.table)\n",
    "library(tidyr)"
   ]
  },
  {
   "cell_type": "code",
   "execution_count": 4,
   "id": "75149bdb",
   "metadata": {},
   "outputs": [],
   "source": [
    "df <- fread(snakemake@input[[1]]) %>%\n",
    "    select(Measure = V1, Lineage = V2, Value = V3)\n"
   ]
  },
  {
   "cell_type": "code",
   "execution_count": 5,
   "id": "f2172a7b",
   "metadata": {},
   "outputs": [],
   "source": [
    "#merge chronumental\n",
    "dfs <- list()\n",
    "ct = 0 \n",
    "for (ch in snakemake@input$chronumental) {\n",
    "    ct = ct + 1\n",
    "    dfs[[ct]] <- fread(ch)\n",
    "}\n",
    "df_chr <- bind_rows(dfs) %>%\n",
    "    select(Lineage = LINEAGE,CHR_startER = START_MUTATION_RATE, CHR_ER = MUTATION_RATE ) %>%\n",
    "    pivot_longer(cols = c(\"CHR_startER\",\"CHR_ER\"), values_to = \"Value\", names_to = \"Measure\")\n",
    "df <- bind_rows(df,df_chr) %>%\n",
    "    rowwise() %>%\n",
    "    filter(Measure %in% c(\"CHR_startER\",\"CHR_ER\",\"rate\"))"
   ]
  },
  {
   "cell_type": "code",
   "execution_count": 6,
   "id": "a91c577d",
   "metadata": {},
   "outputs": [],
   "source": [
    "\n",
    "df4rank <- df %>%\n",
    "    group_by(Lineage) %>%\n",
    "    summarise(M=mean(as.numeric(Value))) %>%\n",
    "    arrange(-M)\n",
    "df$Lineage <- factor(df$Lineage, levels = df4rank$Lineage)"
   ]
  },
  {
   "cell_type": "code",
   "execution_count": 7,
   "id": "85904b0a",
   "metadata": {},
   "outputs": [],
   "source": [
    "p <- ggplot(data = df, aes(x = Lineage, y = Value, color = Lineage)) + geom_point() + facet_grid(Measure ~ ., scales = \"free\")\n",
    "p"
   ]
  },
  {
   "cell_type": "code",
   "execution_count": 8,
   "id": "e9a2459c",
   "metadata": {},
   "outputs": [],
   "source": [
    "fwrite(x = df, snakemake@output[[1]])"
   ]
  },
  {
   "cell_type": "code",
   "execution_count": 10,
   "id": "82c829ef",
   "metadata": {},
   "outputs": [],
   "source": [
    "fwrite(x = df, \"iq1_unfiltered_seqs_chrom_on_timetree.csv\")"
   ]
  }
 ],
 "metadata": {
  "kernelspec": {
   "display_name": "R",
   "language": "R",
   "name": "ir"
  },
  "language_info": {
   "codemirror_mode": "r",
   "file_extension": ".r",
   "mimetype": "text/x-r-source",
   "name": "R",
   "pygments_lexer": "r",
   "version": "4.2.2"
  }
 },
 "nbformat": 4,
 "nbformat_minor": 5
}
