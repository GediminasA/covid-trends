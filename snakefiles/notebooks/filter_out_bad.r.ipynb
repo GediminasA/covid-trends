{
 "cells": [
  {
   "cell_type": "code",
   "execution_count": 2,
   "id": "91bf3097",
   "metadata": {},
   "outputs": [],
   "source": [
    "library(data.table)\n",
    "library(dtplyr)\n",
    "library(dplyr, warn.conflicts = FALSE)\n",
    "library(lubridate)"
   ]
  },
  {
   "cell_type": "code",
   "execution_count": 3,
   "id": "470b194a",
   "metadata": {},
   "outputs": [],
   "source": [
    "nextclade <- fread(snakemake@input$nextclade,showProgress = T,nThread = snakemake@threads,verbose = T) %>%\n",
    "    lazy_dt()"
   ]
  },
  {
   "cell_type": "code",
   "execution_count": 4,
   "id": "864a406d",
   "metadata": {},
   "outputs": [],
   "source": [
    "df <- nextclade %>%\n",
    "    filter(qc.overallStatus != \"bad\"  & totalMissing <= 1000) %>%\n",
    "    as.data.frame()\n",
    "\n",
    "nrow(df)\n"
   ]
  },
  {
   "cell_type": "code",
   "execution_count": 6,
   "id": "6e8526e8",
   "metadata": {},
   "outputs": [],
   "source": [
    "ids <- df %>%\n",
    "    select(seqName) %>%\n",
    "    as.data.table()\n",
    "fwrite(x = ids,file = snakemake@output$fasta, col.names = F)"
   ]
  }
 ],
 "metadata": {
  "kernelspec": {
   "display_name": "R",
   "language": "R",
   "name": "ir"
  },
  "language_info": {
   "codemirror_mode": "r",
   "file_extension": ".r",
   "mimetype": "text/x-r-source",
   "name": "R",
   "pygments_lexer": "r",
   "version": "4.2.2"
  }
 },
 "nbformat": 4,
 "nbformat_minor": 5
}
