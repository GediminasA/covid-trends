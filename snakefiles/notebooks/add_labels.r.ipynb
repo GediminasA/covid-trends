{
 "cells": [
  {
   "cell_type": "code",
   "execution_count": 16,
   "id": "3d4d2c2e",
   "metadata": {},
   "outputs": [],
   "source": [
    "library(ape)\n",
    "library(castor)"
   ]
  },
  {
   "cell_type": "code",
   "execution_count": 18,
   "id": "33d701d3",
   "metadata": {},
   "outputs": [],
   "source": [
    "tr <- read.tree(snakemake@input$tree)\n",
    "tr <- makeNodeLabel(tr, method = \"number\", prefix = \"NODE\")\n",
    "castor::write_tree(tree = tr,snakemake@output$tree)"
   ]
  }
 ],
 "metadata": {
  "kernelspec": {
   "display_name": "R",
   "language": "R",
   "name": "ir"
  },
  "language_info": {
   "codemirror_mode": "r",
   "file_extension": ".r",
   "mimetype": "text/x-r-source",
   "name": "R",
   "pygments_lexer": "r",
   "version": "4.2.2"
  }
 },
 "nbformat": 4,
 "nbformat_minor": 5
}
